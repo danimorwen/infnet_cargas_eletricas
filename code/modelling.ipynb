{
 "cells": [
  {
   "cell_type": "code",
   "execution_count": 1,
   "metadata": {},
   "outputs": [],
   "source": [
    "import pandas as pd\n",
    "import numpy as np\n",
    "import seaborn as sns\n",
    "import matplotlib.pyplot as plt\n",
    "\n",
    "from decouple import config\n",
    "from sklearn.preprocessing import StandardScaler\n",
    "from sklearn.model_selection import train_test_split\n",
    "from sklearn.decomposition import PCA\n",
    "from keras import Sequential\n",
    "from keras.layers import Input, Dense, Dropout\n",
    "\n"
   ]
  },
  {
   "cell_type": "code",
   "execution_count": 2,
   "metadata": {},
   "outputs": [],
   "source": [
    "csv_path = config(\"CSV_PATH\")"
   ]
  },
  {
   "cell_type": "code",
   "execution_count": 3,
   "metadata": {},
   "outputs": [],
   "source": [
    "df = pd.read_csv(csv_path)"
   ]
  },
  {
   "cell_type": "code",
   "execution_count": 4,
   "metadata": {},
   "outputs": [
    {
     "data": {
      "text/html": [
       "<div>\n",
       "<style scoped>\n",
       "    .dataframe tbody tr th:only-of-type {\n",
       "        vertical-align: middle;\n",
       "    }\n",
       "\n",
       "    .dataframe tbody tr th {\n",
       "        vertical-align: top;\n",
       "    }\n",
       "\n",
       "    .dataframe thead th {\n",
       "        text-align: right;\n",
       "    }\n",
       "</style>\n",
       "<table border=\"1\" class=\"dataframe\">\n",
       "  <thead>\n",
       "    <tr style=\"text-align: right;\">\n",
       "      <th></th>\n",
       "      <th>t0</th>\n",
       "      <th>t1</th>\n",
       "      <th>t2</th>\n",
       "      <th>t3</th>\n",
       "      <th>t4</th>\n",
       "      <th>t5</th>\n",
       "      <th>t6</th>\n",
       "      <th>t7</th>\n",
       "      <th>t8</th>\n",
       "      <th>t9</th>\n",
       "      <th>...</th>\n",
       "      <th>t191</th>\n",
       "      <th>t192</th>\n",
       "      <th>t193</th>\n",
       "      <th>t194</th>\n",
       "      <th>t195</th>\n",
       "      <th>t196</th>\n",
       "      <th>t197</th>\n",
       "      <th>t198</th>\n",
       "      <th>t199</th>\n",
       "      <th>Classes</th>\n",
       "    </tr>\n",
       "  </thead>\n",
       "  <tbody>\n",
       "    <tr>\n",
       "      <th>0</th>\n",
       "      <td>24.00</td>\n",
       "      <td>24.00</td>\n",
       "      <td>23.00</td>\n",
       "      <td>25.00</td>\n",
       "      <td>24.00</td>\n",
       "      <td>25.00</td>\n",
       "      <td>24.00</td>\n",
       "      <td>24.00</td>\n",
       "      <td>22.00</td>\n",
       "      <td>25.00</td>\n",
       "      <td>...</td>\n",
       "      <td>1.00</td>\n",
       "      <td>-1.00</td>\n",
       "      <td>1.00</td>\n",
       "      <td>-1.00</td>\n",
       "      <td>1.00</td>\n",
       "      <td>0.00</td>\n",
       "      <td>1.00</td>\n",
       "      <td>0.00</td>\n",
       "      <td>0.00</td>\n",
       "      <td>1</td>\n",
       "    </tr>\n",
       "    <tr>\n",
       "      <th>1</th>\n",
       "      <td>23.00</td>\n",
       "      <td>23.00</td>\n",
       "      <td>22.00</td>\n",
       "      <td>21.00</td>\n",
       "      <td>21.00</td>\n",
       "      <td>22.00</td>\n",
       "      <td>23.00</td>\n",
       "      <td>23.00</td>\n",
       "      <td>22.00</td>\n",
       "      <td>21.00</td>\n",
       "      <td>...</td>\n",
       "      <td>-1.00</td>\n",
       "      <td>1.00</td>\n",
       "      <td>0.00</td>\n",
       "      <td>1.00</td>\n",
       "      <td>-1.00</td>\n",
       "      <td>0.00</td>\n",
       "      <td>-1.00</td>\n",
       "      <td>1.00</td>\n",
       "      <td>0.00</td>\n",
       "      <td>1</td>\n",
       "    </tr>\n",
       "    <tr>\n",
       "      <th>2</th>\n",
       "      <td>-0.55</td>\n",
       "      <td>-0.55</td>\n",
       "      <td>-0.55</td>\n",
       "      <td>3.45</td>\n",
       "      <td>13.45</td>\n",
       "      <td>11.45</td>\n",
       "      <td>18.45</td>\n",
       "      <td>18.45</td>\n",
       "      <td>20.45</td>\n",
       "      <td>20.45</td>\n",
       "      <td>...</td>\n",
       "      <td>-0.55</td>\n",
       "      <td>0.45</td>\n",
       "      <td>-0.55</td>\n",
       "      <td>0.45</td>\n",
       "      <td>-0.55</td>\n",
       "      <td>0.45</td>\n",
       "      <td>-0.55</td>\n",
       "      <td>0.45</td>\n",
       "      <td>-0.55</td>\n",
       "      <td>1</td>\n",
       "    </tr>\n",
       "    <tr>\n",
       "      <th>3</th>\n",
       "      <td>12.30</td>\n",
       "      <td>10.30</td>\n",
       "      <td>15.30</td>\n",
       "      <td>15.30</td>\n",
       "      <td>16.30</td>\n",
       "      <td>15.30</td>\n",
       "      <td>17.30</td>\n",
       "      <td>16.30</td>\n",
       "      <td>17.30</td>\n",
       "      <td>15.30</td>\n",
       "      <td>...</td>\n",
       "      <td>-0.70</td>\n",
       "      <td>0.30</td>\n",
       "      <td>-0.70</td>\n",
       "      <td>0.30</td>\n",
       "      <td>-0.70</td>\n",
       "      <td>1.30</td>\n",
       "      <td>-0.70</td>\n",
       "      <td>1.30</td>\n",
       "      <td>-0.70</td>\n",
       "      <td>1</td>\n",
       "    </tr>\n",
       "    <tr>\n",
       "      <th>4</th>\n",
       "      <td>24.85</td>\n",
       "      <td>2.85</td>\n",
       "      <td>5.85</td>\n",
       "      <td>-1.15</td>\n",
       "      <td>2.85</td>\n",
       "      <td>-1.15</td>\n",
       "      <td>1.85</td>\n",
       "      <td>-1.15</td>\n",
       "      <td>0.85</td>\n",
       "      <td>-1.15</td>\n",
       "      <td>...</td>\n",
       "      <td>-0.15</td>\n",
       "      <td>0.85</td>\n",
       "      <td>-1.15</td>\n",
       "      <td>-0.15</td>\n",
       "      <td>-1.15</td>\n",
       "      <td>0.85</td>\n",
       "      <td>-0.15</td>\n",
       "      <td>0.85</td>\n",
       "      <td>-0.15</td>\n",
       "      <td>2</td>\n",
       "    </tr>\n",
       "  </tbody>\n",
       "</table>\n",
       "<p>5 rows × 201 columns</p>\n",
       "</div>"
      ],
      "text/plain": [
       "      t0     t1     t2     t3     t4     t5     t6     t7     t8     t9  ...  \\\n",
       "0  24.00  24.00  23.00  25.00  24.00  25.00  24.00  24.00  22.00  25.00  ...   \n",
       "1  23.00  23.00  22.00  21.00  21.00  22.00  23.00  23.00  22.00  21.00  ...   \n",
       "2  -0.55  -0.55  -0.55   3.45  13.45  11.45  18.45  18.45  20.45  20.45  ...   \n",
       "3  12.30  10.30  15.30  15.30  16.30  15.30  17.30  16.30  17.30  15.30  ...   \n",
       "4  24.85   2.85   5.85  -1.15   2.85  -1.15   1.85  -1.15   0.85  -1.15  ...   \n",
       "\n",
       "   t191  t192  t193  t194  t195  t196  t197  t198  t199  Classes  \n",
       "0  1.00 -1.00  1.00 -1.00  1.00  0.00  1.00  0.00  0.00        1  \n",
       "1 -1.00  1.00  0.00  1.00 -1.00  0.00 -1.00  1.00  0.00        1  \n",
       "2 -0.55  0.45 -0.55  0.45 -0.55  0.45 -0.55  0.45 -0.55        1  \n",
       "3 -0.70  0.30 -0.70  0.30 -0.70  1.30 -0.70  1.30 -0.70        1  \n",
       "4 -0.15  0.85 -1.15 -0.15 -1.15  0.85 -0.15  0.85 -0.15        2  \n",
       "\n",
       "[5 rows x 201 columns]"
      ]
     },
     "execution_count": 4,
     "metadata": {},
     "output_type": "execute_result"
    }
   ],
   "source": [
    "df.head()"
   ]
  },
  {
   "cell_type": "code",
   "execution_count": 5,
   "metadata": {},
   "outputs": [],
   "source": [
    "features = df.drop(\"Classes\", axis= 1)\n",
    "target = df[\"Classes\"]"
   ]
  },
  {
   "cell_type": "code",
   "execution_count": 6,
   "metadata": {},
   "outputs": [],
   "source": [
    "target_dummies = pd.get_dummies(target)"
   ]
  },
  {
   "cell_type": "code",
   "execution_count": 7,
   "metadata": {},
   "outputs": [],
   "source": [
    "scaler = StandardScaler()"
   ]
  },
  {
   "cell_type": "code",
   "execution_count": 8,
   "metadata": {},
   "outputs": [],
   "source": [
    "df_scaled = scaler.fit_transform(features)"
   ]
  },
  {
   "cell_type": "markdown",
   "metadata": {},
   "source": [
    "### PCA"
   ]
  },
  {
   "cell_type": "code",
   "execution_count": 9,
   "metadata": {},
   "outputs": [
    {
     "data": {
      "text/html": [
       "<style>#sk-container-id-1 {color: black;background-color: white;}#sk-container-id-1 pre{padding: 0;}#sk-container-id-1 div.sk-toggleable {background-color: white;}#sk-container-id-1 label.sk-toggleable__label {cursor: pointer;display: block;width: 100%;margin-bottom: 0;padding: 0.3em;box-sizing: border-box;text-align: center;}#sk-container-id-1 label.sk-toggleable__label-arrow:before {content: \"▸\";float: left;margin-right: 0.25em;color: #696969;}#sk-container-id-1 label.sk-toggleable__label-arrow:hover:before {color: black;}#sk-container-id-1 div.sk-estimator:hover label.sk-toggleable__label-arrow:before {color: black;}#sk-container-id-1 div.sk-toggleable__content {max-height: 0;max-width: 0;overflow: hidden;text-align: left;background-color: #f0f8ff;}#sk-container-id-1 div.sk-toggleable__content pre {margin: 0.2em;color: black;border-radius: 0.25em;background-color: #f0f8ff;}#sk-container-id-1 input.sk-toggleable__control:checked~div.sk-toggleable__content {max-height: 200px;max-width: 100%;overflow: auto;}#sk-container-id-1 input.sk-toggleable__control:checked~label.sk-toggleable__label-arrow:before {content: \"▾\";}#sk-container-id-1 div.sk-estimator input.sk-toggleable__control:checked~label.sk-toggleable__label {background-color: #d4ebff;}#sk-container-id-1 div.sk-label input.sk-toggleable__control:checked~label.sk-toggleable__label {background-color: #d4ebff;}#sk-container-id-1 input.sk-hidden--visually {border: 0;clip: rect(1px 1px 1px 1px);clip: rect(1px, 1px, 1px, 1px);height: 1px;margin: -1px;overflow: hidden;padding: 0;position: absolute;width: 1px;}#sk-container-id-1 div.sk-estimator {font-family: monospace;background-color: #f0f8ff;border: 1px dotted black;border-radius: 0.25em;box-sizing: border-box;margin-bottom: 0.5em;}#sk-container-id-1 div.sk-estimator:hover {background-color: #d4ebff;}#sk-container-id-1 div.sk-parallel-item::after {content: \"\";width: 100%;border-bottom: 1px solid gray;flex-grow: 1;}#sk-container-id-1 div.sk-label:hover label.sk-toggleable__label {background-color: #d4ebff;}#sk-container-id-1 div.sk-serial::before {content: \"\";position: absolute;border-left: 1px solid gray;box-sizing: border-box;top: 0;bottom: 0;left: 50%;z-index: 0;}#sk-container-id-1 div.sk-serial {display: flex;flex-direction: column;align-items: center;background-color: white;padding-right: 0.2em;padding-left: 0.2em;position: relative;}#sk-container-id-1 div.sk-item {position: relative;z-index: 1;}#sk-container-id-1 div.sk-parallel {display: flex;align-items: stretch;justify-content: center;background-color: white;position: relative;}#sk-container-id-1 div.sk-item::before, #sk-container-id-1 div.sk-parallel-item::before {content: \"\";position: absolute;border-left: 1px solid gray;box-sizing: border-box;top: 0;bottom: 0;left: 50%;z-index: -1;}#sk-container-id-1 div.sk-parallel-item {display: flex;flex-direction: column;z-index: 1;position: relative;background-color: white;}#sk-container-id-1 div.sk-parallel-item:first-child::after {align-self: flex-end;width: 50%;}#sk-container-id-1 div.sk-parallel-item:last-child::after {align-self: flex-start;width: 50%;}#sk-container-id-1 div.sk-parallel-item:only-child::after {width: 0;}#sk-container-id-1 div.sk-dashed-wrapped {border: 1px dashed gray;margin: 0 0.4em 0.5em 0.4em;box-sizing: border-box;padding-bottom: 0.4em;background-color: white;}#sk-container-id-1 div.sk-label label {font-family: monospace;font-weight: bold;display: inline-block;line-height: 1.2em;}#sk-container-id-1 div.sk-label-container {text-align: center;}#sk-container-id-1 div.sk-container {/* jupyter's `normalize.less` sets `[hidden] { display: none; }` but bootstrap.min.css set `[hidden] { display: none !important; }` so we also need the `!important` here to be able to override the default hidden behavior on the sphinx rendered scikit-learn.org. See: https://github.com/scikit-learn/scikit-learn/issues/21755 */display: inline-block !important;position: relative;}#sk-container-id-1 div.sk-text-repr-fallback {display: none;}</style><div id=\"sk-container-id-1\" class=\"sk-top-container\"><div class=\"sk-text-repr-fallback\"><pre>PCA()</pre><b>In a Jupyter environment, please rerun this cell to show the HTML representation or trust the notebook. <br />On GitHub, the HTML representation is unable to render, please try loading this page with nbviewer.org.</b></div><div class=\"sk-container\" hidden><div class=\"sk-item\"><div class=\"sk-estimator sk-toggleable\"><input class=\"sk-toggleable__control sk-hidden--visually\" id=\"sk-estimator-id-1\" type=\"checkbox\" checked><label for=\"sk-estimator-id-1\" class=\"sk-toggleable__label sk-toggleable__label-arrow\">PCA</label><div class=\"sk-toggleable__content\"><pre>PCA()</pre></div></div></div></div></div>"
      ],
      "text/plain": [
       "PCA()"
      ]
     },
     "execution_count": 9,
     "metadata": {},
     "output_type": "execute_result"
    }
   ],
   "source": [
    "pca = PCA()\n",
    "pca.fit(df_scaled)"
   ]
  },
  {
   "cell_type": "code",
   "execution_count": 10,
   "metadata": {},
   "outputs": [
    {
     "data": {
      "text/plain": [
       "100"
      ]
     },
     "execution_count": 10,
     "metadata": {},
     "output_type": "execute_result"
    }
   ],
   "source": [
    "pca.n_components_"
   ]
  },
  {
   "cell_type": "code",
   "execution_count": 11,
   "metadata": {},
   "outputs": [
    {
     "data": {
      "image/png": "[encoded data removed]",
      "text/plain": [
       "<Figure size 1080x360 with 1 Axes>"
      ]
     },
     "metadata": {
      "needs_background": "light"
     },
     "output_type": "display_data"
    }
   ],
   "source": [
    "plt.figure(figsize=(15,5))\n",
    "plt.bar(np.arange(1, 101), pca.explained_variance_)\n",
    "plt.xlabel('PCA Feature')\n",
    "plt.ylabel('Variance')\n",
    "plt.xticks(range(1, 101, 10))\n",
    "plt.xlim(0,51)\n",
    "plt.show()"
   ]
  },
  {
   "cell_type": "code",
   "execution_count": 12,
   "metadata": {},
   "outputs": [
    {
     "data": {
      "image/png": "[encoded data removed]",
      "text/plain": [
       "<Figure size 432x288 with 1 Axes>"
      ]
     },
     "metadata": {
      "needs_background": "light"
     },
     "output_type": "display_data"
    }
   ],
   "source": [
    "plt.plot(np.cumsum(pca.explained_variance_ratio_), color='black')\n",
    "plt.xlim(0,100)\n",
    "plt.yticks(np.arange(0, 1.1, 0.1))\n",
    "plt.axvline(30, c='b')\n",
    "plt.axhline(0.95, c='r')\n",
    "plt.grid()\n",
    "plt.show()"
   ]
  },
  {
   "cell_type": "code",
   "execution_count": 13,
   "metadata": {},
   "outputs": [],
   "source": [
    "pca = PCA(n_components=22)\n",
    "df_pca = pca.fit_transform(df_scaled)"
   ]
  },
  {
   "cell_type": "markdown",
   "metadata": {},
   "source": [
    "### Model without PCA"
   ]
  },
  {
   "cell_type": "code",
   "execution_count": 14,
   "metadata": {},
   "outputs": [],
   "source": [
    "x_train, x_test, y_train, y_test = train_test_split(df_scaled, target_dummies,\n",
    "                                                    test_size=0.3,\n",
    "                                                    random_state=42,\n",
    "                                                    stratify=target_dummies)"
   ]
  },
  {
   "cell_type": "code",
   "execution_count": 15,
   "metadata": {},
   "outputs": [],
   "source": [
    "n_features = x_train.shape[1]"
   ]
  },
  {
   "cell_type": "code",
   "execution_count": 16,
   "metadata": {},
   "outputs": [
    {
     "data": {
      "text/plain": [
       "200"
      ]
     },
     "execution_count": 16,
     "metadata": {},
     "output_type": "execute_result"
    }
   ],
   "source": [
    "n_features"
   ]
  },
  {
   "cell_type": "code",
   "execution_count": 17,
   "metadata": {},
   "outputs": [
    {
     "name": "stderr",
     "output_type": "stream",
     "text": [
      "2022-06-13 17:15:00.700745: I tensorflow/core/platform/cpu_feature_guard.cc:193] This TensorFlow binary is optimized with oneAPI Deep Neural Network Library (oneDNN) to use the following CPU instructions in performance-critical operations:  AVX2 AVX512F AVX512_VNNI FMA\n",
      "To enable them in other operations, rebuild TensorFlow with the appropriate compiler flags.\n"
     ]
    }
   ],
   "source": [
    "model = Sequential()\n",
    "model.add(Dense(n_features, activation=\"tanh\", input_shape=(n_features,)))\n",
    "model.add(Dense(128, activation=\"tanh\"))\n",
    "#model.add(Dense(64, activation=\"tanh\"))\n",
    "model.add(Dropout(0.50))\n",
    "model.add(Dense(7, activation=\"softmax\"))"
   ]
  },
  {
   "cell_type": "code",
   "execution_count": 18,
   "metadata": {},
   "outputs": [],
   "source": [
    "model.compile(optimizer=\"adam\", loss=\"categorical_crossentropy\", metrics=[\"accuracy\"])"
   ]
  },
  {
   "cell_type": "code",
   "execution_count": 19,
   "metadata": {},
   "outputs": [
    {
     "name": "stdout",
     "output_type": "stream",
     "text": [
      "Model: \"sequential\"\n",
      "_________________________________________________________________\n",
      " Layer (type)                Output Shape              Param #   \n",
      "=================================================================\n",
      " dense (Dense)               (None, 200)               40200     \n",
      "                                                                 \n",
      " dense_1 (Dense)             (None, 128)               25728     \n",
      "                                                                 \n",
      " dropout (Dropout)           (None, 128)               0         \n",
      "                                                                 \n",
      " dense_2 (Dense)             (None, 7)                 903       \n",
      "                                                                 \n",
      "=================================================================\n",
      "Total params: 66,831\n",
      "Trainable params: 66,831\n",
      "Non-trainable params: 0\n",
      "_________________________________________________________________\n"
     ]
    }
   ],
   "source": [
    "model.summary()"
   ]
  },
  {
   "cell_type": "code",
   "execution_count": 20,
   "metadata": {},
   "outputs": [
    {
     "name": "stdout",
     "output_type": "stream",
     "text": [
      "Epoch 1/15\n",
      "3/3 [==============================] - 1s 132ms/step - loss: 1.9667 - accuracy: 0.2571 - val_loss: 1.5226 - val_accuracy: 0.5000\n",
      "Epoch 2/15\n",
      "3/3 [==============================] - 0s 21ms/step - loss: 1.3741 - accuracy: 0.5143 - val_loss: 1.1675 - val_accuracy: 0.5667\n",
      "Epoch 3/15\n",
      "3/3 [==============================] - 0s 19ms/step - loss: 1.0938 - accuracy: 0.5857 - val_loss: 0.9589 - val_accuracy: 0.7000\n",
      "Epoch 4/15\n",
      "3/3 [==============================] - 0s 15ms/step - loss: 0.9810 - accuracy: 0.6429 - val_loss: 0.8319 - val_accuracy: 0.7333\n",
      "Epoch 5/15\n",
      "3/3 [==============================] - 0s 16ms/step - loss: 0.7404 - accuracy: 0.7429 - val_loss: 0.7268 - val_accuracy: 0.7333\n",
      "Epoch 6/15\n",
      "3/3 [==============================] - 0s 20ms/step - loss: 0.6156 - accuracy: 0.7857 - val_loss: 0.6314 - val_accuracy: 0.8000\n",
      "Epoch 7/15\n",
      "3/3 [==============================] - 0s 20ms/step - loss: 0.5667 - accuracy: 0.7429 - val_loss: 0.5642 - val_accuracy: 0.8000\n",
      "Epoch 8/15\n",
      "3/3 [==============================] - 0s 22ms/step - loss: 0.5021 - accuracy: 0.8571 - val_loss: 0.5085 - val_accuracy: 0.8333\n",
      "Epoch 9/15\n",
      "3/3 [==============================] - 0s 21ms/step - loss: 0.3994 - accuracy: 0.9143 - val_loss: 0.4615 - val_accuracy: 0.8667\n",
      "Epoch 10/15\n",
      "3/3 [==============================] - 0s 20ms/step - loss: 0.3659 - accuracy: 0.9143 - val_loss: 0.4274 - val_accuracy: 0.9000\n",
      "Epoch 11/15\n",
      "3/3 [==============================] - 0s 28ms/step - loss: 0.2737 - accuracy: 0.9429 - val_loss: 0.4009 - val_accuracy: 0.9000\n",
      "Epoch 12/15\n",
      "3/3 [==============================] - 0s 23ms/step - loss: 0.2275 - accuracy: 0.9857 - val_loss: 0.3711 - val_accuracy: 0.9000\n",
      "Epoch 13/15\n",
      "3/3 [==============================] - 0s 20ms/step - loss: 0.2312 - accuracy: 0.9714 - val_loss: 0.3338 - val_accuracy: 0.9000\n",
      "Epoch 14/15\n",
      "3/3 [==============================] - 0s 19ms/step - loss: 0.1595 - accuracy: 0.9857 - val_loss: 0.2965 - val_accuracy: 0.9667\n",
      "Epoch 15/15\n",
      "3/3 [==============================] - 0s 16ms/step - loss: 0.1696 - accuracy: 0.9857 - val_loss: 0.2683 - val_accuracy: 1.0000\n"
     ]
    }
   ],
   "source": [
    "hist = model.fit(x_train, y_train, epochs=15, validation_data=(x_test, y_test))"
   ]
  },
  {
   "cell_type": "code",
   "execution_count": 21,
   "metadata": {},
   "outputs": [
    {
     "name": "stdout",
     "output_type": "stream",
     "text": [
      "Train loss: 0.104790098965168\n",
      "Train acc: 1.0\n"
     ]
    }
   ],
   "source": [
    "loss, acc = model.evaluate(x_train, y_train, verbose=0)\n",
    "print(\"Train loss:\", loss)\n",
    "print(\"Train acc:\", acc)"
   ]
  },
  {
   "cell_type": "code",
   "execution_count": 22,
   "metadata": {},
   "outputs": [
    {
     "name": "stdout",
     "output_type": "stream",
     "text": [
      "Test loss: 0.268282949924469\n",
      "Test acc: 1.0\n"
     ]
    }
   ],
   "source": [
    "loss, acc = model.evaluate(x_test, y_test, verbose=0)\n",
    "print(\"Test loss:\", loss)\n",
    "print(\"Test acc:\", acc)"
   ]
  },
  {
   "cell_type": "code",
   "execution_count": 23,
   "metadata": {},
   "outputs": [
    {
     "data": {
      "image/png": "[encoded data removed]",
      "text/plain": [
       "<Figure size 432x288 with 1 Axes>"
      ]
     },
     "metadata": {
      "needs_background": "light"
     },
     "output_type": "display_data"
    }
   ],
   "source": [
    "plt.plot(hist.history['accuracy'])\n",
    "plt.plot(hist.history['val_accuracy'])\n",
    "plt.title('Acuracia por epoca')\n",
    "plt.xlabel('épocas')\n",
    "plt.ylabel('acurácia')\n",
    "plt.legend(['treino', 'validacao'])\n",
    "plt.show()"
   ]
  },
  {
   "cell_type": "code",
   "execution_count": 24,
   "metadata": {},
   "outputs": [
    {
     "data": {
      "image/png": "[encoded data removed]",
      "text/plain": [
       "<Figure size 432x288 with 1 Axes>"
      ]
     },
     "metadata": {
      "needs_background": "light"
     },
     "output_type": "display_data"
    }
   ],
   "source": [
    "plt.plot(hist.history['loss'])\n",
    "plt.plot(hist.history['val_loss'])\n",
    "plt.title('Perda por epoca')\n",
    "plt.xlabel('épocas')\n",
    "plt.ylabel('perda')\n",
    "plt.legend(['treino', 'validacao'])\n",
    "plt.show()"
   ]
  },
  {
   "cell_type": "code",
   "execution_count": 25,
   "metadata": {},
   "outputs": [],
   "source": [
    "#model.save(\"final_model_all_features.h5\")"
   ]
  },
  {
   "cell_type": "markdown",
   "metadata": {},
   "source": [
    "### Model with PCA"
   ]
  },
  {
   "cell_type": "code",
   "execution_count": 26,
   "metadata": {},
   "outputs": [],
   "source": [
    "x_train_pca, x_test_pca, y_train_pca, y_test_pca = train_test_split(df_pca, target_dummies,\n",
    "                                                    test_size=0.3,\n",
    "                                                    random_state=42,\n",
    "                                                    stratify=target_dummies)"
   ]
  },
  {
   "cell_type": "code",
   "execution_count": 27,
   "metadata": {},
   "outputs": [],
   "source": [
    "n_features = x_train_pca.shape[1]"
   ]
  },
  {
   "cell_type": "code",
   "execution_count": 28,
   "metadata": {},
   "outputs": [
    {
     "data": {
      "text/plain": [
       "22"
      ]
     },
     "execution_count": 28,
     "metadata": {},
     "output_type": "execute_result"
    }
   ],
   "source": [
    "n_features"
   ]
  },
  {
   "cell_type": "code",
   "execution_count": 29,
   "metadata": {},
   "outputs": [],
   "source": [
    "model = Sequential()\n",
    "model.add(Dense(n_features, activation=\"tanh\", input_shape=(n_features,)))\n",
    "model.add(Dense(16, activation=\"tanh\"))\n",
    "model.add(Dropout(0.30))\n",
    "model.add(Dense(7, activation=\"softmax\"))"
   ]
  },
  {
   "cell_type": "code",
   "execution_count": 30,
   "metadata": {},
   "outputs": [],
   "source": [
    "model.compile(optimizer=\"adam\", loss=\"categorical_crossentropy\", metrics=[\"accuracy\"])"
   ]
  },
  {
   "cell_type": "code",
   "execution_count": 31,
   "metadata": {},
   "outputs": [
    {
     "name": "stdout",
     "output_type": "stream",
     "text": [
      "Model: \"sequential_1\"\n",
      "_________________________________________________________________\n",
      " Layer (type)                Output Shape              Param #   \n",
      "=================================================================\n",
      " dense_3 (Dense)             (None, 22)                506       \n",
      "                                                                 \n",
      " dense_4 (Dense)             (None, 16)                368       \n",
      "                                                                 \n",
      " dropout_1 (Dropout)         (None, 16)                0         \n",
      "                                                                 \n",
      " dense_5 (Dense)             (None, 7)                 119       \n",
      "                                                                 \n",
      "=================================================================\n",
      "Total params: 993\n",
      "Trainable params: 993\n",
      "Non-trainable params: 0\n",
      "_________________________________________________________________\n"
     ]
    }
   ],
   "source": [
    "model.summary()"
   ]
  },
  {
   "cell_type": "code",
   "execution_count": 32,
   "metadata": {},
   "outputs": [
    {
     "name": "stdout",
     "output_type": "stream",
     "text": [
      "Epoch 1/200\n",
      "3/3 [==============================] - 0s 70ms/step - loss: 2.1986 - accuracy: 0.1714 - val_loss: 2.0112 - val_accuracy: 0.1000\n",
      "Epoch 2/200\n",
      "3/3 [==============================] - 0s 10ms/step - loss: 2.0809 - accuracy: 0.1571 - val_loss: 1.9594 - val_accuracy: 0.1667\n",
      "Epoch 3/200\n",
      "3/3 [==============================] - 0s 10ms/step - loss: 2.0098 - accuracy: 0.3000 - val_loss: 1.9085 - val_accuracy: 0.2000\n",
      "Epoch 4/200\n",
      "3/3 [==============================] - 0s 10ms/step - loss: 1.9521 - accuracy: 0.1857 - val_loss: 1.8620 - val_accuracy: 0.2000\n",
      "Epoch 5/200\n",
      "3/3 [==============================] - 0s 11ms/step - loss: 1.9301 - accuracy: 0.2286 - val_loss: 1.8170 - val_accuracy: 0.2667\n",
      "Epoch 6/200\n",
      "3/3 [==============================] - 0s 10ms/step - loss: 1.8609 - accuracy: 0.2571 - val_loss: 1.7739 - val_accuracy: 0.3333\n",
      "Epoch 7/200\n",
      "3/3 [==============================] - 0s 10ms/step - loss: 1.9527 - accuracy: 0.2429 - val_loss: 1.7335 - val_accuracy: 0.3667\n",
      "Epoch 8/200\n",
      "3/3 [==============================] - 0s 11ms/step - loss: 1.8837 - accuracy: 0.2429 - val_loss: 1.6960 - val_accuracy: 0.4667\n",
      "Epoch 9/200\n",
      "3/3 [==============================] - 0s 10ms/step - loss: 1.8057 - accuracy: 0.3000 - val_loss: 1.6606 - val_accuracy: 0.4667\n",
      "Epoch 10/200\n",
      "3/3 [==============================] - 0s 11ms/step - loss: 1.8347 - accuracy: 0.2857 - val_loss: 1.6272 - val_accuracy: 0.4667\n",
      "Epoch 11/200\n",
      "3/3 [==============================] - 0s 11ms/step - loss: 1.7681 - accuracy: 0.3286 - val_loss: 1.5951 - val_accuracy: 0.5333\n",
      "Epoch 12/200\n",
      "3/3 [==============================] - 0s 10ms/step - loss: 1.6409 - accuracy: 0.3571 - val_loss: 1.5646 - val_accuracy: 0.5667\n",
      "Epoch 13/200\n",
      "3/3 [==============================] - 0s 10ms/step - loss: 1.6206 - accuracy: 0.3571 - val_loss: 1.5356 - val_accuracy: 0.5667\n",
      "Epoch 14/200\n",
      "3/3 [==============================] - 0s 11ms/step - loss: 1.6604 - accuracy: 0.4000 - val_loss: 1.5072 - val_accuracy: 0.6333\n",
      "Epoch 15/200\n",
      "3/3 [==============================] - 0s 10ms/step - loss: 1.6149 - accuracy: 0.4286 - val_loss: 1.4799 - val_accuracy: 0.6333\n",
      "Epoch 16/200\n",
      "3/3 [==============================] - 0s 10ms/step - loss: 1.5316 - accuracy: 0.5000 - val_loss: 1.4533 - val_accuracy: 0.6333\n",
      "Epoch 17/200\n",
      "3/3 [==============================] - 0s 11ms/step - loss: 1.4969 - accuracy: 0.4571 - val_loss: 1.4280 - val_accuracy: 0.6333\n",
      "Epoch 18/200\n",
      "3/3 [==============================] - 0s 10ms/step - loss: 1.5659 - accuracy: 0.4000 - val_loss: 1.4038 - val_accuracy: 0.6333\n",
      "Epoch 19/200\n",
      "3/3 [==============================] - 0s 11ms/step - loss: 1.4525 - accuracy: 0.5143 - val_loss: 1.3806 - val_accuracy: 0.6333\n",
      "Epoch 20/200\n",
      "3/3 [==============================] - 0s 13ms/step - loss: 1.5269 - accuracy: 0.4000 - val_loss: 1.3580 - val_accuracy: 0.6333\n",
      "Epoch 21/200\n",
      "3/3 [==============================] - 0s 14ms/step - loss: 1.3890 - accuracy: 0.5286 - val_loss: 1.3361 - val_accuracy: 0.6667\n",
      "Epoch 22/200\n",
      "3/3 [==============================] - 0s 12ms/step - loss: 1.4161 - accuracy: 0.5143 - val_loss: 1.3143 - val_accuracy: 0.6667\n",
      "Epoch 23/200\n",
      "3/3 [==============================] - 0s 12ms/step - loss: 1.3303 - accuracy: 0.6143 - val_loss: 1.2935 - val_accuracy: 0.6667\n",
      "Epoch 24/200\n",
      "3/3 [==============================] - 0s 14ms/step - loss: 1.2932 - accuracy: 0.5286 - val_loss: 1.2737 - val_accuracy: 0.6667\n",
      "Epoch 25/200\n",
      "3/3 [==============================] - 0s 16ms/step - loss: 1.3785 - accuracy: 0.5571 - val_loss: 1.2553 - val_accuracy: 0.7000\n",
      "Epoch 26/200\n",
      "3/3 [==============================] - 0s 17ms/step - loss: 1.3689 - accuracy: 0.4429 - val_loss: 1.2378 - val_accuracy: 0.7333\n",
      "Epoch 27/200\n",
      "3/3 [==============================] - 0s 44ms/step - loss: 1.2808 - accuracy: 0.5714 - val_loss: 1.2212 - val_accuracy: 0.7333\n",
      "Epoch 28/200\n",
      "3/3 [==============================] - 0s 32ms/step - loss: 1.3070 - accuracy: 0.5286 - val_loss: 1.2041 - val_accuracy: 0.7333\n",
      "Epoch 29/200\n",
      "3/3 [==============================] - 0s 21ms/step - loss: 1.2449 - accuracy: 0.6143 - val_loss: 1.1864 - val_accuracy: 0.7333\n",
      "Epoch 30/200\n",
      "3/3 [==============================] - 0s 14ms/step - loss: 1.2108 - accuracy: 0.6286 - val_loss: 1.1678 - val_accuracy: 0.7333\n",
      "Epoch 31/200\n",
      "3/3 [==============================] - 0s 19ms/step - loss: 1.1790 - accuracy: 0.6714 - val_loss: 1.1499 - val_accuracy: 0.7667\n",
      "Epoch 32/200\n",
      "3/3 [==============================] - 0s 17ms/step - loss: 1.1614 - accuracy: 0.6286 - val_loss: 1.1338 - val_accuracy: 0.8000\n",
      "Epoch 33/200\n",
      "3/3 [==============================] - 0s 17ms/step - loss: 1.1670 - accuracy: 0.6286 - val_loss: 1.1188 - val_accuracy: 0.8000\n",
      "Epoch 34/200\n",
      "3/3 [==============================] - 0s 23ms/step - loss: 1.1744 - accuracy: 0.6714 - val_loss: 1.1047 - val_accuracy: 0.8000\n",
      "Epoch 35/200\n",
      "3/3 [==============================] - 0s 18ms/step - loss: 1.1365 - accuracy: 0.6571 - val_loss: 1.0904 - val_accuracy: 0.8000\n",
      "Epoch 36/200\n",
      "3/3 [==============================] - 0s 13ms/step - loss: 1.1498 - accuracy: 0.6143 - val_loss: 1.0763 - val_accuracy: 0.8000\n",
      "Epoch 37/200\n",
      "3/3 [==============================] - 0s 17ms/step - loss: 1.1278 - accuracy: 0.6857 - val_loss: 1.0618 - val_accuracy: 0.8000\n",
      "Epoch 38/200\n",
      "3/3 [==============================] - 0s 18ms/step - loss: 1.1354 - accuracy: 0.7286 - val_loss: 1.0477 - val_accuracy: 0.8000\n",
      "Epoch 39/200\n",
      "3/3 [==============================] - 0s 17ms/step - loss: 1.0198 - accuracy: 0.7286 - val_loss: 1.0343 - val_accuracy: 0.8000\n",
      "Epoch 40/200\n",
      "3/3 [==============================] - 0s 15ms/step - loss: 1.0736 - accuracy: 0.6571 - val_loss: 1.0212 - val_accuracy: 0.8000\n",
      "Epoch 41/200\n",
      "3/3 [==============================] - 0s 14ms/step - loss: 1.0881 - accuracy: 0.7143 - val_loss: 1.0084 - val_accuracy: 0.8000\n",
      "Epoch 42/200\n",
      "3/3 [==============================] - 0s 12ms/step - loss: 1.1279 - accuracy: 0.6000 - val_loss: 0.9965 - val_accuracy: 0.8000\n",
      "Epoch 43/200\n",
      "3/3 [==============================] - 0s 23ms/step - loss: 1.0094 - accuracy: 0.7143 - val_loss: 0.9852 - val_accuracy: 0.8000\n",
      "Epoch 44/200\n",
      "3/3 [==============================] - 0s 12ms/step - loss: 1.0233 - accuracy: 0.6714 - val_loss: 0.9747 - val_accuracy: 0.8333\n",
      "Epoch 45/200\n",
      "3/3 [==============================] - 0s 12ms/step - loss: 1.0496 - accuracy: 0.6714 - val_loss: 0.9643 - val_accuracy: 0.8333\n",
      "Epoch 46/200\n",
      "3/3 [==============================] - 0s 13ms/step - loss: 1.0031 - accuracy: 0.7714 - val_loss: 0.9541 - val_accuracy: 0.8333\n",
      "Epoch 47/200\n",
      "3/3 [==============================] - 0s 11ms/step - loss: 0.8760 - accuracy: 0.7714 - val_loss: 0.9440 - val_accuracy: 0.8333\n",
      "Epoch 48/200\n",
      "3/3 [==============================] - 0s 10ms/step - loss: 0.9463 - accuracy: 0.7857 - val_loss: 0.9349 - val_accuracy: 0.8333\n",
      "Epoch 49/200\n",
      "3/3 [==============================] - 0s 10ms/step - loss: 0.9813 - accuracy: 0.7143 - val_loss: 0.9259 - val_accuracy: 0.8333\n",
      "Epoch 50/200\n",
      "3/3 [==============================] - 0s 10ms/step - loss: 0.9915 - accuracy: 0.7429 - val_loss: 0.9165 - val_accuracy: 0.8333\n",
      "Epoch 51/200\n",
      "3/3 [==============================] - 0s 11ms/step - loss: 0.9208 - accuracy: 0.7571 - val_loss: 0.9072 - val_accuracy: 0.8333\n",
      "Epoch 52/200\n",
      "3/3 [==============================] - 0s 10ms/step - loss: 0.9037 - accuracy: 0.7714 - val_loss: 0.8975 - val_accuracy: 0.8333\n",
      "Epoch 53/200\n",
      "3/3 [==============================] - 0s 11ms/step - loss: 0.9410 - accuracy: 0.7714 - val_loss: 0.8882 - val_accuracy: 0.8333\n",
      "Epoch 54/200\n",
      "3/3 [==============================] - 0s 10ms/step - loss: 0.9329 - accuracy: 0.7000 - val_loss: 0.8792 - val_accuracy: 0.8333\n",
      "Epoch 55/200\n",
      "3/3 [==============================] - 0s 11ms/step - loss: 0.9288 - accuracy: 0.7286 - val_loss: 0.8701 - val_accuracy: 0.8333\n",
      "Epoch 56/200\n",
      "3/3 [==============================] - 0s 11ms/step - loss: 0.8660 - accuracy: 0.8000 - val_loss: 0.8608 - val_accuracy: 0.8333\n",
      "Epoch 57/200\n",
      "3/3 [==============================] - 0s 10ms/step - loss: 0.9002 - accuracy: 0.7857 - val_loss: 0.8516 - val_accuracy: 0.8333\n",
      "Epoch 58/200\n",
      "3/3 [==============================] - 0s 11ms/step - loss: 0.8893 - accuracy: 0.7714 - val_loss: 0.8428 - val_accuracy: 0.8333\n",
      "Epoch 59/200\n",
      "3/3 [==============================] - 0s 10ms/step - loss: 0.8498 - accuracy: 0.7857 - val_loss: 0.8345 - val_accuracy: 0.8333\n",
      "Epoch 60/200\n",
      "3/3 [==============================] - 0s 10ms/step - loss: 0.8843 - accuracy: 0.7571 - val_loss: 0.8265 - val_accuracy: 0.8333\n",
      "Epoch 61/200\n",
      "3/3 [==============================] - 0s 10ms/step - loss: 0.8144 - accuracy: 0.8286 - val_loss: 0.8188 - val_accuracy: 0.8333\n",
      "Epoch 62/200\n",
      "3/3 [==============================] - 0s 10ms/step - loss: 0.8083 - accuracy: 0.9000 - val_loss: 0.8113 - val_accuracy: 0.8333\n",
      "Epoch 63/200\n",
      "3/3 [==============================] - 0s 10ms/step - loss: 0.8001 - accuracy: 0.8143 - val_loss: 0.8048 - val_accuracy: 0.8333\n",
      "Epoch 64/200\n",
      "3/3 [==============================] - 0s 10ms/step - loss: 0.7941 - accuracy: 0.7857 - val_loss: 0.7990 - val_accuracy: 0.8333\n",
      "Epoch 65/200\n",
      "3/3 [==============================] - 0s 10ms/step - loss: 0.7979 - accuracy: 0.8286 - val_loss: 0.7924 - val_accuracy: 0.8333\n",
      "Epoch 66/200\n",
      "3/3 [==============================] - 0s 10ms/step - loss: 0.7943 - accuracy: 0.8286 - val_loss: 0.7853 - val_accuracy: 0.8333\n",
      "Epoch 67/200\n",
      "3/3 [==============================] - 0s 10ms/step - loss: 0.8218 - accuracy: 0.8000 - val_loss: 0.7789 - val_accuracy: 0.8333\n",
      "Epoch 68/200\n",
      "3/3 [==============================] - 0s 11ms/step - loss: 0.7502 - accuracy: 0.8714 - val_loss: 0.7726 - val_accuracy: 0.8333\n",
      "Epoch 69/200\n",
      "3/3 [==============================] - 0s 11ms/step - loss: 0.8400 - accuracy: 0.7571 - val_loss: 0.7664 - val_accuracy: 0.8333\n",
      "Epoch 70/200\n",
      "3/3 [==============================] - 0s 10ms/step - loss: 0.7070 - accuracy: 0.8429 - val_loss: 0.7603 - val_accuracy: 0.8333\n",
      "Epoch 71/200\n",
      "3/3 [==============================] - 0s 11ms/step - loss: 0.7077 - accuracy: 0.8143 - val_loss: 0.7544 - val_accuracy: 0.8333\n",
      "Epoch 72/200\n",
      "3/3 [==============================] - 0s 10ms/step - loss: 0.6862 - accuracy: 0.8714 - val_loss: 0.7482 - val_accuracy: 0.8333\n",
      "Epoch 73/200\n",
      "3/3 [==============================] - 0s 11ms/step - loss: 0.7373 - accuracy: 0.8714 - val_loss: 0.7418 - val_accuracy: 0.8667\n",
      "Epoch 74/200\n",
      "3/3 [==============================] - 0s 11ms/step - loss: 0.7441 - accuracy: 0.8286 - val_loss: 0.7343 - val_accuracy: 0.9000\n",
      "Epoch 75/200\n",
      "3/3 [==============================] - 0s 10ms/step - loss: 0.7104 - accuracy: 0.8857 - val_loss: 0.7262 - val_accuracy: 0.9000\n",
      "Epoch 76/200\n",
      "3/3 [==============================] - 0s 10ms/step - loss: 0.6131 - accuracy: 0.9143 - val_loss: 0.7186 - val_accuracy: 0.9000\n",
      "Epoch 77/200\n",
      "3/3 [==============================] - 0s 10ms/step - loss: 0.7178 - accuracy: 0.8000 - val_loss: 0.7119 - val_accuracy: 0.9000\n",
      "Epoch 78/200\n",
      "3/3 [==============================] - 0s 10ms/step - loss: 0.6394 - accuracy: 0.8714 - val_loss: 0.7051 - val_accuracy: 0.9000\n",
      "Epoch 79/200\n",
      "3/3 [==============================] - 0s 11ms/step - loss: 0.6651 - accuracy: 0.8714 - val_loss: 0.6983 - val_accuracy: 0.9000\n",
      "Epoch 80/200\n",
      "3/3 [==============================] - 0s 11ms/step - loss: 0.6657 - accuracy: 0.8571 - val_loss: 0.6917 - val_accuracy: 0.9000\n",
      "Epoch 81/200\n",
      "3/3 [==============================] - 0s 11ms/step - loss: 0.6245 - accuracy: 0.8714 - val_loss: 0.6854 - val_accuracy: 0.9000\n",
      "Epoch 82/200\n",
      "3/3 [==============================] - 0s 10ms/step - loss: 0.6524 - accuracy: 0.8143 - val_loss: 0.6795 - val_accuracy: 0.9000\n",
      "Epoch 83/200\n",
      "3/3 [==============================] - 0s 11ms/step - loss: 0.6368 - accuracy: 0.8857 - val_loss: 0.6736 - val_accuracy: 0.9000\n",
      "Epoch 84/200\n",
      "3/3 [==============================] - 0s 10ms/step - loss: 0.6150 - accuracy: 0.8571 - val_loss: 0.6679 - val_accuracy: 0.9000\n",
      "Epoch 85/200\n",
      "3/3 [==============================] - 0s 11ms/step - loss: 0.6107 - accuracy: 0.9143 - val_loss: 0.6624 - val_accuracy: 0.9000\n",
      "Epoch 86/200\n",
      "3/3 [==============================] - 0s 12ms/step - loss: 0.6122 - accuracy: 0.8857 - val_loss: 0.6569 - val_accuracy: 0.9000\n",
      "Epoch 87/200\n",
      "3/3 [==============================] - 0s 15ms/step - loss: 0.6251 - accuracy: 0.8429 - val_loss: 0.6512 - val_accuracy: 0.9000\n",
      "Epoch 88/200\n",
      "3/3 [==============================] - 0s 15ms/step - loss: 0.5493 - accuracy: 0.8571 - val_loss: 0.6454 - val_accuracy: 0.9000\n",
      "Epoch 89/200\n",
      "3/3 [==============================] - 0s 15ms/step - loss: 0.6091 - accuracy: 0.8571 - val_loss: 0.6395 - val_accuracy: 0.9000\n",
      "Epoch 90/200\n",
      "3/3 [==============================] - 0s 15ms/step - loss: 0.5955 - accuracy: 0.8714 - val_loss: 0.6334 - val_accuracy: 0.9000\n",
      "Epoch 91/200\n",
      "3/3 [==============================] - 0s 16ms/step - loss: 0.5314 - accuracy: 0.9429 - val_loss: 0.6276 - val_accuracy: 0.9000\n",
      "Epoch 92/200\n",
      "3/3 [==============================] - 0s 17ms/step - loss: 0.6337 - accuracy: 0.8429 - val_loss: 0.6215 - val_accuracy: 0.9000\n",
      "Epoch 93/200\n",
      "3/3 [==============================] - 0s 11ms/step - loss: 0.5163 - accuracy: 0.9286 - val_loss: 0.6156 - val_accuracy: 0.9000\n",
      "Epoch 94/200\n",
      "3/3 [==============================] - 0s 10ms/step - loss: 0.5665 - accuracy: 0.8857 - val_loss: 0.6100 - val_accuracy: 0.9000\n",
      "Epoch 95/200\n",
      "3/3 [==============================] - 0s 11ms/step - loss: 0.5579 - accuracy: 0.8857 - val_loss: 0.6044 - val_accuracy: 0.9000\n",
      "Epoch 96/200\n",
      "3/3 [==============================] - 0s 25ms/step - loss: 0.5728 - accuracy: 0.8571 - val_loss: 0.5987 - val_accuracy: 0.9000\n",
      "Epoch 97/200\n",
      "3/3 [==============================] - 0s 16ms/step - loss: 0.5521 - accuracy: 0.8714 - val_loss: 0.5925 - val_accuracy: 0.9000\n",
      "Epoch 98/200\n",
      "3/3 [==============================] - 0s 16ms/step - loss: 0.5589 - accuracy: 0.9000 - val_loss: 0.5867 - val_accuracy: 0.9000\n",
      "Epoch 99/200\n",
      "3/3 [==============================] - 0s 14ms/step - loss: 0.5271 - accuracy: 0.8571 - val_loss: 0.5808 - val_accuracy: 0.9000\n",
      "Epoch 100/200\n",
      "3/3 [==============================] - 0s 17ms/step - loss: 0.4940 - accuracy: 0.9286 - val_loss: 0.5741 - val_accuracy: 0.9000\n",
      "Epoch 101/200\n",
      "3/3 [==============================] - 0s 15ms/step - loss: 0.5416 - accuracy: 0.9143 - val_loss: 0.5679 - val_accuracy: 0.9000\n",
      "Epoch 102/200\n",
      "3/3 [==============================] - 0s 12ms/step - loss: 0.5043 - accuracy: 0.9286 - val_loss: 0.5615 - val_accuracy: 0.9000\n",
      "Epoch 103/200\n",
      "3/3 [==============================] - 0s 10ms/step - loss: 0.5416 - accuracy: 0.8714 - val_loss: 0.5556 - val_accuracy: 0.9000\n",
      "Epoch 104/200\n",
      "3/3 [==============================] - 0s 12ms/step - loss: 0.5258 - accuracy: 0.8571 - val_loss: 0.5499 - val_accuracy: 0.9000\n",
      "Epoch 105/200\n",
      "3/3 [==============================] - 0s 15ms/step - loss: 0.4692 - accuracy: 0.9429 - val_loss: 0.5440 - val_accuracy: 0.9000\n",
      "Epoch 106/200\n",
      "3/3 [==============================] - 0s 14ms/step - loss: 0.5513 - accuracy: 0.8429 - val_loss: 0.5384 - val_accuracy: 0.9000\n",
      "Epoch 107/200\n",
      "3/3 [==============================] - 0s 17ms/step - loss: 0.5103 - accuracy: 0.9000 - val_loss: 0.5328 - val_accuracy: 0.9000\n",
      "Epoch 108/200\n",
      "3/3 [==============================] - 0s 20ms/step - loss: 0.4892 - accuracy: 0.9000 - val_loss: 0.5279 - val_accuracy: 0.9000\n",
      "Epoch 109/200\n",
      "3/3 [==============================] - 0s 17ms/step - loss: 0.4725 - accuracy: 0.9000 - val_loss: 0.5239 - val_accuracy: 0.9000\n",
      "Epoch 110/200\n",
      "3/3 [==============================] - 0s 17ms/step - loss: 0.4564 - accuracy: 0.9429 - val_loss: 0.5198 - val_accuracy: 0.9000\n",
      "Epoch 111/200\n",
      "3/3 [==============================] - 0s 17ms/step - loss: 0.5048 - accuracy: 0.8714 - val_loss: 0.5154 - val_accuracy: 0.9000\n",
      "Epoch 112/200\n",
      "3/3 [==============================] - 0s 16ms/step - loss: 0.5018 - accuracy: 0.8857 - val_loss: 0.5108 - val_accuracy: 0.9000\n",
      "Epoch 113/200\n",
      "3/3 [==============================] - 0s 14ms/step - loss: 0.4760 - accuracy: 0.9000 - val_loss: 0.5063 - val_accuracy: 0.9000\n",
      "Epoch 114/200\n",
      "3/3 [==============================] - 0s 12ms/step - loss: 0.4996 - accuracy: 0.9429 - val_loss: 0.5017 - val_accuracy: 0.9000\n",
      "Epoch 115/200\n",
      "3/3 [==============================] - 0s 16ms/step - loss: 0.4198 - accuracy: 0.9286 - val_loss: 0.4971 - val_accuracy: 0.9000\n",
      "Epoch 116/200\n",
      "3/3 [==============================] - 0s 16ms/step - loss: 0.4352 - accuracy: 0.9143 - val_loss: 0.4929 - val_accuracy: 0.9000\n",
      "Epoch 117/200\n",
      "3/3 [==============================] - 0s 14ms/step - loss: 0.4415 - accuracy: 0.9429 - val_loss: 0.4885 - val_accuracy: 0.9000\n",
      "Epoch 118/200\n",
      "3/3 [==============================] - 0s 14ms/step - loss: 0.4002 - accuracy: 0.8857 - val_loss: 0.4840 - val_accuracy: 0.9000\n",
      "Epoch 119/200\n",
      "3/3 [==============================] - 0s 16ms/step - loss: 0.4123 - accuracy: 0.9571 - val_loss: 0.4793 - val_accuracy: 0.9000\n",
      "Epoch 120/200\n",
      "3/3 [==============================] - 0s 18ms/step - loss: 0.4303 - accuracy: 0.9429 - val_loss: 0.4745 - val_accuracy: 0.9000\n",
      "Epoch 121/200\n",
      "3/3 [==============================] - 0s 15ms/step - loss: 0.4672 - accuracy: 0.9286 - val_loss: 0.4696 - val_accuracy: 0.8333\n",
      "Epoch 122/200\n",
      "3/3 [==============================] - 0s 16ms/step - loss: 0.4184 - accuracy: 0.9286 - val_loss: 0.4645 - val_accuracy: 0.8333\n",
      "Epoch 123/200\n",
      "3/3 [==============================] - 0s 15ms/step - loss: 0.3736 - accuracy: 0.9571 - val_loss: 0.4599 - val_accuracy: 0.8333\n",
      "Epoch 124/200\n",
      "3/3 [==============================] - 0s 13ms/step - loss: 0.3720 - accuracy: 0.9571 - val_loss: 0.4557 - val_accuracy: 0.8333\n",
      "Epoch 125/200\n",
      "3/3 [==============================] - 0s 12ms/step - loss: 0.4184 - accuracy: 0.9000 - val_loss: 0.4511 - val_accuracy: 0.8333\n",
      "Epoch 126/200\n",
      "3/3 [==============================] - 0s 13ms/step - loss: 0.4346 - accuracy: 0.9000 - val_loss: 0.4458 - val_accuracy: 0.8333\n",
      "Epoch 127/200\n",
      "3/3 [==============================] - 0s 14ms/step - loss: 0.4110 - accuracy: 0.9286 - val_loss: 0.4402 - val_accuracy: 0.8333\n",
      "Epoch 128/200\n",
      "3/3 [==============================] - 0s 15ms/step - loss: 0.3700 - accuracy: 0.9571 - val_loss: 0.4347 - val_accuracy: 0.8667\n",
      "Epoch 129/200\n",
      "3/3 [==============================] - 0s 13ms/step - loss: 0.3973 - accuracy: 0.9571 - val_loss: 0.4298 - val_accuracy: 0.8667\n",
      "Epoch 130/200\n",
      "3/3 [==============================] - 0s 17ms/step - loss: 0.3870 - accuracy: 0.9143 - val_loss: 0.4252 - val_accuracy: 0.8667\n",
      "Epoch 131/200\n",
      "3/3 [==============================] - 0s 15ms/step - loss: 0.4012 - accuracy: 0.9429 - val_loss: 0.4204 - val_accuracy: 0.8667\n",
      "Epoch 132/200\n",
      "3/3 [==============================] - 0s 20ms/step - loss: 0.4490 - accuracy: 0.9143 - val_loss: 0.4157 - val_accuracy: 0.8667\n",
      "Epoch 133/200\n",
      "3/3 [==============================] - 0s 20ms/step - loss: 0.3615 - accuracy: 0.9429 - val_loss: 0.4113 - val_accuracy: 0.8667\n",
      "Epoch 134/200\n",
      "3/3 [==============================] - 0s 25ms/step - loss: 0.3573 - accuracy: 0.9429 - val_loss: 0.4071 - val_accuracy: 0.8667\n",
      "Epoch 135/200\n",
      "3/3 [==============================] - 0s 13ms/step - loss: 0.4008 - accuracy: 0.9286 - val_loss: 0.4028 - val_accuracy: 0.8667\n",
      "Epoch 136/200\n",
      "3/3 [==============================] - 0s 18ms/step - loss: 0.3546 - accuracy: 0.9571 - val_loss: 0.3990 - val_accuracy: 0.8667\n",
      "Epoch 137/200\n",
      "3/3 [==============================] - 0s 17ms/step - loss: 0.3609 - accuracy: 0.9429 - val_loss: 0.3956 - val_accuracy: 0.8667\n",
      "Epoch 138/200\n",
      "3/3 [==============================] - 0s 20ms/step - loss: 0.3446 - accuracy: 0.9714 - val_loss: 0.3921 - val_accuracy: 0.8667\n",
      "Epoch 139/200\n",
      "3/3 [==============================] - 0s 12ms/step - loss: 0.3982 - accuracy: 0.9286 - val_loss: 0.3886 - val_accuracy: 0.8667\n",
      "Epoch 140/200\n",
      "3/3 [==============================] - 0s 11ms/step - loss: 0.3762 - accuracy: 0.9571 - val_loss: 0.3854 - val_accuracy: 0.8667\n",
      "Epoch 141/200\n",
      "3/3 [==============================] - 0s 28ms/step - loss: 0.2733 - accuracy: 0.9857 - val_loss: 0.3821 - val_accuracy: 0.8667\n",
      "Epoch 142/200\n",
      "3/3 [==============================] - 0s 21ms/step - loss: 0.3271 - accuracy: 0.9571 - val_loss: 0.3787 - val_accuracy: 0.8667\n",
      "Epoch 143/200\n",
      "3/3 [==============================] - 0s 15ms/step - loss: 0.3825 - accuracy: 0.9571 - val_loss: 0.3747 - val_accuracy: 0.8667\n",
      "Epoch 144/200\n",
      "3/3 [==============================] - 0s 14ms/step - loss: 0.3263 - accuracy: 0.9571 - val_loss: 0.3709 - val_accuracy: 0.8667\n",
      "Epoch 145/200\n",
      "3/3 [==============================] - 0s 16ms/step - loss: 0.3420 - accuracy: 0.9571 - val_loss: 0.3671 - val_accuracy: 0.8667\n",
      "Epoch 146/200\n",
      "3/3 [==============================] - 0s 14ms/step - loss: 0.3090 - accuracy: 0.9857 - val_loss: 0.3637 - val_accuracy: 0.8667\n",
      "Epoch 147/200\n",
      "3/3 [==============================] - 0s 12ms/step - loss: 0.3165 - accuracy: 0.9714 - val_loss: 0.3600 - val_accuracy: 0.8667\n",
      "Epoch 148/200\n",
      "3/3 [==============================] - 0s 25ms/step - loss: 0.3216 - accuracy: 0.9714 - val_loss: 0.3565 - val_accuracy: 0.8667\n",
      "Epoch 149/200\n",
      "3/3 [==============================] - 0s 23ms/step - loss: 0.3488 - accuracy: 0.9571 - val_loss: 0.3531 - val_accuracy: 0.8667\n",
      "Epoch 150/200\n",
      "3/3 [==============================] - 0s 14ms/step - loss: 0.3072 - accuracy: 0.9286 - val_loss: 0.3501 - val_accuracy: 0.8667\n",
      "Epoch 151/200\n",
      "3/3 [==============================] - 0s 31ms/step - loss: 0.3048 - accuracy: 0.9857 - val_loss: 0.3471 - val_accuracy: 0.8667\n",
      "Epoch 152/200\n",
      "3/3 [==============================] - 0s 19ms/step - loss: 0.3299 - accuracy: 0.9429 - val_loss: 0.3444 - val_accuracy: 0.8667\n",
      "Epoch 153/200\n",
      "3/3 [==============================] - 0s 21ms/step - loss: 0.2818 - accuracy: 0.9571 - val_loss: 0.3415 - val_accuracy: 0.8667\n",
      "Epoch 154/200\n",
      "3/3 [==============================] - 0s 17ms/step - loss: 0.3199 - accuracy: 0.9429 - val_loss: 0.3388 - val_accuracy: 0.8667\n",
      "Epoch 155/200\n",
      "3/3 [==============================] - 0s 12ms/step - loss: 0.2800 - accuracy: 0.9429 - val_loss: 0.3362 - val_accuracy: 0.8667\n",
      "Epoch 156/200\n",
      "3/3 [==============================] - 0s 14ms/step - loss: 0.3127 - accuracy: 0.9571 - val_loss: 0.3337 - val_accuracy: 0.8667\n",
      "Epoch 157/200\n",
      "3/3 [==============================] - 0s 15ms/step - loss: 0.3006 - accuracy: 0.9429 - val_loss: 0.3311 - val_accuracy: 0.8667\n",
      "Epoch 158/200\n",
      "3/3 [==============================] - 0s 17ms/step - loss: 0.3215 - accuracy: 0.9571 - val_loss: 0.3281 - val_accuracy: 0.8667\n",
      "Epoch 159/200\n",
      "3/3 [==============================] - 0s 16ms/step - loss: 0.2850 - accuracy: 0.9429 - val_loss: 0.3257 - val_accuracy: 0.8667\n",
      "Epoch 160/200\n",
      "3/3 [==============================] - 0s 12ms/step - loss: 0.2771 - accuracy: 0.9714 - val_loss: 0.3239 - val_accuracy: 0.8667\n",
      "Epoch 161/200\n",
      "3/3 [==============================] - 0s 14ms/step - loss: 0.3001 - accuracy: 0.9429 - val_loss: 0.3219 - val_accuracy: 0.8667\n",
      "Epoch 162/200\n",
      "3/3 [==============================] - 0s 15ms/step - loss: 0.2616 - accuracy: 0.9571 - val_loss: 0.3190 - val_accuracy: 0.8667\n",
      "Epoch 163/200\n",
      "3/3 [==============================] - 0s 18ms/step - loss: 0.2514 - accuracy: 0.9571 - val_loss: 0.3155 - val_accuracy: 0.8667\n",
      "Epoch 164/200\n",
      "3/3 [==============================] - 0s 15ms/step - loss: 0.2813 - accuracy: 0.9429 - val_loss: 0.3126 - val_accuracy: 0.8667\n",
      "Epoch 165/200\n",
      "3/3 [==============================] - 0s 13ms/step - loss: 0.2630 - accuracy: 0.9714 - val_loss: 0.3099 - val_accuracy: 0.8667\n",
      "Epoch 166/200\n",
      "3/3 [==============================] - 0s 13ms/step - loss: 0.2934 - accuracy: 0.9429 - val_loss: 0.3074 - val_accuracy: 0.8667\n",
      "Epoch 167/200\n",
      "3/3 [==============================] - 0s 12ms/step - loss: 0.2628 - accuracy: 0.9429 - val_loss: 0.3049 - val_accuracy: 0.8667\n",
      "Epoch 168/200\n",
      "3/3 [==============================] - 0s 12ms/step - loss: 0.2614 - accuracy: 0.9714 - val_loss: 0.3029 - val_accuracy: 0.8667\n",
      "Epoch 169/200\n",
      "3/3 [==============================] - 0s 13ms/step - loss: 0.2665 - accuracy: 0.9714 - val_loss: 0.3010 - val_accuracy: 0.8667\n",
      "Epoch 170/200\n",
      "3/3 [==============================] - 0s 14ms/step - loss: 0.2123 - accuracy: 0.9857 - val_loss: 0.2994 - val_accuracy: 0.8667\n",
      "Epoch 171/200\n",
      "3/3 [==============================] - 0s 12ms/step - loss: 0.2056 - accuracy: 0.9714 - val_loss: 0.2981 - val_accuracy: 0.8667\n",
      "Epoch 172/200\n",
      "3/3 [==============================] - 0s 11ms/step - loss: 0.2738 - accuracy: 0.9143 - val_loss: 0.2970 - val_accuracy: 0.8667\n",
      "Epoch 173/200\n",
      "3/3 [==============================] - 0s 11ms/step - loss: 0.3002 - accuracy: 0.9571 - val_loss: 0.2953 - val_accuracy: 0.8667\n",
      "Epoch 174/200\n",
      "3/3 [==============================] - 0s 10ms/step - loss: 0.2593 - accuracy: 0.9714 - val_loss: 0.2928 - val_accuracy: 0.8667\n",
      "Epoch 175/200\n",
      "3/3 [==============================] - 0s 10ms/step - loss: 0.2393 - accuracy: 0.9857 - val_loss: 0.2904 - val_accuracy: 0.8667\n",
      "Epoch 176/200\n",
      "3/3 [==============================] - 0s 10ms/step - loss: 0.2192 - accuracy: 1.0000 - val_loss: 0.2885 - val_accuracy: 0.8667\n",
      "Epoch 177/200\n",
      "3/3 [==============================] - 0s 10ms/step - loss: 0.2667 - accuracy: 0.9857 - val_loss: 0.2868 - val_accuracy: 0.8667\n",
      "Epoch 178/200\n",
      "3/3 [==============================] - 0s 10ms/step - loss: 0.2519 - accuracy: 0.9286 - val_loss: 0.2851 - val_accuracy: 0.8667\n",
      "Epoch 179/200\n",
      "3/3 [==============================] - 0s 12ms/step - loss: 0.2482 - accuracy: 0.9857 - val_loss: 0.2829 - val_accuracy: 0.8667\n",
      "Epoch 180/200\n",
      "3/3 [==============================] - 0s 10ms/step - loss: 0.2257 - accuracy: 0.9857 - val_loss: 0.2810 - val_accuracy: 0.8667\n",
      "Epoch 181/200\n",
      "3/3 [==============================] - 0s 11ms/step - loss: 0.2345 - accuracy: 0.9714 - val_loss: 0.2795 - val_accuracy: 0.8667\n",
      "Epoch 182/200\n",
      "3/3 [==============================] - 0s 10ms/step - loss: 0.2261 - accuracy: 0.9714 - val_loss: 0.2782 - val_accuracy: 0.8667\n",
      "Epoch 183/200\n",
      "3/3 [==============================] - 0s 11ms/step - loss: 0.2058 - accuracy: 0.9857 - val_loss: 0.2766 - val_accuracy: 0.8667\n",
      "Epoch 184/200\n",
      "3/3 [==============================] - 0s 12ms/step - loss: 0.2309 - accuracy: 0.9857 - val_loss: 0.2750 - val_accuracy: 0.8667\n",
      "Epoch 185/200\n",
      "3/3 [==============================] - 0s 12ms/step - loss: 0.2644 - accuracy: 0.9429 - val_loss: 0.2735 - val_accuracy: 0.8667\n",
      "Epoch 186/200\n",
      "3/3 [==============================] - 0s 12ms/step - loss: 0.2349 - accuracy: 0.9857 - val_loss: 0.2715 - val_accuracy: 0.9000\n",
      "Epoch 187/200\n",
      "3/3 [==============================] - 0s 13ms/step - loss: 0.2269 - accuracy: 0.9714 - val_loss: 0.2693 - val_accuracy: 0.9000\n",
      "Epoch 188/200\n",
      "3/3 [==============================] - 0s 15ms/step - loss: 0.2039 - accuracy: 0.9857 - val_loss: 0.2673 - val_accuracy: 0.9333\n",
      "Epoch 189/200\n",
      "3/3 [==============================] - 0s 17ms/step - loss: 0.2009 - accuracy: 0.9857 - val_loss: 0.2656 - val_accuracy: 0.9333\n",
      "Epoch 190/200\n",
      "3/3 [==============================] - 0s 14ms/step - loss: 0.2177 - accuracy: 0.9714 - val_loss: 0.2639 - val_accuracy: 0.9333\n",
      "Epoch 191/200\n",
      "3/3 [==============================] - 0s 12ms/step - loss: 0.2129 - accuracy: 0.9857 - val_loss: 0.2622 - val_accuracy: 0.9333\n",
      "Epoch 192/200\n",
      "3/3 [==============================] - 0s 14ms/step - loss: 0.2676 - accuracy: 0.9429 - val_loss: 0.2606 - val_accuracy: 0.9333\n",
      "Epoch 193/200\n",
      "3/3 [==============================] - 0s 12ms/step - loss: 0.2134 - accuracy: 0.9714 - val_loss: 0.2589 - val_accuracy: 0.9333\n",
      "Epoch 194/200\n",
      "3/3 [==============================] - 0s 14ms/step - loss: 0.1856 - accuracy: 0.9857 - val_loss: 0.2566 - val_accuracy: 0.9333\n",
      "Epoch 195/200\n",
      "3/3 [==============================] - 0s 13ms/step - loss: 0.2128 - accuracy: 0.9571 - val_loss: 0.2541 - val_accuracy: 0.9333\n",
      "Epoch 196/200\n",
      "3/3 [==============================] - 0s 13ms/step - loss: 0.1696 - accuracy: 0.9857 - val_loss: 0.2519 - val_accuracy: 0.9333\n",
      "Epoch 197/200\n",
      "3/3 [==============================] - 0s 12ms/step - loss: 0.1857 - accuracy: 0.9714 - val_loss: 0.2499 - val_accuracy: 0.9333\n",
      "Epoch 198/200\n",
      "3/3 [==============================] - 0s 11ms/step - loss: 0.2053 - accuracy: 0.9857 - val_loss: 0.2482 - val_accuracy: 0.9333\n",
      "Epoch 199/200\n",
      "3/3 [==============================] - 0s 12ms/step - loss: 0.2020 - accuracy: 0.9714 - val_loss: 0.2465 - val_accuracy: 0.9333\n",
      "Epoch 200/200\n",
      "3/3 [==============================] - 0s 11ms/step - loss: 0.1855 - accuracy: 1.0000 - val_loss: 0.2449 - val_accuracy: 0.9333\n"
     ]
    }
   ],
   "source": [
    "hist_pca = model.fit(x_train_pca, y_train_pca, epochs=200, validation_data=(x_test_pca, y_test_pca))"
   ]
  },
  {
   "cell_type": "code",
   "execution_count": 33,
   "metadata": {},
   "outputs": [
    {
     "name": "stdout",
     "output_type": "stream",
     "text": [
      "Train loss: 0.1314353048801422\n",
      "Train acc: 1.0\n"
     ]
    }
   ],
   "source": [
    "loss_pca, acc_pca = model.evaluate(x_train_pca, y_train_pca, verbose=0)\n",
    "print(\"Train loss:\", loss_pca)\n",
    "print(\"Train acc:\", acc_pca)"
   ]
  },
  {
   "cell_type": "code",
   "execution_count": 34,
   "metadata": {},
   "outputs": [
    {
     "name": "stdout",
     "output_type": "stream",
     "text": [
      "Test loss: 0.2448972910642624\n",
      "Test acc: 0.9333333373069763\n"
     ]
    }
   ],
   "source": [
    "loss_pca, acc_pca = model.evaluate(x_test_pca, y_test_pca, verbose=0)\n",
    "print(\"Test loss:\", loss_pca)\n",
    "print(\"Test acc:\", acc_pca)"
   ]
  },
  {
   "cell_type": "code",
   "execution_count": 35,
   "metadata": {},
   "outputs": [
    {
     "data": {
      "image/png": "[encoded data removed]",
      "text/plain": [
       "<Figure size 432x288 with 1 Axes>"
      ]
     },
     "metadata": {
      "needs_background": "light"
     },
     "output_type": "display_data"
    }
   ],
   "source": [
    "plt.plot(hist_pca.history['accuracy'])\n",
    "plt.plot(hist_pca.history['val_accuracy'])\n",
    "plt.title('Acuracia por epoca')\n",
    "plt.xlabel('épocas')\n",
    "plt.ylabel('acurácia')\n",
    "plt.legend(['treino', 'validacao'])\n",
    "plt.show()"
   ]
  },
  {
   "cell_type": "code",
   "execution_count": 36,
   "metadata": {},
   "outputs": [
    {
     "data": {
      "image/png": "[encoded data removed]",
      "text/plain": [
       "<Figure size 432x288 with 1 Axes>"
      ]
     },
     "metadata": {
      "needs_background": "light"
     },
     "output_type": "display_data"
    }
   ],
   "source": [
    "plt.plot(hist_pca.history['loss'])\n",
    "plt.plot(hist_pca.history['val_loss'])\n",
    "plt.title('Perda por epoca')\n",
    "plt.xlabel('épocas')\n",
    "plt.ylabel('perda')\n",
    "plt.legend(['treino', 'validacao'])\n",
    "plt.show()"
   ]
  },
  {
   "cell_type": "code",
   "execution_count": 37,
   "metadata": {},
   "outputs": [],
   "source": [
    "model.save(\"final_model_pca.h5\")"
   ]
  },
  {
   "cell_type": "code",
   "execution_count": null,
   "metadata": {},
   "outputs": [],
   "source": []
  },
  {
   "cell_type": "code",
   "execution_count": null,
   "metadata": {},
   "outputs": [],
   "source": []
  }
 ],
 "metadata": {
  "interpreter": {
   "hash": "e24f5c8f47ce628df06e6a418f439355aaed4f63445fc5001ab64130bd080cd8"
  },
  "kernelspec": {
   "display_name": "Python 3.9.7 ('.cargas_eletricas': venv)",
   "language": "python",
   "name": "python3"
  },
  "language_info": {
   "codemirror_mode": {
    "name": "ipython",
    "version": 3
   },
   "file_extension": ".py",
   "mimetype": "text/x-python",
   "name": "python",
   "nbconvert_exporter": "python",
   "pygments_lexer": "ipython3",
   "version": "3.9.7"
  },
  "orig_nbformat": 4
 },
 "nbformat": 4,
 "nbformat_minor": 2
}
