{
 "cells": [
  {
   "cell_type": "code",
   "execution_count": 1,
   "metadata": {},
   "outputs": [],
   "source": [
    "import pandas as pd\n",
    "import numpy as np\n",
    "import seaborn as sns\n",
    "import matplotlib.pyplot as plt\n",
    "import tensorflow as tf\n",
    "\n",
    "from decouple import config\n",
    "from sklearn.preprocessing import StandardScaler\n",
    "from sklearn.model_selection import train_test_split, GridSearchCV\n",
    "from sklearn.decomposition import PCA\n",
    "from tensorflow import keras\n",
    "from keras import Sequential\n",
    "from keras.layers import Input, Dense, Dropout\n",
    "\n"
   ]
  },
  {
   "cell_type": "code",
   "execution_count": 2,
   "metadata": {},
   "outputs": [],
   "source": [
    "csv_path = config(\"CSV_PATH\")"
   ]
  },
  {
   "cell_type": "code",
   "execution_count": 3,
   "metadata": {},
   "outputs": [],
   "source": [
    "df = pd.read_csv(csv_path)"
   ]
  },
  {
   "cell_type": "code",
   "execution_count": 4,
   "metadata": {},
   "outputs": [
    {
     "data": {
      "text/html": [
       "<div>\n",
       "<style scoped>\n",
       "    .dataframe tbody tr th:only-of-type {\n",
       "        vertical-align: middle;\n",
       "    }\n",
       "\n",
       "    .dataframe tbody tr th {\n",
       "        vertical-align: top;\n",
       "    }\n",
       "\n",
       "    .dataframe thead th {\n",
       "        text-align: right;\n",
       "    }\n",
       "</style>\n",
       "<table border=\"1\" class=\"dataframe\">\n",
       "  <thead>\n",
       "    <tr style=\"text-align: right;\">\n",
       "      <th></th>\n",
       "      <th>t0</th>\n",
       "      <th>t1</th>\n",
       "      <th>t2</th>\n",
       "      <th>t3</th>\n",
       "      <th>t4</th>\n",
       "      <th>t5</th>\n",
       "      <th>t6</th>\n",
       "      <th>t7</th>\n",
       "      <th>t8</th>\n",
       "      <th>t9</th>\n",
       "      <th>...</th>\n",
       "      <th>t191</th>\n",
       "      <th>t192</th>\n",
       "      <th>t193</th>\n",
       "      <th>t194</th>\n",
       "      <th>t195</th>\n",
       "      <th>t196</th>\n",
       "      <th>t197</th>\n",
       "      <th>t198</th>\n",
       "      <th>t199</th>\n",
       "      <th>Classes</th>\n",
       "    </tr>\n",
       "  </thead>\n",
       "  <tbody>\n",
       "    <tr>\n",
       "      <th>0</th>\n",
       "      <td>24.00</td>\n",
       "      <td>24.00</td>\n",
       "      <td>23.00</td>\n",
       "      <td>25.00</td>\n",
       "      <td>24.00</td>\n",
       "      <td>25.00</td>\n",
       "      <td>24.00</td>\n",
       "      <td>24.00</td>\n",
       "      <td>22.00</td>\n",
       "      <td>25.00</td>\n",
       "      <td>...</td>\n",
       "      <td>1.00</td>\n",
       "      <td>-1.00</td>\n",
       "      <td>1.00</td>\n",
       "      <td>-1.00</td>\n",
       "      <td>1.00</td>\n",
       "      <td>0.00</td>\n",
       "      <td>1.00</td>\n",
       "      <td>0.00</td>\n",
       "      <td>0.00</td>\n",
       "      <td>1</td>\n",
       "    </tr>\n",
       "    <tr>\n",
       "      <th>1</th>\n",
       "      <td>23.00</td>\n",
       "      <td>23.00</td>\n",
       "      <td>22.00</td>\n",
       "      <td>21.00</td>\n",
       "      <td>21.00</td>\n",
       "      <td>22.00</td>\n",
       "      <td>23.00</td>\n",
       "      <td>23.00</td>\n",
       "      <td>22.00</td>\n",
       "      <td>21.00</td>\n",
       "      <td>...</td>\n",
       "      <td>-1.00</td>\n",
       "      <td>1.00</td>\n",
       "      <td>0.00</td>\n",
       "      <td>1.00</td>\n",
       "      <td>-1.00</td>\n",
       "      <td>0.00</td>\n",
       "      <td>-1.00</td>\n",
       "      <td>1.00</td>\n",
       "      <td>0.00</td>\n",
       "      <td>1</td>\n",
       "    </tr>\n",
       "    <tr>\n",
       "      <th>2</th>\n",
       "      <td>-0.55</td>\n",
       "      <td>-0.55</td>\n",
       "      <td>-0.55</td>\n",
       "      <td>3.45</td>\n",
       "      <td>13.45</td>\n",
       "      <td>11.45</td>\n",
       "      <td>18.45</td>\n",
       "      <td>18.45</td>\n",
       "      <td>20.45</td>\n",
       "      <td>20.45</td>\n",
       "      <td>...</td>\n",
       "      <td>-0.55</td>\n",
       "      <td>0.45</td>\n",
       "      <td>-0.55</td>\n",
       "      <td>0.45</td>\n",
       "      <td>-0.55</td>\n",
       "      <td>0.45</td>\n",
       "      <td>-0.55</td>\n",
       "      <td>0.45</td>\n",
       "      <td>-0.55</td>\n",
       "      <td>1</td>\n",
       "    </tr>\n",
       "    <tr>\n",
       "      <th>3</th>\n",
       "      <td>12.30</td>\n",
       "      <td>10.30</td>\n",
       "      <td>15.30</td>\n",
       "      <td>15.30</td>\n",
       "      <td>16.30</td>\n",
       "      <td>15.30</td>\n",
       "      <td>17.30</td>\n",
       "      <td>16.30</td>\n",
       "      <td>17.30</td>\n",
       "      <td>15.30</td>\n",
       "      <td>...</td>\n",
       "      <td>-0.70</td>\n",
       "      <td>0.30</td>\n",
       "      <td>-0.70</td>\n",
       "      <td>0.30</td>\n",
       "      <td>-0.70</td>\n",
       "      <td>1.30</td>\n",
       "      <td>-0.70</td>\n",
       "      <td>1.30</td>\n",
       "      <td>-0.70</td>\n",
       "      <td>1</td>\n",
       "    </tr>\n",
       "    <tr>\n",
       "      <th>4</th>\n",
       "      <td>24.85</td>\n",
       "      <td>2.85</td>\n",
       "      <td>5.85</td>\n",
       "      <td>-1.15</td>\n",
       "      <td>2.85</td>\n",
       "      <td>-1.15</td>\n",
       "      <td>1.85</td>\n",
       "      <td>-1.15</td>\n",
       "      <td>0.85</td>\n",
       "      <td>-1.15</td>\n",
       "      <td>...</td>\n",
       "      <td>-0.15</td>\n",
       "      <td>0.85</td>\n",
       "      <td>-1.15</td>\n",
       "      <td>-0.15</td>\n",
       "      <td>-1.15</td>\n",
       "      <td>0.85</td>\n",
       "      <td>-0.15</td>\n",
       "      <td>0.85</td>\n",
       "      <td>-0.15</td>\n",
       "      <td>2</td>\n",
       "    </tr>\n",
       "  </tbody>\n",
       "</table>\n",
       "<p>5 rows × 201 columns</p>\n",
       "</div>"
      ],
      "text/plain": [
       "      t0     t1     t2     t3     t4     t5     t6     t7     t8     t9  ...  \\\n",
       "0  24.00  24.00  23.00  25.00  24.00  25.00  24.00  24.00  22.00  25.00  ...   \n",
       "1  23.00  23.00  22.00  21.00  21.00  22.00  23.00  23.00  22.00  21.00  ...   \n",
       "2  -0.55  -0.55  -0.55   3.45  13.45  11.45  18.45  18.45  20.45  20.45  ...   \n",
       "3  12.30  10.30  15.30  15.30  16.30  15.30  17.30  16.30  17.30  15.30  ...   \n",
       "4  24.85   2.85   5.85  -1.15   2.85  -1.15   1.85  -1.15   0.85  -1.15  ...   \n",
       "\n",
       "   t191  t192  t193  t194  t195  t196  t197  t198  t199  Classes  \n",
       "0  1.00 -1.00  1.00 -1.00  1.00  0.00  1.00  0.00  0.00        1  \n",
       "1 -1.00  1.00  0.00  1.00 -1.00  0.00 -1.00  1.00  0.00        1  \n",
       "2 -0.55  0.45 -0.55  0.45 -0.55  0.45 -0.55  0.45 -0.55        1  \n",
       "3 -0.70  0.30 -0.70  0.30 -0.70  1.30 -0.70  1.30 -0.70        1  \n",
       "4 -0.15  0.85 -1.15 -0.15 -1.15  0.85 -0.15  0.85 -0.15        2  \n",
       "\n",
       "[5 rows x 201 columns]"
      ]
     },
     "execution_count": 4,
     "metadata": {},
     "output_type": "execute_result"
    }
   ],
   "source": [
    "df.head()"
   ]
  },
  {
   "cell_type": "code",
   "execution_count": 5,
   "metadata": {},
   "outputs": [],
   "source": [
    "features = df.drop(\"Classes\", axis= 1)\n",
    "target = df[\"Classes\"]"
   ]
  },
  {
   "cell_type": "code",
   "execution_count": 6,
   "metadata": {},
   "outputs": [],
   "source": [
    "target_dummies = pd.get_dummies(target)"
   ]
  },
  {
   "cell_type": "code",
   "execution_count": 7,
   "metadata": {},
   "outputs": [],
   "source": [
    "scaler = StandardScaler()"
   ]
  },
  {
   "cell_type": "code",
   "execution_count": 8,
   "metadata": {},
   "outputs": [],
   "source": [
    "df_scaled = scaler.fit_transform(features)"
   ]
  },
  {
   "cell_type": "markdown",
   "metadata": {},
   "source": [
    "### PCA"
   ]
  },
  {
   "cell_type": "code",
   "execution_count": 9,
   "metadata": {},
   "outputs": [
    {
     "data": {
      "text/html": [
       "<style>#sk-container-id-1 {color: black;background-color: white;}#sk-container-id-1 pre{padding: 0;}#sk-container-id-1 div.sk-toggleable {background-color: white;}#sk-container-id-1 label.sk-toggleable__label {cursor: pointer;display: block;width: 100%;margin-bottom: 0;padding: 0.3em;box-sizing: border-box;text-align: center;}#sk-container-id-1 label.sk-toggleable__label-arrow:before {content: \"▸\";float: left;margin-right: 0.25em;color: #696969;}#sk-container-id-1 label.sk-toggleable__label-arrow:hover:before {color: black;}#sk-container-id-1 div.sk-estimator:hover label.sk-toggleable__label-arrow:before {color: black;}#sk-container-id-1 div.sk-toggleable__content {max-height: 0;max-width: 0;overflow: hidden;text-align: left;background-color: #f0f8ff;}#sk-container-id-1 div.sk-toggleable__content pre {margin: 0.2em;color: black;border-radius: 0.25em;background-color: #f0f8ff;}#sk-container-id-1 input.sk-toggleable__control:checked~div.sk-toggleable__content {max-height: 200px;max-width: 100%;overflow: auto;}#sk-container-id-1 input.sk-toggleable__control:checked~label.sk-toggleable__label-arrow:before {content: \"▾\";}#sk-container-id-1 div.sk-estimator input.sk-toggleable__control:checked~label.sk-toggleable__label {background-color: #d4ebff;}#sk-container-id-1 div.sk-label input.sk-toggleable__control:checked~label.sk-toggleable__label {background-color: #d4ebff;}#sk-container-id-1 input.sk-hidden--visually {border: 0;clip: rect(1px 1px 1px 1px);clip: rect(1px, 1px, 1px, 1px);height: 1px;margin: -1px;overflow: hidden;padding: 0;position: absolute;width: 1px;}#sk-container-id-1 div.sk-estimator {font-family: monospace;background-color: #f0f8ff;border: 1px dotted black;border-radius: 0.25em;box-sizing: border-box;margin-bottom: 0.5em;}#sk-container-id-1 div.sk-estimator:hover {background-color: #d4ebff;}#sk-container-id-1 div.sk-parallel-item::after {content: \"\";width: 100%;border-bottom: 1px solid gray;flex-grow: 1;}#sk-container-id-1 div.sk-label:hover label.sk-toggleable__label {background-color: #d4ebff;}#sk-container-id-1 div.sk-serial::before {content: \"\";position: absolute;border-left: 1px solid gray;box-sizing: border-box;top: 0;bottom: 0;left: 50%;z-index: 0;}#sk-container-id-1 div.sk-serial {display: flex;flex-direction: column;align-items: center;background-color: white;padding-right: 0.2em;padding-left: 0.2em;position: relative;}#sk-container-id-1 div.sk-item {position: relative;z-index: 1;}#sk-container-id-1 div.sk-parallel {display: flex;align-items: stretch;justify-content: center;background-color: white;position: relative;}#sk-container-id-1 div.sk-item::before, #sk-container-id-1 div.sk-parallel-item::before {content: \"\";position: absolute;border-left: 1px solid gray;box-sizing: border-box;top: 0;bottom: 0;left: 50%;z-index: -1;}#sk-container-id-1 div.sk-parallel-item {display: flex;flex-direction: column;z-index: 1;position: relative;background-color: white;}#sk-container-id-1 div.sk-parallel-item:first-child::after {align-self: flex-end;width: 50%;}#sk-container-id-1 div.sk-parallel-item:last-child::after {align-self: flex-start;width: 50%;}#sk-container-id-1 div.sk-parallel-item:only-child::after {width: 0;}#sk-container-id-1 div.sk-dashed-wrapped {border: 1px dashed gray;margin: 0 0.4em 0.5em 0.4em;box-sizing: border-box;padding-bottom: 0.4em;background-color: white;}#sk-container-id-1 div.sk-label label {font-family: monospace;font-weight: bold;display: inline-block;line-height: 1.2em;}#sk-container-id-1 div.sk-label-container {text-align: center;}#sk-container-id-1 div.sk-container {/* jupyter's `normalize.less` sets `[hidden] { display: none; }` but bootstrap.min.css set `[hidden] { display: none !important; }` so we also need the `!important` here to be able to override the default hidden behavior on the sphinx rendered scikit-learn.org. See: https://github.com/scikit-learn/scikit-learn/issues/21755 */display: inline-block !important;position: relative;}#sk-container-id-1 div.sk-text-repr-fallback {display: none;}</style><div id=\"sk-container-id-1\" class=\"sk-top-container\"><div class=\"sk-text-repr-fallback\"><pre>PCA()</pre><b>In a Jupyter environment, please rerun this cell to show the HTML representation or trust the notebook. <br />On GitHub, the HTML representation is unable to render, please try loading this page with nbviewer.org.</b></div><div class=\"sk-container\" hidden><div class=\"sk-item\"><div class=\"sk-estimator sk-toggleable\"><input class=\"sk-toggleable__control sk-hidden--visually\" id=\"sk-estimator-id-1\" type=\"checkbox\" checked><label for=\"sk-estimator-id-1\" class=\"sk-toggleable__label sk-toggleable__label-arrow\">PCA</label><div class=\"sk-toggleable__content\"><pre>PCA()</pre></div></div></div></div></div>"
      ],
      "text/plain": [
       "PCA()"
      ]
     },
     "execution_count": 9,
     "metadata": {},
     "output_type": "execute_result"
    }
   ],
   "source": [
    "pca = PCA()\n",
    "pca.fit(df_scaled)"
   ]
  },
  {
   "cell_type": "code",
   "execution_count": 10,
   "metadata": {},
   "outputs": [
    {
     "data": {
      "text/plain": [
       "100"
      ]
     },
     "execution_count": 10,
     "metadata": {},
     "output_type": "execute_result"
    }
   ],
   "source": [
    "pca.n_components_"
   ]
  },
  {
   "cell_type": "code",
   "execution_count": 11,
   "metadata": {},
   "outputs": [
    {
     "data": {
      "image/png": "[encoded data removed]",
      "text/plain": [
       "<Figure size 1080x360 with 1 Axes>"
      ]
     },
     "metadata": {
      "needs_background": "light"
     },
     "output_type": "display_data"
    }
   ],
   "source": [
    "plt.figure(figsize=(15,5))\n",
    "plt.bar(np.arange(1, 101), pca.explained_variance_)\n",
    "plt.xlabel('PCA Feature')\n",
    "plt.ylabel('Variance')\n",
    "plt.xticks(range(1, 101, 10))\n",
    "plt.xlim(0,51)\n",
    "plt.show()"
   ]
  },
  {
   "cell_type": "code",
   "execution_count": 12,
   "metadata": {},
   "outputs": [
    {
     "data": {
      "image/png": "[encoded data removed]",
      "text/plain": [
       "<Figure size 432x288 with 1 Axes>"
      ]
     },
     "metadata": {
      "needs_background": "light"
     },
     "output_type": "display_data"
    }
   ],
   "source": [
    "plt.plot(np.cumsum(pca.explained_variance_ratio_), color='black')\n",
    "plt.xlim(0,100)\n",
    "plt.yticks(np.arange(0, 1.1, 0.1))\n",
    "plt.axvline(30, c='b')\n",
    "plt.axhline(0.95, c='r')\n",
    "plt.grid()\n",
    "plt.show()"
   ]
  },
  {
   "cell_type": "code",
   "execution_count": 13,
   "metadata": {},
   "outputs": [],
   "source": [
    "pca = PCA(n_components=22)\n",
    "df_pca = pca.fit_transform(df_scaled)"
   ]
  },
  {
   "cell_type": "markdown",
   "metadata": {},
   "source": [
    "### Neural Network without PCA"
   ]
  },
  {
   "cell_type": "code",
   "execution_count": 23,
   "metadata": {},
   "outputs": [],
   "source": [
    "x_train, x_test, y_train, y_test = train_test_split(df_scaled, target_dummies,\n",
    "                                                    test_size=0.3,\n",
    "                                                    random_state=42,\n",
    "                                                    stratify=target_dummies)"
   ]
  },
  {
   "cell_type": "code",
   "execution_count": 25,
   "metadata": {},
   "outputs": [],
   "source": [
    "n_features = x_train.shape[1]"
   ]
  },
  {
   "cell_type": "code",
   "execution_count": 17,
   "metadata": {},
   "outputs": [
    {
     "data": {
      "text/plain": [
       "200"
      ]
     },
     "execution_count": 17,
     "metadata": {},
     "output_type": "execute_result"
    }
   ],
   "source": [
    "n_features"
   ]
  },
  {
   "cell_type": "code",
   "execution_count": 32,
   "metadata": {},
   "outputs": [],
   "source": [
    "model = Sequential()\n",
    "model.add(Input(shape=(n_features,)))\n",
    "model.add(Dropout(0.25))\n",
    "model.add(Dense(n_features, activation=\"tanh\"))\n",
    "model.add(Dense(128, activation=\"tanh\"))\n",
    "model.add(Dense(7, activation=\"softmax\"))"
   ]
  },
  {
   "cell_type": "code",
   "execution_count": 33,
   "metadata": {},
   "outputs": [],
   "source": [
    "model.compile(optimizer=\"adam\", loss=\"categorical_crossentropy\", metrics=[\"accuracy\"])"
   ]
  },
  {
   "cell_type": "code",
   "execution_count": 34,
   "metadata": {},
   "outputs": [
    {
     "name": "stdout",
     "output_type": "stream",
     "text": [
      "Model: \"sequential_3\"\n",
      "_________________________________________________________________\n",
      " Layer (type)                Output Shape              Param #   \n",
      "=================================================================\n",
      " dropout_3 (Dropout)         (None, 200)               0         \n",
      "                                                                 \n",
      " dense_8 (Dense)             (None, 200)               40200     \n",
      "                                                                 \n",
      " dense_9 (Dense)             (None, 128)               25728     \n",
      "                                                                 \n",
      " dense_10 (Dense)            (None, 7)                 903       \n",
      "                                                                 \n",
      "=================================================================\n",
      "Total params: 66,831\n",
      "Trainable params: 66,831\n",
      "Non-trainable params: 0\n",
      "_________________________________________________________________\n"
     ]
    }
   ],
   "source": [
    "model.summary()"
   ]
  },
  {
   "cell_type": "code",
   "execution_count": 35,
   "metadata": {},
   "outputs": [
    {
     "name": "stdout",
     "output_type": "stream",
     "text": [
      "Epoch 1/30\n",
      "3/3 [==============================] - 1s 81ms/step - loss: 2.1009 - accuracy: 0.1143 - val_loss: 1.3887 - val_accuracy: 0.6000\n",
      "Epoch 2/30\n",
      "3/3 [==============================] - 0s 14ms/step - loss: 1.3105 - accuracy: 0.5429 - val_loss: 1.0467 - val_accuracy: 0.7333\n",
      "Epoch 3/30\n",
      "3/3 [==============================] - 0s 14ms/step - loss: 0.9669 - accuracy: 0.6857 - val_loss: 0.9105 - val_accuracy: 0.7333\n",
      "Epoch 4/30\n",
      "3/3 [==============================] - 0s 20ms/step - loss: 0.7550 - accuracy: 0.8143 - val_loss: 0.8374 - val_accuracy: 0.7333\n",
      "Epoch 5/30\n",
      "3/3 [==============================] - 0s 19ms/step - loss: 0.6936 - accuracy: 0.8286 - val_loss: 0.7462 - val_accuracy: 0.8333\n",
      "Epoch 6/30\n",
      "3/3 [==============================] - 0s 17ms/step - loss: 0.5935 - accuracy: 0.8714 - val_loss: 0.6712 - val_accuracy: 0.8667\n",
      "Epoch 7/30\n",
      "3/3 [==============================] - 0s 55ms/step - loss: 0.5155 - accuracy: 0.8429 - val_loss: 0.6306 - val_accuracy: 0.8667\n",
      "Epoch 8/30\n",
      "3/3 [==============================] - 0s 21ms/step - loss: 0.4694 - accuracy: 0.9000 - val_loss: 0.6113 - val_accuracy: 0.8667\n",
      "Epoch 9/30\n",
      "3/3 [==============================] - 0s 18ms/step - loss: 0.3395 - accuracy: 0.9429 - val_loss: 0.5951 - val_accuracy: 0.8667\n",
      "Epoch 10/30\n",
      "3/3 [==============================] - 0s 16ms/step - loss: 0.3475 - accuracy: 0.9143 - val_loss: 0.5644 - val_accuracy: 0.8667\n",
      "Epoch 11/30\n",
      "3/3 [==============================] - 0s 16ms/step - loss: 0.2705 - accuracy: 0.9571 - val_loss: 0.5271 - val_accuracy: 0.8667\n",
      "Epoch 12/30\n",
      "3/3 [==============================] - 0s 13ms/step - loss: 0.2590 - accuracy: 0.9571 - val_loss: 0.4891 - val_accuracy: 0.8667\n",
      "Epoch 13/30\n",
      "3/3 [==============================] - 0s 14ms/step - loss: 0.2257 - accuracy: 0.9714 - val_loss: 0.4563 - val_accuracy: 0.8667\n",
      "Epoch 14/30\n",
      "3/3 [==============================] - 0s 15ms/step - loss: 0.1989 - accuracy: 0.9571 - val_loss: 0.4196 - val_accuracy: 0.8667\n",
      "Epoch 15/30\n",
      "3/3 [==============================] - 0s 16ms/step - loss: 0.1961 - accuracy: 0.9571 - val_loss: 0.3798 - val_accuracy: 0.8667\n",
      "Epoch 16/30\n",
      "3/3 [==============================] - 0s 17ms/step - loss: 0.2145 - accuracy: 0.9571 - val_loss: 0.3475 - val_accuracy: 0.8667\n",
      "Epoch 17/30\n",
      "3/3 [==============================] - 0s 14ms/step - loss: 0.1699 - accuracy: 0.9857 - val_loss: 0.3240 - val_accuracy: 0.8667\n",
      "Epoch 18/30\n",
      "3/3 [==============================] - 0s 13ms/step - loss: 0.2410 - accuracy: 0.9286 - val_loss: 0.3113 - val_accuracy: 0.9000\n",
      "Epoch 19/30\n",
      "3/3 [==============================] - 0s 15ms/step - loss: 0.1275 - accuracy: 0.9714 - val_loss: 0.2987 - val_accuracy: 0.9000\n",
      "Epoch 20/30\n",
      "3/3 [==============================] - 0s 16ms/step - loss: 0.1264 - accuracy: 0.9857 - val_loss: 0.2827 - val_accuracy: 0.9000\n",
      "Epoch 21/30\n",
      "3/3 [==============================] - 0s 15ms/step - loss: 0.1203 - accuracy: 0.9571 - val_loss: 0.2701 - val_accuracy: 0.9000\n",
      "Epoch 22/30\n",
      "3/3 [==============================] - 0s 14ms/step - loss: 0.1056 - accuracy: 1.0000 - val_loss: 0.2551 - val_accuracy: 0.9000\n",
      "Epoch 23/30\n",
      "3/3 [==============================] - 0s 13ms/step - loss: 0.1159 - accuracy: 0.9857 - val_loss: 0.2412 - val_accuracy: 0.9000\n",
      "Epoch 24/30\n",
      "3/3 [==============================] - 0s 14ms/step - loss: 0.1286 - accuracy: 0.9714 - val_loss: 0.2295 - val_accuracy: 0.9000\n",
      "Epoch 25/30\n",
      "3/3 [==============================] - 0s 16ms/step - loss: 0.0894 - accuracy: 0.9714 - val_loss: 0.2287 - val_accuracy: 0.9000\n",
      "Epoch 26/30\n",
      "3/3 [==============================] - 0s 18ms/step - loss: 0.0952 - accuracy: 0.9857 - val_loss: 0.2328 - val_accuracy: 0.9333\n",
      "Epoch 27/30\n",
      "3/3 [==============================] - 0s 16ms/step - loss: 0.0715 - accuracy: 0.9857 - val_loss: 0.2349 - val_accuracy: 0.9333\n",
      "Epoch 28/30\n",
      "3/3 [==============================] - 0s 16ms/step - loss: 0.0597 - accuracy: 1.0000 - val_loss: 0.2334 - val_accuracy: 0.9333\n",
      "Epoch 29/30\n",
      "3/3 [==============================] - 0s 18ms/step - loss: 0.0634 - accuracy: 1.0000 - val_loss: 0.2307 - val_accuracy: 0.9333\n",
      "Epoch 30/30\n",
      "3/3 [==============================] - 0s 17ms/step - loss: 0.0663 - accuracy: 1.0000 - val_loss: 0.2250 - val_accuracy: 0.9333\n"
     ]
    }
   ],
   "source": [
    "hist = model.fit(x_train, y_train, epochs=30, validation_data=(x_test, y_test))"
   ]
  },
  {
   "cell_type": "code",
   "execution_count": 36,
   "metadata": {},
   "outputs": [
    {
     "name": "stdout",
     "output_type": "stream",
     "text": [
      "Train loss: 0.027323367074131966\n",
      "Train acc: 1.0\n"
     ]
    }
   ],
   "source": [
    "loss, acc = model.evaluate(x_train, y_train, verbose=0)\n",
    "print(\"Train loss:\", loss)\n",
    "print(\"Train acc:\", acc)"
   ]
  },
  {
   "cell_type": "code",
   "execution_count": 37,
   "metadata": {},
   "outputs": [
    {
     "name": "stdout",
     "output_type": "stream",
     "text": [
      "Test loss: 0.22501493990421295\n",
      "Test acc: 0.9333333373069763\n"
     ]
    }
   ],
   "source": [
    "loss, acc = model.evaluate(x_test, y_test, verbose=0)\n",
    "print(\"Test loss:\", loss)\n",
    "print(\"Test acc:\", acc)"
   ]
  },
  {
   "cell_type": "markdown",
   "metadata": {},
   "source": [
    "### Neural Network with PCA"
   ]
  },
  {
   "cell_type": "code",
   "execution_count": 38,
   "metadata": {},
   "outputs": [],
   "source": [
    "x_train, x_test, y_train, y_test = train_test_split(df_pca, target_dummies,\n",
    "                                                    test_size=0.3,\n",
    "                                                    random_state=42,\n",
    "                                                    stratify=target_dummies)"
   ]
  },
  {
   "cell_type": "code",
   "execution_count": 39,
   "metadata": {},
   "outputs": [],
   "source": [
    "n_features = x_train.shape[1]"
   ]
  },
  {
   "cell_type": "code",
   "execution_count": 40,
   "metadata": {},
   "outputs": [
    {
     "data": {
      "text/plain": [
       "22"
      ]
     },
     "execution_count": 40,
     "metadata": {},
     "output_type": "execute_result"
    }
   ],
   "source": [
    "n_features"
   ]
  },
  {
   "cell_type": "code",
   "execution_count": 31,
   "metadata": {},
   "outputs": [],
   "source": [
    "model = Sequential()\n",
    "model.add(Input(shape=(n_features,)))\n",
    "model.add(Dropout(0.30))\n",
    "model.add(Dense(n_features, activation=\"relu\"))\n",
    "model.add(Dense(, activation=))\n",
    "model.add(Dense(7, activation=\"softmax\"))"
   ]
  },
  {
   "cell_type": "code",
   "execution_count": 32,
   "metadata": {},
   "outputs": [],
   "source": [
    "model.compile(optimizer=\"adam\", loss=\"categorical_crossentropy\", metrics=[\"accuracy\"])"
   ]
  },
  {
   "cell_type": "code",
   "execution_count": 33,
   "metadata": {},
   "outputs": [
    {
     "name": "stdout",
     "output_type": "stream",
     "text": [
      "Model: \"sequential_2\"\n",
      "_________________________________________________________________\n",
      " Layer (type)                Output Shape              Param #   \n",
      "=================================================================\n",
      " dropout_2 (Dropout)         (None, 22)                0         \n",
      "                                                                 \n",
      " dense_4 (Dense)             (None, 22)                506       \n",
      "                                                                 \n",
      " dense_5 (Dense)             (None, 7)                 161       \n",
      "                                                                 \n",
      "=================================================================\n",
      "Total params: 667\n",
      "Trainable params: 667\n",
      "Non-trainable params: 0\n",
      "_________________________________________________________________\n"
     ]
    }
   ],
   "source": [
    "model.summary()"
   ]
  },
  {
   "cell_type": "code",
   "execution_count": 34,
   "metadata": {},
   "outputs": [
    {
     "name": "stdout",
     "output_type": "stream",
     "text": [
      "Epoch 1/30\n",
      "3/3 [==============================] - 1s 79ms/step - loss: 3.6030 - accuracy: 0.2000 - val_loss: 2.9148 - val_accuracy: 0.1333\n",
      "Epoch 2/30\n",
      "3/3 [==============================] - 0s 11ms/step - loss: 3.4268 - accuracy: 0.1857 - val_loss: 2.8347 - val_accuracy: 0.1333\n",
      "Epoch 3/30\n",
      "3/3 [==============================] - 0s 14ms/step - loss: 3.4162 - accuracy: 0.1429 - val_loss: 2.7625 - val_accuracy: 0.1333\n",
      "Epoch 4/30\n",
      "3/3 [==============================] - 0s 17ms/step - loss: 3.1036 - accuracy: 0.1429 - val_loss: 2.6890 - val_accuracy: 0.1333\n",
      "Epoch 5/30\n",
      "3/3 [==============================] - 0s 14ms/step - loss: 2.8238 - accuracy: 0.2143 - val_loss: 2.6166 - val_accuracy: 0.1333\n",
      "Epoch 6/30\n",
      "3/3 [==============================] - 0s 14ms/step - loss: 2.9322 - accuracy: 0.1286 - val_loss: 2.5476 - val_accuracy: 0.1333\n",
      "Epoch 7/30\n",
      "3/3 [==============================] - 0s 14ms/step - loss: 2.9633 - accuracy: 0.1429 - val_loss: 2.4790 - val_accuracy: 0.1667\n",
      "Epoch 8/30\n",
      "3/3 [==============================] - 0s 15ms/step - loss: 2.6811 - accuracy: 0.2143 - val_loss: 2.4130 - val_accuracy: 0.1667\n",
      "Epoch 9/30\n",
      "3/3 [==============================] - 0s 15ms/step - loss: 2.8238 - accuracy: 0.2000 - val_loss: 2.3510 - val_accuracy: 0.1667\n",
      "Epoch 10/30\n",
      "3/3 [==============================] - 0s 15ms/step - loss: 2.7413 - accuracy: 0.1857 - val_loss: 2.2900 - val_accuracy: 0.1667\n",
      "Epoch 11/30\n",
      "3/3 [==============================] - 0s 19ms/step - loss: 2.4609 - accuracy: 0.2143 - val_loss: 2.2329 - val_accuracy: 0.1667\n",
      "Epoch 12/30\n",
      "3/3 [==============================] - 0s 12ms/step - loss: 2.4892 - accuracy: 0.2286 - val_loss: 2.1771 - val_accuracy: 0.1667\n",
      "Epoch 13/30\n",
      "3/3 [==============================] - 0s 14ms/step - loss: 2.4250 - accuracy: 0.1714 - val_loss: 2.1264 - val_accuracy: 0.2000\n",
      "Epoch 14/30\n",
      "3/3 [==============================] - 0s 15ms/step - loss: 2.3127 - accuracy: 0.2000 - val_loss: 2.0735 - val_accuracy: 0.2333\n",
      "Epoch 15/30\n",
      "3/3 [==============================] - 0s 14ms/step - loss: 2.1666 - accuracy: 0.2429 - val_loss: 2.0209 - val_accuracy: 0.2333\n",
      "Epoch 16/30\n",
      "3/3 [==============================] - 0s 15ms/step - loss: 2.1456 - accuracy: 0.2571 - val_loss: 1.9729 - val_accuracy: 0.2667\n",
      "Epoch 17/30\n",
      "3/3 [==============================] - 0s 13ms/step - loss: 2.0355 - accuracy: 0.2143 - val_loss: 1.9276 - val_accuracy: 0.3333\n",
      "Epoch 18/30\n",
      "3/3 [==============================] - 0s 15ms/step - loss: 1.8028 - accuracy: 0.3286 - val_loss: 1.8853 - val_accuracy: 0.3333\n",
      "Epoch 19/30\n",
      "3/3 [==============================] - 0s 14ms/step - loss: 2.0222 - accuracy: 0.2429 - val_loss: 1.8448 - val_accuracy: 0.3667\n",
      "Epoch 20/30\n",
      "3/3 [==============================] - 0s 14ms/step - loss: 2.1264 - accuracy: 0.2857 - val_loss: 1.8023 - val_accuracy: 0.3667\n",
      "Epoch 21/30\n",
      "3/3 [==============================] - 0s 15ms/step - loss: 1.7904 - accuracy: 0.3714 - val_loss: 1.7615 - val_accuracy: 0.3667\n",
      "Epoch 22/30\n",
      "3/3 [==============================] - 0s 15ms/step - loss: 1.6690 - accuracy: 0.3857 - val_loss: 1.7231 - val_accuracy: 0.3667\n",
      "Epoch 23/30\n",
      "3/3 [==============================] - 0s 14ms/step - loss: 1.8503 - accuracy: 0.2429 - val_loss: 1.6858 - val_accuracy: 0.4000\n",
      "Epoch 24/30\n",
      "3/3 [==============================] - 0s 14ms/step - loss: 2.1797 - accuracy: 0.2000 - val_loss: 1.6459 - val_accuracy: 0.4333\n",
      "Epoch 25/30\n",
      "3/3 [==============================] - 0s 12ms/step - loss: 1.8824 - accuracy: 0.3429 - val_loss: 1.6101 - val_accuracy: 0.4667\n",
      "Epoch 26/30\n",
      "3/3 [==============================] - 0s 14ms/step - loss: 1.5454 - accuracy: 0.4143 - val_loss: 1.5774 - val_accuracy: 0.4667\n",
      "Epoch 27/30\n",
      "3/3 [==============================] - 0s 15ms/step - loss: 1.5900 - accuracy: 0.4000 - val_loss: 1.5457 - val_accuracy: 0.4667\n",
      "Epoch 28/30\n",
      "3/3 [==============================] - 0s 14ms/step - loss: 1.5252 - accuracy: 0.3857 - val_loss: 1.5174 - val_accuracy: 0.4667\n",
      "Epoch 29/30\n",
      "3/3 [==============================] - 0s 14ms/step - loss: 1.5268 - accuracy: 0.4571 - val_loss: 1.4925 - val_accuracy: 0.4667\n",
      "Epoch 30/30\n",
      "3/3 [==============================] - 0s 13ms/step - loss: 1.6789 - accuracy: 0.3143 - val_loss: 1.4677 - val_accuracy: 0.4667\n"
     ]
    }
   ],
   "source": [
    "hist = model.fit(x_train, y_train, epochs=100, validation_data=(x_test, y_test))"
   ]
  },
  {
   "cell_type": "code",
   "execution_count": 35,
   "metadata": {},
   "outputs": [
    {
     "name": "stdout",
     "output_type": "stream",
     "text": [
      "Train loss: 1.258591651916504\n",
      "Train acc: 0.6000000238418579\n"
     ]
    }
   ],
   "source": [
    "loss, acc = model.evaluate(x_train, y_train, verbose=0)\n",
    "print(\"Train loss:\", loss)\n",
    "print(\"Train acc:\", acc)"
   ]
  },
  {
   "cell_type": "code",
   "execution_count": 36,
   "metadata": {},
   "outputs": [
    {
     "name": "stdout",
     "output_type": "stream",
     "text": [
      "Test loss: 1.4677164554595947\n",
      "Test acc: 0.46666666865348816\n"
     ]
    }
   ],
   "source": [
    "loss, acc = model.evaluate(x_test, y_test, verbose=0)\n",
    "print(\"Test loss:\", loss)\n",
    "print(\"Test acc:\", acc)"
   ]
  },
  {
   "cell_type": "code",
   "execution_count": null,
   "metadata": {},
   "outputs": [],
   "source": []
  }
 ],
 "metadata": {
  "interpreter": {
   "hash": "e24f5c8f47ce628df06e6a418f439355aaed4f63445fc5001ab64130bd080cd8"
  },
  "kernelspec": {
   "display_name": "Python 3.9.7 ('.cargas_eletricas': venv)",
   "language": "python",
   "name": "python3"
  },
  "language_info": {
   "codemirror_mode": {
    "name": "ipython",
    "version": 3
   },
   "file_extension": ".py",
   "mimetype": "text/x-python",
   "name": "python",
   "nbconvert_exporter": "python",
   "pygments_lexer": "ipython3",
   "version": "3.9.7"
  },
  "orig_nbformat": 4
 },
 "nbformat": 4,
 "nbformat_minor": 2
}
