{
 "cells": [
  {
   "cell_type": "code",
   "execution_count": 39,
   "metadata": {},
   "outputs": [],
   "source": [
    "import pandas as pd\n",
    "import numpy as np\n",
    "import seaborn as sns\n",
    "import matplotlib.pyplot as plt\n",
    "\n",
    "from decouple import config\n",
    "from sklearn.preprocessing import StandardScaler\n",
    "from sklearn.model_selection import train_test_split\n",
    "from sklearn.decomposition import PCA\n",
    "from keras import Sequential\n",
    "from keras.layers import Input, Dense, Dropout\n",
    "\n"
   ]
  },
  {
   "cell_type": "code",
   "execution_count": 2,
   "metadata": {},
   "outputs": [],
   "source": [
    "csv_path = config(\"CSV_PATH\")"
   ]
  },
  {
   "cell_type": "code",
   "execution_count": 3,
   "metadata": {},
   "outputs": [],
   "source": [
    "df = pd.read_csv(csv_path)"
   ]
  },
  {
   "cell_type": "code",
   "execution_count": 4,
   "metadata": {},
   "outputs": [
    {
     "data": {
      "text/html": [
       "<div>\n",
       "<style scoped>\n",
       "    .dataframe tbody tr th:only-of-type {\n",
       "        vertical-align: middle;\n",
       "    }\n",
       "\n",
       "    .dataframe tbody tr th {\n",
       "        vertical-align: top;\n",
       "    }\n",
       "\n",
       "    .dataframe thead th {\n",
       "        text-align: right;\n",
       "    }\n",
       "</style>\n",
       "<table border=\"1\" class=\"dataframe\">\n",
       "  <thead>\n",
       "    <tr style=\"text-align: right;\">\n",
       "      <th></th>\n",
       "      <th>t0</th>\n",
       "      <th>t1</th>\n",
       "      <th>t2</th>\n",
       "      <th>t3</th>\n",
       "      <th>t4</th>\n",
       "      <th>t5</th>\n",
       "      <th>t6</th>\n",
       "      <th>t7</th>\n",
       "      <th>t8</th>\n",
       "      <th>t9</th>\n",
       "      <th>...</th>\n",
       "      <th>t191</th>\n",
       "      <th>t192</th>\n",
       "      <th>t193</th>\n",
       "      <th>t194</th>\n",
       "      <th>t195</th>\n",
       "      <th>t196</th>\n",
       "      <th>t197</th>\n",
       "      <th>t198</th>\n",
       "      <th>t199</th>\n",
       "      <th>Classes</th>\n",
       "    </tr>\n",
       "  </thead>\n",
       "  <tbody>\n",
       "    <tr>\n",
       "      <th>0</th>\n",
       "      <td>24.00</td>\n",
       "      <td>24.00</td>\n",
       "      <td>23.00</td>\n",
       "      <td>25.00</td>\n",
       "      <td>24.00</td>\n",
       "      <td>25.00</td>\n",
       "      <td>24.00</td>\n",
       "      <td>24.00</td>\n",
       "      <td>22.00</td>\n",
       "      <td>25.00</td>\n",
       "      <td>...</td>\n",
       "      <td>1.00</td>\n",
       "      <td>-1.00</td>\n",
       "      <td>1.00</td>\n",
       "      <td>-1.00</td>\n",
       "      <td>1.00</td>\n",
       "      <td>0.00</td>\n",
       "      <td>1.00</td>\n",
       "      <td>0.00</td>\n",
       "      <td>0.00</td>\n",
       "      <td>1</td>\n",
       "    </tr>\n",
       "    <tr>\n",
       "      <th>1</th>\n",
       "      <td>23.00</td>\n",
       "      <td>23.00</td>\n",
       "      <td>22.00</td>\n",
       "      <td>21.00</td>\n",
       "      <td>21.00</td>\n",
       "      <td>22.00</td>\n",
       "      <td>23.00</td>\n",
       "      <td>23.00</td>\n",
       "      <td>22.00</td>\n",
       "      <td>21.00</td>\n",
       "      <td>...</td>\n",
       "      <td>-1.00</td>\n",
       "      <td>1.00</td>\n",
       "      <td>0.00</td>\n",
       "      <td>1.00</td>\n",
       "      <td>-1.00</td>\n",
       "      <td>0.00</td>\n",
       "      <td>-1.00</td>\n",
       "      <td>1.00</td>\n",
       "      <td>0.00</td>\n",
       "      <td>1</td>\n",
       "    </tr>\n",
       "    <tr>\n",
       "      <th>2</th>\n",
       "      <td>-0.55</td>\n",
       "      <td>-0.55</td>\n",
       "      <td>-0.55</td>\n",
       "      <td>3.45</td>\n",
       "      <td>13.45</td>\n",
       "      <td>11.45</td>\n",
       "      <td>18.45</td>\n",
       "      <td>18.45</td>\n",
       "      <td>20.45</td>\n",
       "      <td>20.45</td>\n",
       "      <td>...</td>\n",
       "      <td>-0.55</td>\n",
       "      <td>0.45</td>\n",
       "      <td>-0.55</td>\n",
       "      <td>0.45</td>\n",
       "      <td>-0.55</td>\n",
       "      <td>0.45</td>\n",
       "      <td>-0.55</td>\n",
       "      <td>0.45</td>\n",
       "      <td>-0.55</td>\n",
       "      <td>1</td>\n",
       "    </tr>\n",
       "    <tr>\n",
       "      <th>3</th>\n",
       "      <td>12.30</td>\n",
       "      <td>10.30</td>\n",
       "      <td>15.30</td>\n",
       "      <td>15.30</td>\n",
       "      <td>16.30</td>\n",
       "      <td>15.30</td>\n",
       "      <td>17.30</td>\n",
       "      <td>16.30</td>\n",
       "      <td>17.30</td>\n",
       "      <td>15.30</td>\n",
       "      <td>...</td>\n",
       "      <td>-0.70</td>\n",
       "      <td>0.30</td>\n",
       "      <td>-0.70</td>\n",
       "      <td>0.30</td>\n",
       "      <td>-0.70</td>\n",
       "      <td>1.30</td>\n",
       "      <td>-0.70</td>\n",
       "      <td>1.30</td>\n",
       "      <td>-0.70</td>\n",
       "      <td>1</td>\n",
       "    </tr>\n",
       "    <tr>\n",
       "      <th>4</th>\n",
       "      <td>24.85</td>\n",
       "      <td>2.85</td>\n",
       "      <td>5.85</td>\n",
       "      <td>-1.15</td>\n",
       "      <td>2.85</td>\n",
       "      <td>-1.15</td>\n",
       "      <td>1.85</td>\n",
       "      <td>-1.15</td>\n",
       "      <td>0.85</td>\n",
       "      <td>-1.15</td>\n",
       "      <td>...</td>\n",
       "      <td>-0.15</td>\n",
       "      <td>0.85</td>\n",
       "      <td>-1.15</td>\n",
       "      <td>-0.15</td>\n",
       "      <td>-1.15</td>\n",
       "      <td>0.85</td>\n",
       "      <td>-0.15</td>\n",
       "      <td>0.85</td>\n",
       "      <td>-0.15</td>\n",
       "      <td>2</td>\n",
       "    </tr>\n",
       "  </tbody>\n",
       "</table>\n",
       "<p>5 rows × 201 columns</p>\n",
       "</div>"
      ],
      "text/plain": [
       "      t0     t1     t2     t3     t4     t5     t6     t7     t8     t9  ...  \\\n",
       "0  24.00  24.00  23.00  25.00  24.00  25.00  24.00  24.00  22.00  25.00  ...   \n",
       "1  23.00  23.00  22.00  21.00  21.00  22.00  23.00  23.00  22.00  21.00  ...   \n",
       "2  -0.55  -0.55  -0.55   3.45  13.45  11.45  18.45  18.45  20.45  20.45  ...   \n",
       "3  12.30  10.30  15.30  15.30  16.30  15.30  17.30  16.30  17.30  15.30  ...   \n",
       "4  24.85   2.85   5.85  -1.15   2.85  -1.15   1.85  -1.15   0.85  -1.15  ...   \n",
       "\n",
       "   t191  t192  t193  t194  t195  t196  t197  t198  t199  Classes  \n",
       "0  1.00 -1.00  1.00 -1.00  1.00  0.00  1.00  0.00  0.00        1  \n",
       "1 -1.00  1.00  0.00  1.00 -1.00  0.00 -1.00  1.00  0.00        1  \n",
       "2 -0.55  0.45 -0.55  0.45 -0.55  0.45 -0.55  0.45 -0.55        1  \n",
       "3 -0.70  0.30 -0.70  0.30 -0.70  1.30 -0.70  1.30 -0.70        1  \n",
       "4 -0.15  0.85 -1.15 -0.15 -1.15  0.85 -0.15  0.85 -0.15        2  \n",
       "\n",
       "[5 rows x 201 columns]"
      ]
     },
     "execution_count": 4,
     "metadata": {},
     "output_type": "execute_result"
    }
   ],
   "source": [
    "df.head()"
   ]
  },
  {
   "cell_type": "code",
   "execution_count": 5,
   "metadata": {},
   "outputs": [],
   "source": [
    "features = df.drop(\"Classes\", axis= 1)\n",
    "target = df[\"Classes\"]"
   ]
  },
  {
   "cell_type": "code",
   "execution_count": 6,
   "metadata": {},
   "outputs": [],
   "source": [
    "target_dummies = pd.get_dummies(target)"
   ]
  },
  {
   "cell_type": "code",
   "execution_count": 7,
   "metadata": {},
   "outputs": [],
   "source": [
    "scaler = StandardScaler()"
   ]
  },
  {
   "cell_type": "code",
   "execution_count": 8,
   "metadata": {},
   "outputs": [],
   "source": [
    "df_scaled = scaler.fit_transform(features)"
   ]
  },
  {
   "cell_type": "markdown",
   "metadata": {},
   "source": [
    "### PCA"
   ]
  },
  {
   "cell_type": "code",
   "execution_count": 9,
   "metadata": {},
   "outputs": [
    {
     "data": {
      "text/html": [
       "<style>#sk-container-id-1 {color: black;background-color: white;}#sk-container-id-1 pre{padding: 0;}#sk-container-id-1 div.sk-toggleable {background-color: white;}#sk-container-id-1 label.sk-toggleable__label {cursor: pointer;display: block;width: 100%;margin-bottom: 0;padding: 0.3em;box-sizing: border-box;text-align: center;}#sk-container-id-1 label.sk-toggleable__label-arrow:before {content: \"▸\";float: left;margin-right: 0.25em;color: #696969;}#sk-container-id-1 label.sk-toggleable__label-arrow:hover:before {color: black;}#sk-container-id-1 div.sk-estimator:hover label.sk-toggleable__label-arrow:before {color: black;}#sk-container-id-1 div.sk-toggleable__content {max-height: 0;max-width: 0;overflow: hidden;text-align: left;background-color: #f0f8ff;}#sk-container-id-1 div.sk-toggleable__content pre {margin: 0.2em;color: black;border-radius: 0.25em;background-color: #f0f8ff;}#sk-container-id-1 input.sk-toggleable__control:checked~div.sk-toggleable__content {max-height: 200px;max-width: 100%;overflow: auto;}#sk-container-id-1 input.sk-toggleable__control:checked~label.sk-toggleable__label-arrow:before {content: \"▾\";}#sk-container-id-1 div.sk-estimator input.sk-toggleable__control:checked~label.sk-toggleable__label {background-color: #d4ebff;}#sk-container-id-1 div.sk-label input.sk-toggleable__control:checked~label.sk-toggleable__label {background-color: #d4ebff;}#sk-container-id-1 input.sk-hidden--visually {border: 0;clip: rect(1px 1px 1px 1px);clip: rect(1px, 1px, 1px, 1px);height: 1px;margin: -1px;overflow: hidden;padding: 0;position: absolute;width: 1px;}#sk-container-id-1 div.sk-estimator {font-family: monospace;background-color: #f0f8ff;border: 1px dotted black;border-radius: 0.25em;box-sizing: border-box;margin-bottom: 0.5em;}#sk-container-id-1 div.sk-estimator:hover {background-color: #d4ebff;}#sk-container-id-1 div.sk-parallel-item::after {content: \"\";width: 100%;border-bottom: 1px solid gray;flex-grow: 1;}#sk-container-id-1 div.sk-label:hover label.sk-toggleable__label {background-color: #d4ebff;}#sk-container-id-1 div.sk-serial::before {content: \"\";position: absolute;border-left: 1px solid gray;box-sizing: border-box;top: 0;bottom: 0;left: 50%;z-index: 0;}#sk-container-id-1 div.sk-serial {display: flex;flex-direction: column;align-items: center;background-color: white;padding-right: 0.2em;padding-left: 0.2em;position: relative;}#sk-container-id-1 div.sk-item {position: relative;z-index: 1;}#sk-container-id-1 div.sk-parallel {display: flex;align-items: stretch;justify-content: center;background-color: white;position: relative;}#sk-container-id-1 div.sk-item::before, #sk-container-id-1 div.sk-parallel-item::before {content: \"\";position: absolute;border-left: 1px solid gray;box-sizing: border-box;top: 0;bottom: 0;left: 50%;z-index: -1;}#sk-container-id-1 div.sk-parallel-item {display: flex;flex-direction: column;z-index: 1;position: relative;background-color: white;}#sk-container-id-1 div.sk-parallel-item:first-child::after {align-self: flex-end;width: 50%;}#sk-container-id-1 div.sk-parallel-item:last-child::after {align-self: flex-start;width: 50%;}#sk-container-id-1 div.sk-parallel-item:only-child::after {width: 0;}#sk-container-id-1 div.sk-dashed-wrapped {border: 1px dashed gray;margin: 0 0.4em 0.5em 0.4em;box-sizing: border-box;padding-bottom: 0.4em;background-color: white;}#sk-container-id-1 div.sk-label label {font-family: monospace;font-weight: bold;display: inline-block;line-height: 1.2em;}#sk-container-id-1 div.sk-label-container {text-align: center;}#sk-container-id-1 div.sk-container {/* jupyter's `normalize.less` sets `[hidden] { display: none; }` but bootstrap.min.css set `[hidden] { display: none !important; }` so we also need the `!important` here to be able to override the default hidden behavior on the sphinx rendered scikit-learn.org. See: https://github.com/scikit-learn/scikit-learn/issues/21755 */display: inline-block !important;position: relative;}#sk-container-id-1 div.sk-text-repr-fallback {display: none;}</style><div id=\"sk-container-id-1\" class=\"sk-top-container\"><div class=\"sk-text-repr-fallback\"><pre>PCA()</pre><b>In a Jupyter environment, please rerun this cell to show the HTML representation or trust the notebook. <br />On GitHub, the HTML representation is unable to render, please try loading this page with nbviewer.org.</b></div><div class=\"sk-container\" hidden><div class=\"sk-item\"><div class=\"sk-estimator sk-toggleable\"><input class=\"sk-toggleable__control sk-hidden--visually\" id=\"sk-estimator-id-1\" type=\"checkbox\" checked><label for=\"sk-estimator-id-1\" class=\"sk-toggleable__label sk-toggleable__label-arrow\">PCA</label><div class=\"sk-toggleable__content\"><pre>PCA()</pre></div></div></div></div></div>"
      ],
      "text/plain": [
       "PCA()"
      ]
     },
     "execution_count": 9,
     "metadata": {},
     "output_type": "execute_result"
    }
   ],
   "source": [
    "pca = PCA()\n",
    "pca.fit(df_scaled)"
   ]
  },
  {
   "cell_type": "code",
   "execution_count": 10,
   "metadata": {},
   "outputs": [
    {
     "data": {
      "text/plain": [
       "100"
      ]
     },
     "execution_count": 10,
     "metadata": {},
     "output_type": "execute_result"
    }
   ],
   "source": [
    "pca.n_components_"
   ]
  },
  {
   "cell_type": "code",
   "execution_count": 11,
   "metadata": {},
   "outputs": [
    {
     "data": {
      "image/png": "[encoded data removed]",
      "text/plain": [
       "<Figure size 1080x360 with 1 Axes>"
      ]
     },
     "metadata": {
      "needs_background": "light"
     },
     "output_type": "display_data"
    }
   ],
   "source": [
    "plt.figure(figsize=(15,5))\n",
    "plt.bar(np.arange(1, 101), pca.explained_variance_)\n",
    "plt.xlabel('PCA Feature')\n",
    "plt.ylabel('Variance')\n",
    "plt.xticks(range(1, 101, 10))\n",
    "plt.xlim(0,51)\n",
    "plt.show()"
   ]
  },
  {
   "cell_type": "code",
   "execution_count": 12,
   "metadata": {},
   "outputs": [
    {
     "data": {
      "image/png": "[encoded data removed]",
      "text/plain": [
       "<Figure size 432x288 with 1 Axes>"
      ]
     },
     "metadata": {
      "needs_background": "light"
     },
     "output_type": "display_data"
    }
   ],
   "source": [
    "plt.plot(np.cumsum(pca.explained_variance_ratio_), color='black')\n",
    "plt.xlim(0,100)\n",
    "plt.yticks(np.arange(0, 1.1, 0.1))\n",
    "plt.axvline(30, c='b')\n",
    "plt.axhline(0.95, c='r')\n",
    "plt.grid()\n",
    "plt.show()"
   ]
  },
  {
   "cell_type": "code",
   "execution_count": 13,
   "metadata": {},
   "outputs": [],
   "source": [
    "pca = PCA(n_components=22)\n",
    "df_pca = pca.fit_transform(df_scaled)"
   ]
  },
  {
   "cell_type": "markdown",
   "metadata": {},
   "source": [
    "### Model without PCA"
   ]
  },
  {
   "cell_type": "code",
   "execution_count": 14,
   "metadata": {},
   "outputs": [],
   "source": [
    "x_train, x_test, y_train, y_test = train_test_split(df_scaled, target_dummies,\n",
    "                                                    test_size=0.3,\n",
    "                                                    random_state=42,\n",
    "                                                    stratify=target_dummies)"
   ]
  },
  {
   "cell_type": "code",
   "execution_count": 15,
   "metadata": {},
   "outputs": [],
   "source": [
    "n_features = x_train.shape[1]"
   ]
  },
  {
   "cell_type": "code",
   "execution_count": 16,
   "metadata": {},
   "outputs": [
    {
     "data": {
      "text/plain": [
       "200"
      ]
     },
     "execution_count": 16,
     "metadata": {},
     "output_type": "execute_result"
    }
   ],
   "source": [
    "n_features"
   ]
  },
  {
   "cell_type": "code",
   "execution_count": 17,
   "metadata": {},
   "outputs": [
    {
     "name": "stderr",
     "output_type": "stream",
     "text": [
      "2022-06-13 15:59:37.287061: I tensorflow/core/platform/cpu_feature_guard.cc:193] This TensorFlow binary is optimized with oneAPI Deep Neural Network Library (oneDNN) to use the following CPU instructions in performance-critical operations:  AVX2 AVX512F AVX512_VNNI FMA\n",
      "To enable them in other operations, rebuild TensorFlow with the appropriate compiler flags.\n"
     ]
    }
   ],
   "source": [
    "model = Sequential()\n",
    "model.add(Dense(n_features, activation=\"tanh\", input_shape=(n_features,)))\n",
    "model.add(Dense(128, activation=\"tanh\"))\n",
    "#model.add(Dense(64, activation=\"tanh\"))\n",
    "model.add(Dropout(0.50))\n",
    "model.add(Dense(7, activation=\"softmax\"))"
   ]
  },
  {
   "cell_type": "code",
   "execution_count": 18,
   "metadata": {},
   "outputs": [],
   "source": [
    "model.compile(optimizer=\"adam\", loss=\"categorical_crossentropy\", metrics=[\"accuracy\"])"
   ]
  },
  {
   "cell_type": "code",
   "execution_count": 19,
   "metadata": {},
   "outputs": [
    {
     "name": "stdout",
     "output_type": "stream",
     "text": [
      "Model: \"sequential\"\n",
      "_________________________________________________________________\n",
      " Layer (type)                Output Shape              Param #   \n",
      "=================================================================\n",
      " dense (Dense)               (None, 200)               40200     \n",
      "                                                                 \n",
      " dense_1 (Dense)             (None, 128)               25728     \n",
      "                                                                 \n",
      " dropout (Dropout)           (None, 128)               0         \n",
      "                                                                 \n",
      " dense_2 (Dense)             (None, 7)                 903       \n",
      "                                                                 \n",
      "=================================================================\n",
      "Total params: 66,831\n",
      "Trainable params: 66,831\n",
      "Non-trainable params: 0\n",
      "_________________________________________________________________\n"
     ]
    }
   ],
   "source": [
    "model.summary()"
   ]
  },
  {
   "cell_type": "code",
   "execution_count": 20,
   "metadata": {},
   "outputs": [
    {
     "name": "stdout",
     "output_type": "stream",
     "text": [
      "Epoch 1/16\n",
      "3/3 [==============================] - 1s 77ms/step - loss: 2.3346 - accuracy: 0.1143 - val_loss: 1.5533 - val_accuracy: 0.5000\n",
      "Epoch 2/16\n",
      "3/3 [==============================] - 0s 10ms/step - loss: 1.5628 - accuracy: 0.5000 - val_loss: 1.2472 - val_accuracy: 0.5667\n",
      "Epoch 3/16\n",
      "3/3 [==============================] - 0s 12ms/step - loss: 1.1619 - accuracy: 0.5429 - val_loss: 1.0755 - val_accuracy: 0.7000\n",
      "Epoch 4/16\n",
      "3/3 [==============================] - 0s 12ms/step - loss: 0.7443 - accuracy: 0.7286 - val_loss: 0.9710 - val_accuracy: 0.7667\n",
      "Epoch 5/16\n",
      "3/3 [==============================] - 0s 12ms/step - loss: 0.6766 - accuracy: 0.8286 - val_loss: 0.8919 - val_accuracy: 0.7667\n",
      "Epoch 6/16\n",
      "3/3 [==============================] - 0s 13ms/step - loss: 0.5714 - accuracy: 0.8571 - val_loss: 0.8291 - val_accuracy: 0.8000\n",
      "Epoch 7/16\n",
      "3/3 [==============================] - 0s 11ms/step - loss: 0.5330 - accuracy: 0.8857 - val_loss: 0.7648 - val_accuracy: 0.8000\n",
      "Epoch 8/16\n",
      "3/3 [==============================] - 0s 10ms/step - loss: 0.5552 - accuracy: 0.8571 - val_loss: 0.6924 - val_accuracy: 0.8000\n",
      "Epoch 9/16\n",
      "3/3 [==============================] - 0s 10ms/step - loss: 0.3700 - accuracy: 0.9000 - val_loss: 0.6240 - val_accuracy: 0.8000\n",
      "Epoch 10/16\n",
      "3/3 [==============================] - 0s 10ms/step - loss: 0.3850 - accuracy: 0.9143 - val_loss: 0.5596 - val_accuracy: 0.8000\n",
      "Epoch 11/16\n",
      "3/3 [==============================] - 0s 10ms/step - loss: 0.3549 - accuracy: 0.8857 - val_loss: 0.5192 - val_accuracy: 0.8333\n",
      "Epoch 12/16\n",
      "3/3 [==============================] - 0s 10ms/step - loss: 0.3360 - accuracy: 0.9143 - val_loss: 0.4941 - val_accuracy: 0.8333\n",
      "Epoch 13/16\n",
      "3/3 [==============================] - 0s 10ms/step - loss: 0.2962 - accuracy: 0.9286 - val_loss: 0.4689 - val_accuracy: 0.8333\n",
      "Epoch 14/16\n",
      "3/3 [==============================] - 0s 10ms/step - loss: 0.2919 - accuracy: 0.9429 - val_loss: 0.4473 - val_accuracy: 0.8333\n",
      "Epoch 15/16\n",
      "3/3 [==============================] - 0s 11ms/step - loss: 0.2204 - accuracy: 0.9714 - val_loss: 0.4252 - val_accuracy: 0.8667\n",
      "Epoch 16/16\n",
      "3/3 [==============================] - 0s 11ms/step - loss: 0.1724 - accuracy: 0.9714 - val_loss: 0.4052 - val_accuracy: 0.9000\n"
     ]
    }
   ],
   "source": [
    "hist = model.fit(x_train, y_train, epochs=16, validation_data=(x_test, y_test))"
   ]
  },
  {
   "cell_type": "code",
   "execution_count": 21,
   "metadata": {},
   "outputs": [
    {
     "name": "stdout",
     "output_type": "stream",
     "text": [
      "Train loss: 0.125383660197258\n",
      "Train acc: 0.9857142567634583\n"
     ]
    }
   ],
   "source": [
    "loss, acc = model.evaluate(x_train, y_train, verbose=0)\n",
    "print(\"Train loss:\", loss)\n",
    "print(\"Train acc:\", acc)"
   ]
  },
  {
   "cell_type": "code",
   "execution_count": 22,
   "metadata": {},
   "outputs": [
    {
     "name": "stdout",
     "output_type": "stream",
     "text": [
      "Test loss: 0.405241459608078\n",
      "Test acc: 0.8999999761581421\n"
     ]
    }
   ],
   "source": [
    "loss, acc = model.evaluate(x_test, y_test, verbose=0)\n",
    "print(\"Test loss:\", loss)\n",
    "print(\"Test acc:\", acc)"
   ]
  },
  {
   "cell_type": "code",
   "execution_count": 23,
   "metadata": {},
   "outputs": [
    {
     "data": {
      "image/png": "[encoded data removed]",
      "text/plain": [
       "<Figure size 432x288 with 1 Axes>"
      ]
     },
     "metadata": {
      "needs_background": "light"
     },
     "output_type": "display_data"
    }
   ],
   "source": [
    "plt.plot(hist.history['accuracy'])\n",
    "plt.plot(hist.history['val_accuracy'])\n",
    "plt.title('Acuracia por epoca')\n",
    "plt.xlabel('épocas')\n",
    "plt.ylabel('acurácia')\n",
    "plt.legend(['treino', 'validacao'])\n",
    "plt.show()"
   ]
  },
  {
   "cell_type": "code",
   "execution_count": 24,
   "metadata": {},
   "outputs": [
    {
     "data": {
      "image/png": "[encoded data removed]",
      "text/plain": [
       "<Figure size 432x288 with 1 Axes>"
      ]
     },
     "metadata": {
      "needs_background": "light"
     },
     "output_type": "display_data"
    }
   ],
   "source": [
    "plt.plot(hist.history['loss'])\n",
    "plt.plot(hist.history['val_loss'])\n",
    "plt.title('Perda por epoca')\n",
    "plt.xlabel('épocas')\n",
    "plt.ylabel('perda')\n",
    "plt.legend(['treino', 'validacao'])\n",
    "plt.show()"
   ]
  },
  {
   "cell_type": "code",
   "execution_count": 25,
   "metadata": {},
   "outputs": [],
   "source": [
    "#model.save(\"final_model_all_features.h5\")"
   ]
  },
  {
   "cell_type": "markdown",
   "metadata": {},
   "source": [
    "### Model with PCA"
   ]
  },
  {
   "cell_type": "code",
   "execution_count": 26,
   "metadata": {},
   "outputs": [],
   "source": [
    "x_train_pca, x_test_pca, y_train_pca, y_test_pca = train_test_split(df_pca, target_dummies,\n",
    "                                                    test_size=0.3,\n",
    "                                                    random_state=42,\n",
    "                                                    stratify=target_dummies)"
   ]
  },
  {
   "cell_type": "code",
   "execution_count": 27,
   "metadata": {},
   "outputs": [],
   "source": [
    "n_features = x_train_pca.shape[1]"
   ]
  },
  {
   "cell_type": "code",
   "execution_count": 28,
   "metadata": {},
   "outputs": [
    {
     "data": {
      "text/plain": [
       "22"
      ]
     },
     "execution_count": 28,
     "metadata": {},
     "output_type": "execute_result"
    }
   ],
   "source": [
    "n_features"
   ]
  },
  {
   "cell_type": "code",
   "execution_count": 29,
   "metadata": {},
   "outputs": [],
   "source": [
    "model = Sequential()\n",
    "model.add(Dense(n_features, activation=\"tanh\", input_shape=(n_features,)))\n",
    "model.add(Dense(16, activation=\"tanh\"))\n",
    "model.add(Dropout(0.50))\n",
    "model.add(Dense(7, activation=\"softmax\"))"
   ]
  },
  {
   "cell_type": "code",
   "execution_count": 30,
   "metadata": {},
   "outputs": [],
   "source": [
    "model.compile(optimizer=\"adam\", loss=\"categorical_crossentropy\", metrics=[\"accuracy\"])"
   ]
  },
  {
   "cell_type": "code",
   "execution_count": 31,
   "metadata": {},
   "outputs": [
    {
     "name": "stdout",
     "output_type": "stream",
     "text": [
      "Model: \"sequential_1\"\n",
      "_________________________________________________________________\n",
      " Layer (type)                Output Shape              Param #   \n",
      "=================================================================\n",
      " dense_3 (Dense)             (None, 22)                506       \n",
      "                                                                 \n",
      " dense_4 (Dense)             (None, 16)                368       \n",
      "                                                                 \n",
      " dropout_1 (Dropout)         (None, 16)                0         \n",
      "                                                                 \n",
      " dense_5 (Dense)             (None, 7)                 119       \n",
      "                                                                 \n",
      "=================================================================\n",
      "Total params: 993\n",
      "Trainable params: 993\n",
      "Non-trainable params: 0\n",
      "_________________________________________________________________\n"
     ]
    }
   ],
   "source": [
    "model.summary()"
   ]
  },
  {
   "cell_type": "code",
   "execution_count": 32,
   "metadata": {},
   "outputs": [
    {
     "name": "stdout",
     "output_type": "stream",
     "text": [
      "Epoch 1/300\n",
      "3/3 [==============================] - 0s 65ms/step - loss: 2.2771 - accuracy: 0.2000 - val_loss: 2.2324 - val_accuracy: 0.1000\n",
      "Epoch 2/300\n",
      "3/3 [==============================] - 0s 10ms/step - loss: 2.4493 - accuracy: 0.1571 - val_loss: 2.1962 - val_accuracy: 0.1000\n",
      "Epoch 3/300\n",
      "3/3 [==============================] - 0s 10ms/step - loss: 2.2969 - accuracy: 0.2143 - val_loss: 2.1616 - val_accuracy: 0.1000\n",
      "Epoch 4/300\n",
      "3/3 [==============================] - 0s 11ms/step - loss: 2.2341 - accuracy: 0.2000 - val_loss: 2.1276 - val_accuracy: 0.1000\n",
      "Epoch 5/300\n",
      "3/3 [==============================] - 0s 10ms/step - loss: 2.0830 - accuracy: 0.1857 - val_loss: 2.0942 - val_accuracy: 0.1000\n",
      "Epoch 6/300\n",
      "3/3 [==============================] - 0s 11ms/step - loss: 2.0910 - accuracy: 0.2429 - val_loss: 2.0616 - val_accuracy: 0.1000\n",
      "Epoch 7/300\n",
      "3/3 [==============================] - 0s 10ms/step - loss: 2.0351 - accuracy: 0.3286 - val_loss: 2.0293 - val_accuracy: 0.1000\n",
      "Epoch 8/300\n",
      "3/3 [==============================] - 0s 10ms/step - loss: 2.0607 - accuracy: 0.2571 - val_loss: 1.9985 - val_accuracy: 0.1333\n",
      "Epoch 9/300\n",
      "3/3 [==============================] - 0s 10ms/step - loss: 2.0707 - accuracy: 0.2000 - val_loss: 1.9688 - val_accuracy: 0.1333\n",
      "Epoch 10/300\n",
      "3/3 [==============================] - 0s 10ms/step - loss: 1.9378 - accuracy: 0.2429 - val_loss: 1.9394 - val_accuracy: 0.2000\n",
      "Epoch 11/300\n",
      "3/3 [==============================] - 0s 14ms/step - loss: 1.9371 - accuracy: 0.2857 - val_loss: 1.9104 - val_accuracy: 0.1667\n",
      "Epoch 12/300\n",
      "3/3 [==============================] - 0s 12ms/step - loss: 2.0120 - accuracy: 0.1571 - val_loss: 1.8807 - val_accuracy: 0.1667\n",
      "Epoch 13/300\n",
      "3/3 [==============================] - 0s 10ms/step - loss: 1.9153 - accuracy: 0.2714 - val_loss: 1.8514 - val_accuracy: 0.2000\n",
      "Epoch 14/300\n",
      "3/3 [==============================] - 0s 10ms/step - loss: 1.9036 - accuracy: 0.2857 - val_loss: 1.8249 - val_accuracy: 0.2000\n",
      "Epoch 15/300\n",
      "3/3 [==============================] - 0s 10ms/step - loss: 1.8809 - accuracy: 0.2286 - val_loss: 1.7989 - val_accuracy: 0.2000\n",
      "Epoch 16/300\n",
      "3/3 [==============================] - 0s 10ms/step - loss: 1.8359 - accuracy: 0.2714 - val_loss: 1.7728 - val_accuracy: 0.2667\n",
      "Epoch 17/300\n",
      "3/3 [==============================] - 0s 10ms/step - loss: 1.8280 - accuracy: 0.2857 - val_loss: 1.7473 - val_accuracy: 0.3000\n",
      "Epoch 18/300\n",
      "3/3 [==============================] - 0s 10ms/step - loss: 1.8887 - accuracy: 0.3143 - val_loss: 1.7235 - val_accuracy: 0.3333\n",
      "Epoch 19/300\n",
      "3/3 [==============================] - 0s 10ms/step - loss: 1.7053 - accuracy: 0.3286 - val_loss: 1.7016 - val_accuracy: 0.3333\n",
      "Epoch 20/300\n",
      "3/3 [==============================] - 0s 9ms/step - loss: 1.6893 - accuracy: 0.3429 - val_loss: 1.6798 - val_accuracy: 0.3333\n",
      "Epoch 21/300\n",
      "3/3 [==============================] - 0s 10ms/step - loss: 1.6553 - accuracy: 0.4571 - val_loss: 1.6582 - val_accuracy: 0.4000\n",
      "Epoch 22/300\n",
      "3/3 [==============================] - 0s 10ms/step - loss: 1.5645 - accuracy: 0.4429 - val_loss: 1.6363 - val_accuracy: 0.4000\n",
      "Epoch 23/300\n",
      "3/3 [==============================] - 0s 10ms/step - loss: 1.4417 - accuracy: 0.5143 - val_loss: 1.6160 - val_accuracy: 0.4333\n",
      "Epoch 24/300\n",
      "3/3 [==============================] - 0s 10ms/step - loss: 1.6330 - accuracy: 0.4000 - val_loss: 1.5971 - val_accuracy: 0.4667\n",
      "Epoch 25/300\n",
      "3/3 [==============================] - 0s 10ms/step - loss: 1.6319 - accuracy: 0.4143 - val_loss: 1.5795 - val_accuracy: 0.5000\n",
      "Epoch 26/300\n",
      "3/3 [==============================] - 0s 10ms/step - loss: 1.5503 - accuracy: 0.4571 - val_loss: 1.5623 - val_accuracy: 0.5333\n",
      "Epoch 27/300\n",
      "3/3 [==============================] - 0s 10ms/step - loss: 1.6163 - accuracy: 0.4429 - val_loss: 1.5458 - val_accuracy: 0.5333\n",
      "Epoch 28/300\n",
      "3/3 [==============================] - 0s 10ms/step - loss: 1.5256 - accuracy: 0.5286 - val_loss: 1.5297 - val_accuracy: 0.5333\n",
      "Epoch 29/300\n",
      "3/3 [==============================] - 0s 10ms/step - loss: 1.4869 - accuracy: 0.4857 - val_loss: 1.5138 - val_accuracy: 0.5333\n",
      "Epoch 30/300\n",
      "3/3 [==============================] - 0s 10ms/step - loss: 1.5230 - accuracy: 0.4000 - val_loss: 1.4985 - val_accuracy: 0.5333\n",
      "Epoch 31/300\n",
      "3/3 [==============================] - 0s 10ms/step - loss: 1.5242 - accuracy: 0.4429 - val_loss: 1.4829 - val_accuracy: 0.5333\n",
      "Epoch 32/300\n",
      "3/3 [==============================] - 0s 10ms/step - loss: 1.3660 - accuracy: 0.5429 - val_loss: 1.4671 - val_accuracy: 0.5333\n",
      "Epoch 33/300\n",
      "3/3 [==============================] - 0s 10ms/step - loss: 1.3723 - accuracy: 0.5571 - val_loss: 1.4520 - val_accuracy: 0.5333\n",
      "Epoch 34/300\n",
      "3/3 [==============================] - 0s 10ms/step - loss: 1.4017 - accuracy: 0.5286 - val_loss: 1.4373 - val_accuracy: 0.5333\n",
      "Epoch 35/300\n",
      "3/3 [==============================] - 0s 10ms/step - loss: 1.4320 - accuracy: 0.5429 - val_loss: 1.4222 - val_accuracy: 0.5333\n",
      "Epoch 36/300\n",
      "3/3 [==============================] - 0s 10ms/step - loss: 1.3850 - accuracy: 0.5286 - val_loss: 1.4069 - val_accuracy: 0.5333\n",
      "Epoch 37/300\n",
      "3/3 [==============================] - 0s 10ms/step - loss: 1.3193 - accuracy: 0.5429 - val_loss: 1.3921 - val_accuracy: 0.5333\n",
      "Epoch 38/300\n",
      "3/3 [==============================] - 0s 9ms/step - loss: 1.4293 - accuracy: 0.5143 - val_loss: 1.3769 - val_accuracy: 0.5333\n",
      "Epoch 39/300\n",
      "3/3 [==============================] - 0s 10ms/step - loss: 1.3337 - accuracy: 0.5571 - val_loss: 1.3618 - val_accuracy: 0.5667\n",
      "Epoch 40/300\n",
      "3/3 [==============================] - 0s 10ms/step - loss: 1.3749 - accuracy: 0.5429 - val_loss: 1.3470 - val_accuracy: 0.5667\n",
      "Epoch 41/300\n",
      "3/3 [==============================] - 0s 10ms/step - loss: 1.2494 - accuracy: 0.5429 - val_loss: 1.3330 - val_accuracy: 0.5667\n",
      "Epoch 42/300\n",
      "3/3 [==============================] - 0s 10ms/step - loss: 1.3039 - accuracy: 0.5143 - val_loss: 1.3192 - val_accuracy: 0.5667\n",
      "Epoch 43/300\n",
      "3/3 [==============================] - 0s 10ms/step - loss: 1.3716 - accuracy: 0.5000 - val_loss: 1.3058 - val_accuracy: 0.5667\n",
      "Epoch 44/300\n",
      "3/3 [==============================] - 0s 10ms/step - loss: 1.2576 - accuracy: 0.5143 - val_loss: 1.2932 - val_accuracy: 0.6000\n",
      "Epoch 45/300\n",
      "3/3 [==============================] - 0s 10ms/step - loss: 1.1770 - accuracy: 0.6714 - val_loss: 1.2811 - val_accuracy: 0.6000\n",
      "Epoch 46/300\n",
      "3/3 [==============================] - 0s 10ms/step - loss: 1.2747 - accuracy: 0.5286 - val_loss: 1.2693 - val_accuracy: 0.6000\n",
      "Epoch 47/300\n",
      "3/3 [==============================] - 0s 10ms/step - loss: 1.3013 - accuracy: 0.5429 - val_loss: 1.2579 - val_accuracy: 0.6000\n",
      "Epoch 48/300\n",
      "3/3 [==============================] - 0s 10ms/step - loss: 1.4109 - accuracy: 0.4857 - val_loss: 1.2457 - val_accuracy: 0.6000\n",
      "Epoch 49/300\n",
      "3/3 [==============================] - 0s 10ms/step - loss: 1.2712 - accuracy: 0.5571 - val_loss: 1.2331 - val_accuracy: 0.6333\n",
      "Epoch 50/300\n",
      "3/3 [==============================] - 0s 10ms/step - loss: 1.2990 - accuracy: 0.5286 - val_loss: 1.2217 - val_accuracy: 0.6333\n",
      "Epoch 51/300\n",
      "3/3 [==============================] - 0s 10ms/step - loss: 1.1796 - accuracy: 0.6429 - val_loss: 1.2109 - val_accuracy: 0.6333\n",
      "Epoch 52/300\n",
      "3/3 [==============================] - 0s 10ms/step - loss: 1.1601 - accuracy: 0.6857 - val_loss: 1.1999 - val_accuracy: 0.6333\n",
      "Epoch 53/300\n",
      "3/3 [==============================] - 0s 10ms/step - loss: 1.1749 - accuracy: 0.6000 - val_loss: 1.1882 - val_accuracy: 0.6333\n",
      "Epoch 54/300\n",
      "3/3 [==============================] - 0s 10ms/step - loss: 1.2169 - accuracy: 0.5714 - val_loss: 1.1775 - val_accuracy: 0.6333\n",
      "Epoch 55/300\n",
      "3/3 [==============================] - 0s 10ms/step - loss: 1.1543 - accuracy: 0.5571 - val_loss: 1.1671 - val_accuracy: 0.6333\n",
      "Epoch 56/300\n",
      "3/3 [==============================] - 0s 10ms/step - loss: 1.0992 - accuracy: 0.6857 - val_loss: 1.1571 - val_accuracy: 0.6333\n",
      "Epoch 57/300\n",
      "3/3 [==============================] - 0s 10ms/step - loss: 1.1727 - accuracy: 0.6143 - val_loss: 1.1475 - val_accuracy: 0.6333\n",
      "Epoch 58/300\n",
      "3/3 [==============================] - 0s 10ms/step - loss: 1.1441 - accuracy: 0.6429 - val_loss: 1.1377 - val_accuracy: 0.6333\n",
      "Epoch 59/300\n",
      "3/3 [==============================] - 0s 10ms/step - loss: 1.1308 - accuracy: 0.6286 - val_loss: 1.1281 - val_accuracy: 0.6333\n",
      "Epoch 60/300\n",
      "3/3 [==============================] - 0s 10ms/step - loss: 1.1237 - accuracy: 0.6429 - val_loss: 1.1190 - val_accuracy: 0.6333\n",
      "Epoch 61/300\n",
      "3/3 [==============================] - 0s 10ms/step - loss: 1.1307 - accuracy: 0.5714 - val_loss: 1.1090 - val_accuracy: 0.6333\n",
      "Epoch 62/300\n",
      "3/3 [==============================] - 0s 10ms/step - loss: 1.1211 - accuracy: 0.6286 - val_loss: 1.0992 - val_accuracy: 0.6333\n",
      "Epoch 63/300\n",
      "3/3 [==============================] - 0s 10ms/step - loss: 1.0932 - accuracy: 0.6429 - val_loss: 1.0901 - val_accuracy: 0.6333\n",
      "Epoch 64/300\n",
      "3/3 [==============================] - 0s 10ms/step - loss: 1.0225 - accuracy: 0.6571 - val_loss: 1.0814 - val_accuracy: 0.6667\n",
      "Epoch 65/300\n",
      "3/3 [==============================] - 0s 10ms/step - loss: 1.0242 - accuracy: 0.7000 - val_loss: 1.0734 - val_accuracy: 0.6667\n",
      "Epoch 66/300\n",
      "3/3 [==============================] - 0s 9ms/step - loss: 1.0510 - accuracy: 0.6571 - val_loss: 1.0653 - val_accuracy: 0.7000\n",
      "Epoch 67/300\n",
      "3/3 [==============================] - 0s 11ms/step - loss: 0.9973 - accuracy: 0.7429 - val_loss: 1.0571 - val_accuracy: 0.7000\n",
      "Epoch 68/300\n",
      "3/3 [==============================] - 0s 10ms/step - loss: 1.0537 - accuracy: 0.7000 - val_loss: 1.0487 - val_accuracy: 0.7000\n",
      "Epoch 69/300\n",
      "3/3 [==============================] - 0s 10ms/step - loss: 1.0663 - accuracy: 0.6857 - val_loss: 1.0399 - val_accuracy: 0.7333\n",
      "Epoch 70/300\n",
      "3/3 [==============================] - 0s 10ms/step - loss: 0.9706 - accuracy: 0.7143 - val_loss: 1.0315 - val_accuracy: 0.7333\n",
      "Epoch 71/300\n",
      "3/3 [==============================] - 0s 10ms/step - loss: 0.9393 - accuracy: 0.7286 - val_loss: 1.0235 - val_accuracy: 0.7667\n",
      "Epoch 72/300\n",
      "3/3 [==============================] - 0s 10ms/step - loss: 0.8673 - accuracy: 0.7286 - val_loss: 1.0159 - val_accuracy: 0.7667\n",
      "Epoch 73/300\n",
      "3/3 [==============================] - 0s 9ms/step - loss: 0.9649 - accuracy: 0.7429 - val_loss: 1.0079 - val_accuracy: 0.7667\n",
      "Epoch 74/300\n",
      "3/3 [==============================] - 0s 10ms/step - loss: 0.9172 - accuracy: 0.7143 - val_loss: 1.0002 - val_accuracy: 0.7667\n",
      "Epoch 75/300\n",
      "3/3 [==============================] - 0s 10ms/step - loss: 1.0178 - accuracy: 0.7000 - val_loss: 0.9925 - val_accuracy: 0.7667\n",
      "Epoch 76/300\n",
      "3/3 [==============================] - 0s 10ms/step - loss: 0.9490 - accuracy: 0.7000 - val_loss: 0.9852 - val_accuracy: 0.7667\n",
      "Epoch 77/300\n",
      "3/3 [==============================] - 0s 10ms/step - loss: 0.9433 - accuracy: 0.7000 - val_loss: 0.9777 - val_accuracy: 0.7667\n",
      "Epoch 78/300\n",
      "3/3 [==============================] - 0s 10ms/step - loss: 1.0147 - accuracy: 0.6857 - val_loss: 0.9699 - val_accuracy: 0.7667\n",
      "Epoch 79/300\n",
      "3/3 [==============================] - 0s 10ms/step - loss: 0.8971 - accuracy: 0.7000 - val_loss: 0.9623 - val_accuracy: 0.7667\n",
      "Epoch 80/300\n",
      "3/3 [==============================] - 0s 10ms/step - loss: 0.8819 - accuracy: 0.7000 - val_loss: 0.9540 - val_accuracy: 0.7667\n",
      "Epoch 81/300\n",
      "3/3 [==============================] - 0s 10ms/step - loss: 1.0923 - accuracy: 0.6714 - val_loss: 0.9466 - val_accuracy: 0.7667\n",
      "Epoch 82/300\n",
      "3/3 [==============================] - 0s 10ms/step - loss: 0.9708 - accuracy: 0.6857 - val_loss: 0.9390 - val_accuracy: 0.7667\n",
      "Epoch 83/300\n",
      "3/3 [==============================] - 0s 10ms/step - loss: 0.9547 - accuracy: 0.7000 - val_loss: 0.9315 - val_accuracy: 0.7667\n",
      "Epoch 84/300\n",
      "3/3 [==============================] - 0s 10ms/step - loss: 0.8788 - accuracy: 0.7571 - val_loss: 0.9246 - val_accuracy: 0.7667\n",
      "Epoch 85/300\n",
      "3/3 [==============================] - 0s 10ms/step - loss: 0.8793 - accuracy: 0.7429 - val_loss: 0.9173 - val_accuracy: 0.7667\n",
      "Epoch 86/300\n",
      "3/3 [==============================] - 0s 11ms/step - loss: 0.8431 - accuracy: 0.8143 - val_loss: 0.9097 - val_accuracy: 0.7667\n",
      "Epoch 87/300\n",
      "3/3 [==============================] - 0s 11ms/step - loss: 0.8422 - accuracy: 0.8000 - val_loss: 0.9026 - val_accuracy: 0.7667\n",
      "Epoch 88/300\n",
      "3/3 [==============================] - 0s 9ms/step - loss: 0.8915 - accuracy: 0.7286 - val_loss: 0.8958 - val_accuracy: 0.7667\n",
      "Epoch 89/300\n",
      "3/3 [==============================] - 0s 10ms/step - loss: 0.8353 - accuracy: 0.7714 - val_loss: 0.8890 - val_accuracy: 0.7667\n",
      "Epoch 90/300\n",
      "3/3 [==============================] - 0s 9ms/step - loss: 0.8049 - accuracy: 0.8000 - val_loss: 0.8821 - val_accuracy: 0.8000\n",
      "Epoch 91/300\n",
      "3/3 [==============================] - 0s 15ms/step - loss: 0.8282 - accuracy: 0.8000 - val_loss: 0.8754 - val_accuracy: 0.8000\n",
      "Epoch 92/300\n",
      "3/3 [==============================] - 0s 12ms/step - loss: 0.8548 - accuracy: 0.7714 - val_loss: 0.8689 - val_accuracy: 0.8000\n",
      "Epoch 93/300\n",
      "3/3 [==============================] - 0s 12ms/step - loss: 0.8007 - accuracy: 0.7857 - val_loss: 0.8624 - val_accuracy: 0.8000\n",
      "Epoch 94/300\n",
      "3/3 [==============================] - 0s 11ms/step - loss: 0.7708 - accuracy: 0.7286 - val_loss: 0.8559 - val_accuracy: 0.8000\n",
      "Epoch 95/300\n",
      "3/3 [==============================] - 0s 12ms/step - loss: 0.8093 - accuracy: 0.7714 - val_loss: 0.8499 - val_accuracy: 0.8000\n",
      "Epoch 96/300\n",
      "3/3 [==============================] - 0s 12ms/step - loss: 0.8687 - accuracy: 0.7286 - val_loss: 0.8438 - val_accuracy: 0.8000\n",
      "Epoch 97/300\n",
      "3/3 [==============================] - 0s 12ms/step - loss: 0.8455 - accuracy: 0.7429 - val_loss: 0.8382 - val_accuracy: 0.8000\n",
      "Epoch 98/300\n",
      "3/3 [==============================] - 0s 12ms/step - loss: 0.8502 - accuracy: 0.8143 - val_loss: 0.8330 - val_accuracy: 0.8000\n",
      "Epoch 99/300\n",
      "3/3 [==============================] - 0s 12ms/step - loss: 0.8181 - accuracy: 0.8429 - val_loss: 0.8283 - val_accuracy: 0.8000\n",
      "Epoch 100/300\n",
      "3/3 [==============================] - 0s 11ms/step - loss: 0.7757 - accuracy: 0.7429 - val_loss: 0.8237 - val_accuracy: 0.8000\n",
      "Epoch 101/300\n",
      "3/3 [==============================] - 0s 12ms/step - loss: 0.8181 - accuracy: 0.7429 - val_loss: 0.8188 - val_accuracy: 0.8000\n",
      "Epoch 102/300\n",
      "3/3 [==============================] - 0s 11ms/step - loss: 0.7977 - accuracy: 0.7714 - val_loss: 0.8141 - val_accuracy: 0.8000\n",
      "Epoch 103/300\n",
      "3/3 [==============================] - 0s 12ms/step - loss: 0.6557 - accuracy: 0.8429 - val_loss: 0.8093 - val_accuracy: 0.8000\n",
      "Epoch 104/300\n",
      "3/3 [==============================] - 0s 12ms/step - loss: 0.8078 - accuracy: 0.7714 - val_loss: 0.8041 - val_accuracy: 0.8000\n",
      "Epoch 105/300\n",
      "3/3 [==============================] - 0s 12ms/step - loss: 0.6757 - accuracy: 0.8571 - val_loss: 0.7989 - val_accuracy: 0.8000\n",
      "Epoch 106/300\n",
      "3/3 [==============================] - 0s 12ms/step - loss: 0.8385 - accuracy: 0.7714 - val_loss: 0.7936 - val_accuracy: 0.8000\n",
      "Epoch 107/300\n",
      "3/3 [==============================] - 0s 11ms/step - loss: 0.8075 - accuracy: 0.7714 - val_loss: 0.7879 - val_accuracy: 0.8000\n",
      "Epoch 108/300\n",
      "3/3 [==============================] - 0s 11ms/step - loss: 0.7406 - accuracy: 0.8286 - val_loss: 0.7824 - val_accuracy: 0.8000\n",
      "Epoch 109/300\n",
      "3/3 [==============================] - 0s 12ms/step - loss: 0.6652 - accuracy: 0.8000 - val_loss: 0.7761 - val_accuracy: 0.8000\n",
      "Epoch 110/300\n",
      "3/3 [==============================] - 0s 13ms/step - loss: 0.8728 - accuracy: 0.7286 - val_loss: 0.7701 - val_accuracy: 0.8000\n",
      "Epoch 111/300\n",
      "3/3 [==============================] - 0s 11ms/step - loss: 0.7109 - accuracy: 0.8571 - val_loss: 0.7644 - val_accuracy: 0.8000\n",
      "Epoch 112/300\n",
      "3/3 [==============================] - 0s 12ms/step - loss: 0.6876 - accuracy: 0.8429 - val_loss: 0.7586 - val_accuracy: 0.8000\n",
      "Epoch 113/300\n",
      "3/3 [==============================] - 0s 23ms/step - loss: 0.8049 - accuracy: 0.7571 - val_loss: 0.7530 - val_accuracy: 0.8000\n",
      "Epoch 114/300\n",
      "3/3 [==============================] - 0s 11ms/step - loss: 0.7092 - accuracy: 0.7857 - val_loss: 0.7470 - val_accuracy: 0.8000\n",
      "Epoch 115/300\n",
      "3/3 [==============================] - 0s 12ms/step - loss: 0.7101 - accuracy: 0.8429 - val_loss: 0.7416 - val_accuracy: 0.8000\n",
      "Epoch 116/300\n",
      "3/3 [==============================] - 0s 35ms/step - loss: 0.7227 - accuracy: 0.8429 - val_loss: 0.7366 - val_accuracy: 0.8000\n",
      "Epoch 117/300\n",
      "3/3 [==============================] - 0s 20ms/step - loss: 0.7310 - accuracy: 0.7714 - val_loss: 0.7317 - val_accuracy: 0.8000\n",
      "Epoch 118/300\n",
      "3/3 [==============================] - 0s 12ms/step - loss: 0.6409 - accuracy: 0.8714 - val_loss: 0.7261 - val_accuracy: 0.8000\n",
      "Epoch 119/300\n",
      "3/3 [==============================] - 0s 12ms/step - loss: 0.7497 - accuracy: 0.8000 - val_loss: 0.7197 - val_accuracy: 0.8333\n",
      "Epoch 120/300\n",
      "3/3 [==============================] - 0s 11ms/step - loss: 0.7103 - accuracy: 0.8143 - val_loss: 0.7143 - val_accuracy: 0.8333\n",
      "Epoch 121/300\n",
      "3/3 [==============================] - 0s 11ms/step - loss: 0.6539 - accuracy: 0.8571 - val_loss: 0.7094 - val_accuracy: 0.8333\n",
      "Epoch 122/300\n",
      "3/3 [==============================] - 0s 12ms/step - loss: 0.6369 - accuracy: 0.8429 - val_loss: 0.7050 - val_accuracy: 0.8333\n",
      "Epoch 123/300\n",
      "3/3 [==============================] - 0s 11ms/step - loss: 0.6319 - accuracy: 0.8286 - val_loss: 0.7004 - val_accuracy: 0.8333\n",
      "Epoch 124/300\n",
      "3/3 [==============================] - 0s 11ms/step - loss: 0.6528 - accuracy: 0.8571 - val_loss: 0.6959 - val_accuracy: 0.8333\n",
      "Epoch 125/300\n",
      "3/3 [==============================] - 0s 11ms/step - loss: 0.7065 - accuracy: 0.8429 - val_loss: 0.6915 - val_accuracy: 0.8333\n",
      "Epoch 126/300\n",
      "3/3 [==============================] - 0s 12ms/step - loss: 0.6524 - accuracy: 0.8429 - val_loss: 0.6872 - val_accuracy: 0.8333\n",
      "Epoch 127/300\n",
      "3/3 [==============================] - 0s 11ms/step - loss: 0.5760 - accuracy: 0.8714 - val_loss: 0.6819 - val_accuracy: 0.8333\n",
      "Epoch 128/300\n",
      "3/3 [==============================] - 0s 12ms/step - loss: 0.7126 - accuracy: 0.8286 - val_loss: 0.6769 - val_accuracy: 0.8333\n",
      "Epoch 129/300\n",
      "3/3 [==============================] - 0s 12ms/step - loss: 0.6233 - accuracy: 0.8286 - val_loss: 0.6728 - val_accuracy: 0.8333\n",
      "Epoch 130/300\n",
      "3/3 [==============================] - 0s 11ms/step - loss: 0.6079 - accuracy: 0.8714 - val_loss: 0.6683 - val_accuracy: 0.8333\n",
      "Epoch 131/300\n",
      "3/3 [==============================] - 0s 12ms/step - loss: 0.6587 - accuracy: 0.8429 - val_loss: 0.6629 - val_accuracy: 0.8333\n",
      "Epoch 132/300\n",
      "3/3 [==============================] - 0s 11ms/step - loss: 0.5792 - accuracy: 0.8857 - val_loss: 0.6579 - val_accuracy: 0.8333\n",
      "Epoch 133/300\n",
      "3/3 [==============================] - 0s 11ms/step - loss: 0.6790 - accuracy: 0.8000 - val_loss: 0.6533 - val_accuracy: 0.8333\n",
      "Epoch 134/300\n",
      "3/3 [==============================] - 0s 11ms/step - loss: 0.6521 - accuracy: 0.8714 - val_loss: 0.6486 - val_accuracy: 0.8333\n",
      "Epoch 135/300\n",
      "3/3 [==============================] - 0s 11ms/step - loss: 0.5933 - accuracy: 0.9000 - val_loss: 0.6431 - val_accuracy: 0.8333\n",
      "Epoch 136/300\n",
      "3/3 [==============================] - 0s 12ms/step - loss: 0.6743 - accuracy: 0.8000 - val_loss: 0.6380 - val_accuracy: 0.8333\n",
      "Epoch 137/300\n",
      "3/3 [==============================] - 0s 11ms/step - loss: 0.6594 - accuracy: 0.8429 - val_loss: 0.6334 - val_accuracy: 0.8333\n",
      "Epoch 138/300\n",
      "3/3 [==============================] - 0s 12ms/step - loss: 0.6760 - accuracy: 0.8429 - val_loss: 0.6290 - val_accuracy: 0.8333\n",
      "Epoch 139/300\n",
      "3/3 [==============================] - 0s 12ms/step - loss: 0.5563 - accuracy: 0.9143 - val_loss: 0.6250 - val_accuracy: 0.8333\n",
      "Epoch 140/300\n",
      "3/3 [==============================] - 0s 12ms/step - loss: 0.6284 - accuracy: 0.8571 - val_loss: 0.6211 - val_accuracy: 0.8333\n",
      "Epoch 141/300\n",
      "3/3 [==============================] - 0s 11ms/step - loss: 0.5895 - accuracy: 0.8714 - val_loss: 0.6170 - val_accuracy: 0.8333\n",
      "Epoch 142/300\n",
      "3/3 [==============================] - 0s 12ms/step - loss: 0.6275 - accuracy: 0.8286 - val_loss: 0.6126 - val_accuracy: 0.8333\n",
      "Epoch 143/300\n",
      "3/3 [==============================] - 0s 11ms/step - loss: 0.6168 - accuracy: 0.8286 - val_loss: 0.6086 - val_accuracy: 0.8333\n",
      "Epoch 144/300\n",
      "3/3 [==============================] - 0s 12ms/step - loss: 0.6894 - accuracy: 0.8000 - val_loss: 0.6044 - val_accuracy: 0.9000\n",
      "Epoch 145/300\n",
      "3/3 [==============================] - 0s 11ms/step - loss: 0.5286 - accuracy: 0.9000 - val_loss: 0.5997 - val_accuracy: 0.9000\n",
      "Epoch 146/300\n",
      "3/3 [==============================] - 0s 11ms/step - loss: 0.5438 - accuracy: 0.9000 - val_loss: 0.5958 - val_accuracy: 0.9000\n",
      "Epoch 147/300\n",
      "3/3 [==============================] - 0s 11ms/step - loss: 0.6516 - accuracy: 0.8429 - val_loss: 0.5925 - val_accuracy: 0.9000\n",
      "Epoch 148/300\n",
      "3/3 [==============================] - 0s 12ms/step - loss: 0.5847 - accuracy: 0.8429 - val_loss: 0.5889 - val_accuracy: 0.9000\n",
      "Epoch 149/300\n",
      "3/3 [==============================] - 0s 12ms/step - loss: 0.6839 - accuracy: 0.8429 - val_loss: 0.5848 - val_accuracy: 0.9000\n",
      "Epoch 150/300\n",
      "3/3 [==============================] - 0s 12ms/step - loss: 0.5690 - accuracy: 0.8857 - val_loss: 0.5814 - val_accuracy: 0.9000\n",
      "Epoch 151/300\n",
      "3/3 [==============================] - 0s 13ms/step - loss: 0.5103 - accuracy: 0.9143 - val_loss: 0.5782 - val_accuracy: 0.9000\n",
      "Epoch 152/300\n",
      "3/3 [==============================] - 0s 14ms/step - loss: 0.6357 - accuracy: 0.8143 - val_loss: 0.5753 - val_accuracy: 0.9000\n",
      "Epoch 153/300\n",
      "3/3 [==============================] - 0s 17ms/step - loss: 0.5576 - accuracy: 0.8714 - val_loss: 0.5721 - val_accuracy: 0.9000\n",
      "Epoch 154/300\n",
      "3/3 [==============================] - 0s 16ms/step - loss: 0.5424 - accuracy: 0.9000 - val_loss: 0.5690 - val_accuracy: 0.9000\n",
      "Epoch 155/300\n",
      "3/3 [==============================] - 0s 15ms/step - loss: 0.5508 - accuracy: 0.8571 - val_loss: 0.5659 - val_accuracy: 0.9000\n",
      "Epoch 156/300\n",
      "3/3 [==============================] - 0s 14ms/step - loss: 0.4666 - accuracy: 0.9143 - val_loss: 0.5623 - val_accuracy: 0.9000\n",
      "Epoch 157/300\n",
      "3/3 [==============================] - 0s 11ms/step - loss: 0.5811 - accuracy: 0.8286 - val_loss: 0.5584 - val_accuracy: 0.9000\n",
      "Epoch 158/300\n",
      "3/3 [==============================] - 0s 12ms/step - loss: 0.4866 - accuracy: 0.9000 - val_loss: 0.5540 - val_accuracy: 0.9000\n",
      "Epoch 159/300\n",
      "3/3 [==============================] - 0s 12ms/step - loss: 0.5708 - accuracy: 0.8286 - val_loss: 0.5496 - val_accuracy: 0.9000\n",
      "Epoch 160/300\n",
      "3/3 [==============================] - 0s 11ms/step - loss: 0.6197 - accuracy: 0.9000 - val_loss: 0.5456 - val_accuracy: 0.9000\n",
      "Epoch 161/300\n",
      "3/3 [==============================] - 0s 11ms/step - loss: 0.5121 - accuracy: 0.9143 - val_loss: 0.5416 - val_accuracy: 0.9000\n",
      "Epoch 162/300\n",
      "3/3 [==============================] - 0s 13ms/step - loss: 0.4880 - accuracy: 0.9286 - val_loss: 0.5375 - val_accuracy: 0.9000\n",
      "Epoch 163/300\n",
      "3/3 [==============================] - 0s 11ms/step - loss: 0.5204 - accuracy: 0.8857 - val_loss: 0.5330 - val_accuracy: 0.9000\n",
      "Epoch 164/300\n",
      "3/3 [==============================] - 0s 12ms/step - loss: 0.5397 - accuracy: 0.8429 - val_loss: 0.5283 - val_accuracy: 0.9000\n",
      "Epoch 165/300\n",
      "3/3 [==============================] - 0s 12ms/step - loss: 0.4919 - accuracy: 0.9143 - val_loss: 0.5234 - val_accuracy: 0.9000\n",
      "Epoch 166/300\n",
      "3/3 [==============================] - 0s 11ms/step - loss: 0.5186 - accuracy: 0.8429 - val_loss: 0.5178 - val_accuracy: 0.9000\n",
      "Epoch 167/300\n",
      "3/3 [==============================] - 0s 10ms/step - loss: 0.5121 - accuracy: 0.9000 - val_loss: 0.5127 - val_accuracy: 0.9000\n",
      "Epoch 168/300\n",
      "3/3 [==============================] - 0s 10ms/step - loss: 0.5014 - accuracy: 0.8857 - val_loss: 0.5076 - val_accuracy: 0.9000\n",
      "Epoch 169/300\n",
      "3/3 [==============================] - 0s 10ms/step - loss: 0.4367 - accuracy: 0.9000 - val_loss: 0.5022 - val_accuracy: 0.9000\n",
      "Epoch 170/300\n",
      "3/3 [==============================] - 0s 10ms/step - loss: 0.5288 - accuracy: 0.9000 - val_loss: 0.4976 - val_accuracy: 0.9000\n",
      "Epoch 171/300\n",
      "3/3 [==============================] - 0s 10ms/step - loss: 0.5575 - accuracy: 0.8571 - val_loss: 0.4937 - val_accuracy: 0.9000\n",
      "Epoch 172/300\n",
      "3/3 [==============================] - 0s 10ms/step - loss: 0.5090 - accuracy: 0.8857 - val_loss: 0.4904 - val_accuracy: 0.9000\n",
      "Epoch 173/300\n",
      "3/3 [==============================] - 0s 10ms/step - loss: 0.5007 - accuracy: 0.9000 - val_loss: 0.4871 - val_accuracy: 0.9000\n",
      "Epoch 174/300\n",
      "3/3 [==============================] - 0s 10ms/step - loss: 0.5382 - accuracy: 0.8429 - val_loss: 0.4840 - val_accuracy: 0.9000\n",
      "Epoch 175/300\n",
      "3/3 [==============================] - 0s 10ms/step - loss: 0.4888 - accuracy: 0.9000 - val_loss: 0.4814 - val_accuracy: 0.9000\n",
      "Epoch 176/300\n",
      "3/3 [==============================] - 0s 11ms/step - loss: 0.5350 - accuracy: 0.9000 - val_loss: 0.4785 - val_accuracy: 0.9000\n",
      "Epoch 177/300\n",
      "3/3 [==============================] - 0s 10ms/step - loss: 0.4291 - accuracy: 0.9429 - val_loss: 0.4757 - val_accuracy: 0.9000\n",
      "Epoch 178/300\n",
      "3/3 [==============================] - 0s 10ms/step - loss: 0.4381 - accuracy: 0.9429 - val_loss: 0.4728 - val_accuracy: 0.9000\n",
      "Epoch 179/300\n",
      "3/3 [==============================] - 0s 10ms/step - loss: 0.4413 - accuracy: 0.9429 - val_loss: 0.4696 - val_accuracy: 0.9000\n",
      "Epoch 180/300\n",
      "3/3 [==============================] - 0s 10ms/step - loss: 0.3901 - accuracy: 0.9143 - val_loss: 0.4662 - val_accuracy: 0.9000\n",
      "Epoch 181/300\n",
      "3/3 [==============================] - 0s 10ms/step - loss: 0.4957 - accuracy: 0.8714 - val_loss: 0.4630 - val_accuracy: 0.9000\n",
      "Epoch 182/300\n",
      "3/3 [==============================] - 0s 10ms/step - loss: 0.4846 - accuracy: 0.9000 - val_loss: 0.4601 - val_accuracy: 0.9000\n",
      "Epoch 183/300\n",
      "3/3 [==============================] - 0s 11ms/step - loss: 0.5099 - accuracy: 0.9000 - val_loss: 0.4576 - val_accuracy: 0.9000\n",
      "Epoch 184/300\n",
      "3/3 [==============================] - 0s 10ms/step - loss: 0.4757 - accuracy: 0.9000 - val_loss: 0.4548 - val_accuracy: 0.9000\n",
      "Epoch 185/300\n",
      "3/3 [==============================] - 0s 10ms/step - loss: 0.4230 - accuracy: 0.9571 - val_loss: 0.4520 - val_accuracy: 0.9000\n",
      "Epoch 186/300\n",
      "3/3 [==============================] - 0s 9ms/step - loss: 0.4038 - accuracy: 0.9143 - val_loss: 0.4491 - val_accuracy: 0.9000\n",
      "Epoch 187/300\n",
      "3/3 [==============================] - 0s 10ms/step - loss: 0.4878 - accuracy: 0.8571 - val_loss: 0.4470 - val_accuracy: 0.9000\n",
      "Epoch 188/300\n",
      "3/3 [==============================] - 0s 10ms/step - loss: 0.4813 - accuracy: 0.9286 - val_loss: 0.4451 - val_accuracy: 0.9000\n",
      "Epoch 189/300\n",
      "3/3 [==============================] - 0s 10ms/step - loss: 0.4465 - accuracy: 0.9286 - val_loss: 0.4432 - val_accuracy: 0.9000\n",
      "Epoch 190/300\n",
      "3/3 [==============================] - 0s 10ms/step - loss: 0.3895 - accuracy: 0.9286 - val_loss: 0.4411 - val_accuracy: 0.9000\n",
      "Epoch 191/300\n",
      "3/3 [==============================] - 0s 10ms/step - loss: 0.4416 - accuracy: 0.9000 - val_loss: 0.4393 - val_accuracy: 0.9000\n",
      "Epoch 192/300\n",
      "3/3 [==============================] - 0s 10ms/step - loss: 0.4770 - accuracy: 0.8714 - val_loss: 0.4376 - val_accuracy: 0.9000\n",
      "Epoch 193/300\n",
      "3/3 [==============================] - 0s 10ms/step - loss: 0.4661 - accuracy: 0.9143 - val_loss: 0.4358 - val_accuracy: 0.9000\n",
      "Epoch 194/300\n",
      "3/3 [==============================] - 0s 10ms/step - loss: 0.4390 - accuracy: 0.9143 - val_loss: 0.4341 - val_accuracy: 0.9000\n",
      "Epoch 195/300\n",
      "3/3 [==============================] - 0s 10ms/step - loss: 0.4421 - accuracy: 0.9286 - val_loss: 0.4326 - val_accuracy: 0.9000\n",
      "Epoch 196/300\n",
      "3/3 [==============================] - 0s 10ms/step - loss: 0.4708 - accuracy: 0.8857 - val_loss: 0.4302 - val_accuracy: 0.9000\n",
      "Epoch 197/300\n",
      "3/3 [==============================] - 0s 9ms/step - loss: 0.4389 - accuracy: 0.9000 - val_loss: 0.4272 - val_accuracy: 0.9000\n",
      "Epoch 198/300\n",
      "3/3 [==============================] - 0s 10ms/step - loss: 0.4558 - accuracy: 0.9286 - val_loss: 0.4242 - val_accuracy: 0.9000\n",
      "Epoch 199/300\n",
      "3/3 [==============================] - 0s 9ms/step - loss: 0.4142 - accuracy: 0.9000 - val_loss: 0.4216 - val_accuracy: 0.9000\n",
      "Epoch 200/300\n",
      "3/3 [==============================] - 0s 10ms/step - loss: 0.5015 - accuracy: 0.8429 - val_loss: 0.4189 - val_accuracy: 0.9000\n",
      "Epoch 201/300\n",
      "3/3 [==============================] - 0s 10ms/step - loss: 0.3837 - accuracy: 0.9143 - val_loss: 0.4162 - val_accuracy: 0.9000\n",
      "Epoch 202/300\n",
      "3/3 [==============================] - 0s 10ms/step - loss: 0.4414 - accuracy: 0.8857 - val_loss: 0.4135 - val_accuracy: 0.9000\n",
      "Epoch 203/300\n",
      "3/3 [==============================] - 0s 21ms/step - loss: 0.3260 - accuracy: 0.9571 - val_loss: 0.4110 - val_accuracy: 0.9000\n",
      "Epoch 204/300\n",
      "3/3 [==============================] - 0s 14ms/step - loss: 0.4256 - accuracy: 0.8857 - val_loss: 0.4086 - val_accuracy: 0.9000\n",
      "Epoch 205/300\n",
      "3/3 [==============================] - 0s 13ms/step - loss: 0.4248 - accuracy: 0.8857 - val_loss: 0.4065 - val_accuracy: 0.9000\n",
      "Epoch 206/300\n",
      "3/3 [==============================] - 0s 11ms/step - loss: 0.4057 - accuracy: 0.9143 - val_loss: 0.4043 - val_accuracy: 0.9000\n",
      "Epoch 207/300\n",
      "3/3 [==============================] - 0s 10ms/step - loss: 0.4212 - accuracy: 0.9714 - val_loss: 0.4020 - val_accuracy: 0.9000\n",
      "Epoch 208/300\n",
      "3/3 [==============================] - 0s 10ms/step - loss: 0.4725 - accuracy: 0.8714 - val_loss: 0.3994 - val_accuracy: 0.9000\n",
      "Epoch 209/300\n",
      "3/3 [==============================] - 0s 10ms/step - loss: 0.2734 - accuracy: 0.9714 - val_loss: 0.3969 - val_accuracy: 0.9000\n",
      "Epoch 210/300\n",
      "3/3 [==============================] - 0s 10ms/step - loss: 0.3972 - accuracy: 0.9286 - val_loss: 0.3941 - val_accuracy: 0.9000\n",
      "Epoch 211/300\n",
      "3/3 [==============================] - 0s 10ms/step - loss: 0.4679 - accuracy: 0.8857 - val_loss: 0.3911 - val_accuracy: 0.9000\n",
      "Epoch 212/300\n",
      "3/3 [==============================] - 0s 10ms/step - loss: 0.3833 - accuracy: 0.9429 - val_loss: 0.3883 - val_accuracy: 0.9000\n",
      "Epoch 213/300\n",
      "3/3 [==============================] - 0s 10ms/step - loss: 0.3734 - accuracy: 0.9143 - val_loss: 0.3859 - val_accuracy: 0.9000\n",
      "Epoch 214/300\n",
      "3/3 [==============================] - 0s 10ms/step - loss: 0.4665 - accuracy: 0.9143 - val_loss: 0.3834 - val_accuracy: 0.9000\n",
      "Epoch 215/300\n",
      "3/3 [==============================] - 0s 10ms/step - loss: 0.3374 - accuracy: 0.9571 - val_loss: 0.3806 - val_accuracy: 0.9000\n",
      "Epoch 216/300\n",
      "3/3 [==============================] - 0s 12ms/step - loss: 0.4079 - accuracy: 0.8857 - val_loss: 0.3778 - val_accuracy: 0.9333\n",
      "Epoch 217/300\n",
      "3/3 [==============================] - 0s 14ms/step - loss: 0.3571 - accuracy: 0.9286 - val_loss: 0.3748 - val_accuracy: 0.9333\n",
      "Epoch 218/300\n",
      "3/3 [==============================] - 0s 14ms/step - loss: 0.3832 - accuracy: 0.9429 - val_loss: 0.3719 - val_accuracy: 0.9333\n",
      "Epoch 219/300\n",
      "3/3 [==============================] - 0s 15ms/step - loss: 0.4140 - accuracy: 0.9286 - val_loss: 0.3684 - val_accuracy: 0.9333\n",
      "Epoch 220/300\n",
      "3/3 [==============================] - 0s 15ms/step - loss: 0.3643 - accuracy: 0.9143 - val_loss: 0.3652 - val_accuracy: 0.9333\n",
      "Epoch 221/300\n",
      "3/3 [==============================] - 0s 15ms/step - loss: 0.4276 - accuracy: 0.9429 - val_loss: 0.3617 - val_accuracy: 0.9333\n",
      "Epoch 222/300\n",
      "3/3 [==============================] - 0s 13ms/step - loss: 0.3555 - accuracy: 0.9571 - val_loss: 0.3585 - val_accuracy: 0.9333\n",
      "Epoch 223/300\n",
      "3/3 [==============================] - 0s 13ms/step - loss: 0.3579 - accuracy: 0.9429 - val_loss: 0.3565 - val_accuracy: 0.9333\n",
      "Epoch 224/300\n",
      "3/3 [==============================] - 0s 9ms/step - loss: 0.4010 - accuracy: 0.8857 - val_loss: 0.3549 - val_accuracy: 0.9333\n",
      "Epoch 225/300\n",
      "3/3 [==============================] - 0s 13ms/step - loss: 0.3805 - accuracy: 0.9286 - val_loss: 0.3534 - val_accuracy: 0.9333\n",
      "Epoch 226/300\n",
      "3/3 [==============================] - 0s 17ms/step - loss: 0.3525 - accuracy: 0.9429 - val_loss: 0.3520 - val_accuracy: 0.9333\n",
      "Epoch 227/300\n",
      "3/3 [==============================] - 0s 26ms/step - loss: 0.3667 - accuracy: 0.9143 - val_loss: 0.3501 - val_accuracy: 0.9333\n",
      "Epoch 228/300\n",
      "3/3 [==============================] - 0s 15ms/step - loss: 0.2901 - accuracy: 0.9429 - val_loss: 0.3475 - val_accuracy: 0.9333\n",
      "Epoch 229/300\n",
      "3/3 [==============================] - 0s 14ms/step - loss: 0.3435 - accuracy: 0.9429 - val_loss: 0.3446 - val_accuracy: 0.9333\n",
      "Epoch 230/300\n",
      "3/3 [==============================] - 0s 27ms/step - loss: 0.2956 - accuracy: 0.9714 - val_loss: 0.3414 - val_accuracy: 0.9333\n",
      "Epoch 231/300\n",
      "3/3 [==============================] - 0s 17ms/step - loss: 0.3786 - accuracy: 0.9286 - val_loss: 0.3370 - val_accuracy: 0.9333\n",
      "Epoch 232/300\n",
      "3/3 [==============================] - 0s 13ms/step - loss: 0.5052 - accuracy: 0.8857 - val_loss: 0.3324 - val_accuracy: 0.9333\n",
      "Epoch 233/300\n",
      "3/3 [==============================] - 0s 15ms/step - loss: 0.4209 - accuracy: 0.9000 - val_loss: 0.3272 - val_accuracy: 0.9333\n",
      "Epoch 234/300\n",
      "3/3 [==============================] - 0s 15ms/step - loss: 0.3644 - accuracy: 0.9143 - val_loss: 0.3222 - val_accuracy: 0.9667\n",
      "Epoch 235/300\n",
      "3/3 [==============================] - 0s 18ms/step - loss: 0.3743 - accuracy: 0.9286 - val_loss: 0.3174 - val_accuracy: 1.0000\n",
      "Epoch 236/300\n",
      "3/3 [==============================] - 0s 12ms/step - loss: 0.3535 - accuracy: 0.9714 - val_loss: 0.3135 - val_accuracy: 1.0000\n",
      "Epoch 237/300\n",
      "3/3 [==============================] - 0s 12ms/step - loss: 0.3992 - accuracy: 0.9286 - val_loss: 0.3098 - val_accuracy: 1.0000\n",
      "Epoch 238/300\n",
      "3/3 [==============================] - 0s 12ms/step - loss: 0.3470 - accuracy: 0.9429 - val_loss: 0.3061 - val_accuracy: 1.0000\n",
      "Epoch 239/300\n",
      "3/3 [==============================] - 0s 11ms/step - loss: 0.3408 - accuracy: 0.8714 - val_loss: 0.3027 - val_accuracy: 1.0000\n",
      "Epoch 240/300\n",
      "3/3 [==============================] - 0s 10ms/step - loss: 0.2906 - accuracy: 0.9286 - val_loss: 0.2993 - val_accuracy: 1.0000\n",
      "Epoch 241/300\n",
      "3/3 [==============================] - 0s 10ms/step - loss: 0.4031 - accuracy: 0.9286 - val_loss: 0.2963 - val_accuracy: 1.0000\n",
      "Epoch 242/300\n",
      "3/3 [==============================] - 0s 9ms/step - loss: 0.3638 - accuracy: 0.9286 - val_loss: 0.2929 - val_accuracy: 1.0000\n",
      "Epoch 243/300\n",
      "3/3 [==============================] - 0s 10ms/step - loss: 0.3072 - accuracy: 0.9429 - val_loss: 0.2896 - val_accuracy: 1.0000\n",
      "Epoch 244/300\n",
      "3/3 [==============================] - 0s 9ms/step - loss: 0.2996 - accuracy: 0.9429 - val_loss: 0.2865 - val_accuracy: 1.0000\n",
      "Epoch 245/300\n",
      "3/3 [==============================] - 0s 10ms/step - loss: 0.3026 - accuracy: 0.9571 - val_loss: 0.2840 - val_accuracy: 1.0000\n",
      "Epoch 246/300\n",
      "3/3 [==============================] - 0s 11ms/step - loss: 0.3568 - accuracy: 0.9286 - val_loss: 0.2818 - val_accuracy: 1.0000\n",
      "Epoch 247/300\n",
      "3/3 [==============================] - 0s 11ms/step - loss: 0.3012 - accuracy: 0.9857 - val_loss: 0.2797 - val_accuracy: 1.0000\n",
      "Epoch 248/300\n",
      "3/3 [==============================] - 0s 10ms/step - loss: 0.2870 - accuracy: 0.9714 - val_loss: 0.2779 - val_accuracy: 1.0000\n",
      "Epoch 249/300\n",
      "3/3 [==============================] - 0s 10ms/step - loss: 0.4007 - accuracy: 0.9286 - val_loss: 0.2760 - val_accuracy: 1.0000\n",
      "Epoch 250/300\n",
      "3/3 [==============================] - 0s 33ms/step - loss: 0.2924 - accuracy: 0.9857 - val_loss: 0.2736 - val_accuracy: 1.0000\n",
      "Epoch 251/300\n",
      "3/3 [==============================] - 0s 17ms/step - loss: 0.2835 - accuracy: 0.9714 - val_loss: 0.2713 - val_accuracy: 1.0000\n",
      "Epoch 252/300\n",
      "3/3 [==============================] - 0s 12ms/step - loss: 0.3367 - accuracy: 0.9429 - val_loss: 0.2695 - val_accuracy: 1.0000\n",
      "Epoch 253/300\n",
      "3/3 [==============================] - 0s 10ms/step - loss: 0.2533 - accuracy: 0.9571 - val_loss: 0.2679 - val_accuracy: 1.0000\n",
      "Epoch 254/300\n",
      "3/3 [==============================] - 0s 11ms/step - loss: 0.3399 - accuracy: 0.9286 - val_loss: 0.2662 - val_accuracy: 1.0000\n",
      "Epoch 255/300\n",
      "3/3 [==============================] - 0s 21ms/step - loss: 0.3842 - accuracy: 0.9143 - val_loss: 0.2644 - val_accuracy: 1.0000\n",
      "Epoch 256/300\n",
      "3/3 [==============================] - 0s 15ms/step - loss: 0.3146 - accuracy: 0.9000 - val_loss: 0.2631 - val_accuracy: 1.0000\n",
      "Epoch 257/300\n",
      "3/3 [==============================] - 0s 11ms/step - loss: 0.2701 - accuracy: 0.9714 - val_loss: 0.2624 - val_accuracy: 1.0000\n",
      "Epoch 258/300\n",
      "3/3 [==============================] - 0s 10ms/step - loss: 0.2753 - accuracy: 0.9857 - val_loss: 0.2621 - val_accuracy: 1.0000\n",
      "Epoch 259/300\n",
      "3/3 [==============================] - 0s 10ms/step - loss: 0.2808 - accuracy: 0.9571 - val_loss: 0.2616 - val_accuracy: 1.0000\n",
      "Epoch 260/300\n",
      "3/3 [==============================] - 0s 10ms/step - loss: 0.3267 - accuracy: 0.9429 - val_loss: 0.2607 - val_accuracy: 1.0000\n",
      "Epoch 261/300\n",
      "3/3 [==============================] - 0s 10ms/step - loss: 0.2729 - accuracy: 0.9429 - val_loss: 0.2596 - val_accuracy: 1.0000\n",
      "Epoch 262/300\n",
      "3/3 [==============================] - 0s 11ms/step - loss: 0.2366 - accuracy: 1.0000 - val_loss: 0.2583 - val_accuracy: 1.0000\n",
      "Epoch 263/300\n",
      "3/3 [==============================] - 0s 10ms/step - loss: 0.2618 - accuracy: 0.9714 - val_loss: 0.2570 - val_accuracy: 1.0000\n",
      "Epoch 264/300\n",
      "3/3 [==============================] - 0s 10ms/step - loss: 0.2680 - accuracy: 0.9571 - val_loss: 0.2553 - val_accuracy: 1.0000\n",
      "Epoch 265/300\n",
      "3/3 [==============================] - 0s 10ms/step - loss: 0.3010 - accuracy: 0.9286 - val_loss: 0.2538 - val_accuracy: 1.0000\n",
      "Epoch 266/300\n",
      "3/3 [==============================] - 0s 10ms/step - loss: 0.3126 - accuracy: 0.9143 - val_loss: 0.2523 - val_accuracy: 1.0000\n",
      "Epoch 267/300\n",
      "3/3 [==============================] - 0s 10ms/step - loss: 0.2463 - accuracy: 0.9571 - val_loss: 0.2507 - val_accuracy: 1.0000\n",
      "Epoch 268/300\n",
      "3/3 [==============================] - 0s 10ms/step - loss: 0.2491 - accuracy: 0.9571 - val_loss: 0.2493 - val_accuracy: 1.0000\n",
      "Epoch 269/300\n",
      "3/3 [==============================] - 0s 10ms/step - loss: 0.3254 - accuracy: 0.9286 - val_loss: 0.2478 - val_accuracy: 1.0000\n",
      "Epoch 270/300\n",
      "3/3 [==============================] - 0s 10ms/step - loss: 0.3083 - accuracy: 0.9571 - val_loss: 0.2465 - val_accuracy: 1.0000\n",
      "Epoch 271/300\n",
      "3/3 [==============================] - 0s 10ms/step - loss: 0.3222 - accuracy: 0.9429 - val_loss: 0.2448 - val_accuracy: 1.0000\n",
      "Epoch 272/300\n",
      "3/3 [==============================] - 0s 10ms/step - loss: 0.3228 - accuracy: 0.9429 - val_loss: 0.2434 - val_accuracy: 1.0000\n",
      "Epoch 273/300\n",
      "3/3 [==============================] - 0s 10ms/step - loss: 0.3077 - accuracy: 0.9429 - val_loss: 0.2419 - val_accuracy: 1.0000\n",
      "Epoch 274/300\n",
      "3/3 [==============================] - 0s 10ms/step - loss: 0.3118 - accuracy: 0.9286 - val_loss: 0.2400 - val_accuracy: 1.0000\n",
      "Epoch 275/300\n",
      "3/3 [==============================] - 0s 10ms/step - loss: 0.2318 - accuracy: 0.9857 - val_loss: 0.2384 - val_accuracy: 1.0000\n",
      "Epoch 276/300\n",
      "3/3 [==============================] - 0s 10ms/step - loss: 0.2765 - accuracy: 0.9429 - val_loss: 0.2369 - val_accuracy: 1.0000\n",
      "Epoch 277/300\n",
      "3/3 [==============================] - 0s 10ms/step - loss: 0.3246 - accuracy: 0.9714 - val_loss: 0.2354 - val_accuracy: 1.0000\n",
      "Epoch 278/300\n",
      "3/3 [==============================] - 0s 10ms/step - loss: 0.2583 - accuracy: 0.9857 - val_loss: 0.2337 - val_accuracy: 1.0000\n",
      "Epoch 279/300\n",
      "3/3 [==============================] - 0s 10ms/step - loss: 0.2525 - accuracy: 0.9714 - val_loss: 0.2322 - val_accuracy: 1.0000\n",
      "Epoch 280/300\n",
      "3/3 [==============================] - 0s 10ms/step - loss: 0.3049 - accuracy: 0.9571 - val_loss: 0.2309 - val_accuracy: 1.0000\n",
      "Epoch 281/300\n",
      "3/3 [==============================] - 0s 10ms/step - loss: 0.2760 - accuracy: 0.9571 - val_loss: 0.2299 - val_accuracy: 1.0000\n",
      "Epoch 282/300\n",
      "3/3 [==============================] - 0s 9ms/step - loss: 0.2643 - accuracy: 0.9714 - val_loss: 0.2289 - val_accuracy: 1.0000\n",
      "Epoch 283/300\n",
      "3/3 [==============================] - 0s 10ms/step - loss: 0.2970 - accuracy: 0.9429 - val_loss: 0.2282 - val_accuracy: 1.0000\n",
      "Epoch 284/300\n",
      "3/3 [==============================] - 0s 10ms/step - loss: 0.2306 - accuracy: 0.9857 - val_loss: 0.2279 - val_accuracy: 1.0000\n",
      "Epoch 285/300\n",
      "3/3 [==============================] - 0s 10ms/step - loss: 0.2476 - accuracy: 0.9571 - val_loss: 0.2273 - val_accuracy: 0.9667\n",
      "Epoch 286/300\n",
      "3/3 [==============================] - 0s 10ms/step - loss: 0.2301 - accuracy: 0.9571 - val_loss: 0.2266 - val_accuracy: 0.9667\n",
      "Epoch 287/300\n",
      "3/3 [==============================] - 0s 10ms/step - loss: 0.2332 - accuracy: 0.9571 - val_loss: 0.2247 - val_accuracy: 0.9667\n",
      "Epoch 288/300\n",
      "3/3 [==============================] - 0s 10ms/step - loss: 0.2090 - accuracy: 0.9571 - val_loss: 0.2231 - val_accuracy: 0.9667\n",
      "Epoch 289/300\n",
      "3/3 [==============================] - 0s 10ms/step - loss: 0.2080 - accuracy: 1.0000 - val_loss: 0.2217 - val_accuracy: 0.9667\n",
      "Epoch 290/300\n",
      "3/3 [==============================] - 0s 10ms/step - loss: 0.3598 - accuracy: 0.9286 - val_loss: 0.2207 - val_accuracy: 0.9667\n",
      "Epoch 291/300\n",
      "3/3 [==============================] - 0s 9ms/step - loss: 0.2425 - accuracy: 0.9571 - val_loss: 0.2197 - val_accuracy: 0.9667\n",
      "Epoch 292/300\n",
      "3/3 [==============================] - 0s 10ms/step - loss: 0.3230 - accuracy: 0.9286 - val_loss: 0.2190 - val_accuracy: 0.9667\n",
      "Epoch 293/300\n",
      "3/3 [==============================] - 0s 10ms/step - loss: 0.2391 - accuracy: 0.9857 - val_loss: 0.2189 - val_accuracy: 0.9667\n",
      "Epoch 294/300\n",
      "3/3 [==============================] - 0s 10ms/step - loss: 0.2487 - accuracy: 0.9286 - val_loss: 0.2182 - val_accuracy: 0.9667\n",
      "Epoch 295/300\n",
      "3/3 [==============================] - 0s 10ms/step - loss: 0.2255 - accuracy: 0.9571 - val_loss: 0.2170 - val_accuracy: 0.9667\n",
      "Epoch 296/300\n",
      "3/3 [==============================] - 0s 10ms/step - loss: 0.2225 - accuracy: 0.9714 - val_loss: 0.2159 - val_accuracy: 0.9667\n",
      "Epoch 297/300\n",
      "3/3 [==============================] - 0s 10ms/step - loss: 0.2544 - accuracy: 0.9429 - val_loss: 0.2150 - val_accuracy: 0.9667\n",
      "Epoch 298/300\n",
      "3/3 [==============================] - 0s 10ms/step - loss: 0.2567 - accuracy: 0.9429 - val_loss: 0.2142 - val_accuracy: 0.9667\n",
      "Epoch 299/300\n",
      "3/3 [==============================] - 0s 10ms/step - loss: 0.3402 - accuracy: 0.9143 - val_loss: 0.2131 - val_accuracy: 0.9667\n",
      "Epoch 300/300\n",
      "3/3 [==============================] - 0s 10ms/step - loss: 0.2138 - accuracy: 1.0000 - val_loss: 0.2120 - val_accuracy: 0.9667\n"
     ]
    }
   ],
   "source": [
    "hist_pca = model.fit(x_train_pca, y_train_pca, epochs=300, validation_data=(x_test_pca, y_test_pca))"
   ]
  },
  {
   "cell_type": "code",
   "execution_count": 33,
   "metadata": {},
   "outputs": [
    {
     "name": "stdout",
     "output_type": "stream",
     "text": [
      "Train loss: 0.10840322822332382\n",
      "Train acc: 0.9857142567634583\n"
     ]
    }
   ],
   "source": [
    "loss_pca, acc_pca = model.evaluate(x_train_pca, y_train_pca, verbose=0)\n",
    "print(\"Train loss:\", loss_pca)\n",
    "print(\"Train acc:\", acc_pca)"
   ]
  },
  {
   "cell_type": "code",
   "execution_count": 34,
   "metadata": {},
   "outputs": [
    {
     "name": "stdout",
     "output_type": "stream",
     "text": [
      "Test loss: 0.21204927563667297\n",
      "Test acc: 0.9666666388511658\n"
     ]
    }
   ],
   "source": [
    "loss_pca, acc_pca = model.evaluate(x_test_pca, y_test_pca, verbose=0)\n",
    "print(\"Test loss:\", loss_pca)\n",
    "print(\"Test acc:\", acc_pca)"
   ]
  },
  {
   "cell_type": "code",
   "execution_count": 35,
   "metadata": {},
   "outputs": [
    {
     "data": {
      "image/png": "[encoded data removed]",
      "text/plain": [
       "<Figure size 432x288 with 1 Axes>"
      ]
     },
     "metadata": {
      "needs_background": "light"
     },
     "output_type": "display_data"
    }
   ],
   "source": [
    "plt.plot(hist_pca.history['accuracy'])\n",
    "plt.plot(hist_pca.history['val_accuracy'])\n",
    "plt.title('Acuracia por epoca')\n",
    "plt.xlabel('épocas')\n",
    "plt.ylabel('acurácia')\n",
    "plt.legend(['treino', 'validacao'])\n",
    "plt.show()"
   ]
  },
  {
   "cell_type": "code",
   "execution_count": 36,
   "metadata": {},
   "outputs": [
    {
     "data": {
      "image/png": "[encoded data removed]",
      "text/plain": [
       "<Figure size 432x288 with 1 Axes>"
      ]
     },
     "metadata": {
      "needs_background": "light"
     },
     "output_type": "display_data"
    }
   ],
   "source": [
    "plt.plot(hist_pca.history['loss'])\n",
    "plt.plot(hist_pca.history['val_loss'])\n",
    "plt.title('Perda por epoca')\n",
    "plt.xlabel('épocas')\n",
    "plt.ylabel('perda')\n",
    "plt.legend(['treino', 'validacao'])\n",
    "plt.show()"
   ]
  },
  {
   "cell_type": "code",
   "execution_count": 38,
   "metadata": {},
   "outputs": [],
   "source": [
    "model.save(\"final_model_pca.h5\")"
   ]
  },
  {
   "cell_type": "code",
   "execution_count": null,
   "metadata": {},
   "outputs": [],
   "source": []
  },
  {
   "cell_type": "code",
   "execution_count": null,
   "metadata": {},
   "outputs": [],
   "source": []
  }
 ],
 "metadata": {
  "interpreter": {
   "hash": "e24f5c8f47ce628df06e6a418f439355aaed4f63445fc5001ab64130bd080cd8"
  },
  "kernelspec": {
   "display_name": "Python 3.9.7 ('.cargas_eletricas': venv)",
   "language": "python",
   "name": "python3"
  },
  "language_info": {
   "codemirror_mode": {
    "name": "ipython",
    "version": 3
   },
   "file_extension": ".py",
   "mimetype": "text/x-python",
   "name": "python",
   "nbconvert_exporter": "python",
   "pygments_lexer": "ipython3",
   "version": "3.9.7"
  },
  "orig_nbformat": 4
 },
 "nbformat": 4,
 "nbformat_minor": 2
}
